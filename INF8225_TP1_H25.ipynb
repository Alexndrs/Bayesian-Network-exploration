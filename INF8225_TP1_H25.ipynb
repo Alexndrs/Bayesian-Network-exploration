{
  "cells": [
    {
      "cell_type": "markdown",
      "metadata": {
        "id": "view-in-github",
        "colab_type": "text"
      },
      "source": [
        "<a href=\"https://colab.research.google.com/github/Alexndrs/Bayesian-Network-exploration/blob/main/INF8225_TP1_H25.ipynb\" target=\"_parent\"><img src=\"https://colab.research.google.com/assets/colab-badge.svg\" alt=\"Open In Colab\"/></a>"
      ]
    },
    {
      "cell_type": "markdown",
      "metadata": {
        "id": "OAHWMYJv4xuc"
      },
      "source": [
        "# INF8225 TP1 H25 (v2.0)"
      ]
    },
    {
      "cell_type": "markdown",
      "metadata": {
        "id": "qV-6EDgXO-S9"
      },
      "source": [
        "Alexandre - Dréan / 2408681 ########\n",
        "\n",
        "Partie 3 réalisée: [seul(e)]\n",
        "ou avec\n",
        "[Prénom - NOM -\n",
        "Matricule ########]\n",
        "\n",
        "Date limite :\n",
        "\n",
        "20h30 le 6 février 2025 (Partie 1 et 2)\n",
        "\n",
        "20h30 le 20 février 2025 (Partie 3)\n",
        "\n",
        "Remettez votre fichier Colab sur Moodle en 2 formats: **.pdf** ET **.ipynb**"
      ]
    },
    {
      "cell_type": "markdown",
      "metadata": {
        "id": "Jo2CPniBeytl"
      },
      "source": [
        "**Comment utiliser**:\n",
        "\n",
        "Il faut copier ce notebook dans vos dossiers pour avoir une version que vous pouvez modifier, voici deux façons de le faire:\n",
        "* File / Save a copy in Drive ...\n",
        "* File / Download .ipynb\n",
        "\n",
        "**Pour utiliser un GPU**\n",
        "\n",
        "Runtime / Change Runtime Type / Hardware Accelerator / GPU"
      ]
    },
    {
      "cell_type": "markdown",
      "metadata": {
        "id": "fqfqhDoL5CfA"
      },
      "source": [
        "# Partie 2 (20 points)"
      ]
    },
    {
      "cell_type": "markdown",
      "metadata": {
        "id": "ZjIVlyRq5CjA"
      },
      "source": [
        "## Objectif\n",
        "\n",
        "L’objectif de la partie 2 du travail pratique est de permettre à l’étudiant de se familiariser avec l’apprentissage automatique via la régression logistique. Nous allons donc résoudre un problème de classification d'images en utilisant l’approche de descente du gradient (gradient descent) pour optimiser la log-vraisemblance négative (negative log-likelihood) comme fonction de perte.\n",
        "\n",
        "L'algorithme à implémenter est une variation de descente de gradient qui s’appelle l’algorithme de descente de gradient stochastique par mini-ensemble (mini-batch stochastic gradient descent).  Votre objectif est d’écrire un programme en Python pour optimiser les paramètres d’un modèle étant donné un ensemble de données d’apprentissage, en utilisant un ensemble de validation pour déterminer quand arrêter l'optimisation, et finalement de montrer la performance sur l’ensemble du test."
      ]
    },
    {
      "cell_type": "markdown",
      "metadata": {
        "id": "vFxYYRQJ5Cnb"
      },
      "source": [
        "## Théorie: la régression logistique et le calcul du gradient\n",
        "\n",
        "\n",
        "Il est possible d’encoder l’information concernant l’étiquetage avec des vecteurs multinomiaux (one-hot vectors), c.-à-d. un vecteur de zéros avec un seul 1 pour indiquer quand la classe $C=k$ dans la dimension $k$. Par exemple, le vecteur $\\mathbf{y}=[0, 1, 0, \\cdots, 0]^T$ représente la deuxième classe. Les caractéristiques (features) sont données par des vecteurs $\\mathbf{x}_i \\in \\mathbb{R}^{D}$. En définissant les paramètres de notre modèle comme : $\\mathbf{W}=[\\mathbf{w}_1, \\cdots, \\mathbf{w}_K]^T$ et $\\mathbf{b}=[b_1, b_2, \\cdots  b_K]^T$ et la fonction softmax comme fonction de sortie, on peut exprimer notre modèle sous la forme :\n",
        "\\begin{eqnarray}\n",
        "    p(\\mathbf{y}|\\mathbf{x})\n",
        "    &=& \\frac{\\exp(\\mathbf{y}^T \\mathbf{W} \\mathbf{x} + \\mathbf{y}^T \\mathbf{b})}{\\sum_{\\mathbf{y}_k \\in \\mathscr{Y}} \\exp(\\mathbf{y}_k^T \\mathbf{W} \\mathbf{x} + \\mathbf{y}_k^T \\mathbf{b})}\n",
        "\\end{eqnarray}\n",
        "L'ensemble de données consiste de $n$ paires (label, input) de la forme $\\mathscr{D}:=(\\mathbf{\\tilde{y}}_i, \\mathbf{\\tilde{x}}_i)_{i=1}^n$, où nous utilisons l'astuce de redéfinir $\\mathbf{\\tilde{x}}_i = [\\mathbf{\\tilde{x}}_i^T 1]^T$ et nous redéfinissions la matrice de paramètres $\\boldsymbol{\\theta} \\in \\mathbb{R}^{K\\times(D+1)}$ (voir des notes de cours pour la relation entre $\\boldsymbol{\\theta}$ et $\\mathbf{W}$). Notre fonction de perte, la log-vraisemblance négative des données selon notre modèle est définie comme:\n",
        "\\begin{equation}\n",
        "    \\mathscr{L}\\big( \\boldsymbol{\\theta}, \\mathscr{D} \\big) := -\\log \\prod_{i=1}^N P(\\mathbf{\\tilde{y}}_i|\\mathbf{\\tilde{x}}_i; \\boldsymbol{\\theta})\n",
        "\\end{equation}\n",
        "Pour cette partie du TP, nous avons calculé pour vous le gradient de la fonction de perte par rapport par rapport aux paramètres du modèle:\n",
        "\\begin{eqnarray}\n",
        "    \\frac{\\partial}{\\partial \\boldsymbol{\\theta}} \\mathscr{L}\\big( \\boldsymbol{\\theta}, \\mathscr{D} \\big)\n",
        "    &=& -\\sum_{i=1}^N \\frac{\\partial}{\\partial \\boldsymbol{\\theta}} \\Bigg\\{\\log \\Bigg(\\frac{\\exp(\\mathbf{\\tilde{y}}_i^T \\boldsymbol{\\theta} \\mathbf{\\tilde{x}}_i)}{\\sum_{\\mathbf{y}_k \\in \\mathscr{Y}} \\exp(\\mathbf{y}_k^T \\boldsymbol{\\theta} \\mathbf{\\tilde{x}}_i)} \\Bigg) \\Bigg\\} \\\\\n",
        "    &=& -\\sum_{i=1}^N \\left(\\mathbf{\\tilde{y}}_i \\mathbf{\\tilde{x}}^T_i- \\sum_{\\mathbf{y}_k \\in \\mathscr{Y}} P(\\mathbf{y}_k|\\mathbf{\\tilde{x}}_i,\\boldsymbol{\\theta}) \\mathbf{y}_k \\mathbf{\\tilde{x}}^T_i \\right) \\\\\n",
        "    &=& \\sum_{i=1}^N \\mathbf{\\hat{p}}_i \\mathbf{\\tilde{x}}^T_i - \\sum_{i=1}^N \\mathbf{\\tilde{y}}_i \\mathbf{\\tilde{x}}^T_i\n",
        "\\end{eqnarray}\n",
        "où $\\mathbf{\\hat{p}}_i$ est un vecteur de probabilités produit par le modèle pour l'exemple $\\mathbf{\\tilde{x}}_i$ et $\\mathbf{\\tilde{y}}_i$ est le vrai *label* pour ce même exemple.\n",
        "\n",
        "Finalement, il reste à discuter de l'évaluation du modèle. Pour la tâche d'intérêt, qui est une instance du problème de classification, il existe plusieurs métriques pour mesurer les performances du modèle la précision de classification, l'erreur de classification, le taux de faux/vrai positifs/négatifs, etc. Habituellement dans le contexte de l'apprentissage automatique, la précision est la plus commune.\n",
        "\n",
        "La précision est définie comme le rapport du nombre d'échantillons bien classés sur le nombre total d'échantillons à classer:\n",
        "$$\n",
        "\\tau_{acc} := \\frac{|\\mathscr{C}|}{|\\mathscr{D}|}\n",
        "$$\n",
        "où l'ensemble des échantillons bien classés $\\mathscr{C}$ est:\n",
        "$$\n",
        "\\mathscr{C} := \\lbrace (\\mathbf{x}, \\mathbf{y}) \\in \\mathscr{D} \\, | \\, \\underset{k}{\\arg\\max} \\, \\, P(\\cdot|\\mathbf{\\tilde{x}}_i; \\boldsymbol{\\theta})_k = \\underset{k}{\\arg\\max} \\, \\, \\tilde{y}_{i,k} \\rbrace\n",
        "$$\n",
        "En mots, il s'agit du sous-ensemble d'échantillons pour lesquels la classe la plus probable selon notre modèle correspond à la vraie classe."
      ]
    },
    {
      "cell_type": "markdown",
      "metadata": {
        "id": "Ffr5uSLRzkkY"
      },
      "source": []
    },
    {
      "cell_type": "markdown",
      "metadata": {
        "id": "x3wjjnIDGHZj"
      },
      "source": [
        "## Description des tâches\n",
        "\n",
        "#### 1. Code à compléter\n",
        "\n",
        "On vous demande de compléter l'extrait de code ci-dessous pour résoudre ce problème. Vous devez utiliser la librairie PyTorch cette partie du TP: https://pytorch.org/docs/stable/index.html. Mettez à jour les paramètres de votre modèle avec la descente par *mini-batch*. Exécutez des expériences avec trois différents ensembles: un ensemble d’apprentissages avec 90\\% des exemples (choisis au hasard), un ensemble de validation avec 10\\%. Utilisez uniquement l'ensemble de test pour obtenir votre meilleur résultat une fois que vous pensez avoir obtenu votre meilleure stratégie pour entraîner le modèle.\n",
        "\n",
        "#### 2. Rapport à rédiger\n",
        "\n",
        "Présentez vos résultats dans un rapport. Ce rapport devrait inclure:\n",
        "\n",
        "- **Recherche d'hyperparamètres:** Faites une recherche d'hyperparamètres pour différents taux d'apprentissage, e.g. 0.1, 0.01, 0.001, et différentes tailles de mini-batch, e.g. 1, 20, 200, 1000 pour des modèles entrainés avec SGD. Présentez dans un tableau la précision finale du modèle, sur l'*ensemble de validation*, pour ces différentes combinaisons d'hyperparamètres.\n",
        "\n",
        "- **Analyse du meilleur modèle:** Pour votre meilleur modèle, présentez deux figures montrant la progression de son apprentissage sur l'*ensembe d'entrainement et l'ensemble de validation*. La première figure montrant les courbes de log-vraisemblance négative moyenne après chaque epoch, la deuxième montrant la précision du modèle après chaque epoch. Finalement donnez la précision finale sur l'ensemble de test.\n",
        "\n",
        "- **Lire l'article de recherche -\n",
        "Adam**: a method for stochastic optimization. Kingma, D., \\& Ba, J. (2015). International Conference on Learning Representation (ICLR).\n",
        "https://arxiv.org/pdf/1412.6980.pdf. Implémentez Adam, répétez les deux étapes précédentes (recherche d'hyperparamètres et analyse du meilleur modèle) cette fois en utilisat Adam, et comparez les performances finales avec votre meilleur modèle SGD.\n",
        "\n",
        "**IMPORTANT**\n",
        "\n",
        "L'objectif du TP est de vous faire implémenter la rétropropagation à la main. **Il est donc interdit d'utiliser les capacités de construction de modèles ou de différentiation automatique de pytorch -- par exemple, aucun appels à torch.nn, torch.autograd ou à la méthode .backward().** L'objectif est d'implémenter un modèle de classification logistique ainsi que son entainement en utilisant uniquement des opérations matricielles de base fournies par PyTorch e.g. torch.sum(), torch.matmul(), etc."
      ]
    },
    {
      "cell_type": "markdown",
      "metadata": {
        "id": "oQq0nDgZuMfs"
      },
      "source": [
        "## Fonctions fournies"
      ]
    },
    {
      "cell_type": "code",
      "execution_count": 2,
      "metadata": {
        "colab": {
          "base_uri": "https://localhost:8080/"
        },
        "id": "-U_jhXT_0Cbs",
        "outputId": "9dcff6a3-4dae-4aca-9997-430b5e3c06cd"
      },
      "outputs": [
        {
          "output_type": "stream",
          "name": "stdout",
          "text": [
            "Downloading http://fashion-mnist.s3-website.eu-central-1.amazonaws.com/train-images-idx3-ubyte.gz\n",
            "Downloading http://fashion-mnist.s3-website.eu-central-1.amazonaws.com/train-images-idx3-ubyte.gz to ./dataset/FashionMNIST/raw/train-images-idx3-ubyte.gz\n"
          ]
        },
        {
          "output_type": "stream",
          "name": "stderr",
          "text": [
            "100%|██████████| 26.4M/26.4M [00:02<00:00, 10.9MB/s]\n"
          ]
        },
        {
          "output_type": "stream",
          "name": "stdout",
          "text": [
            "Extracting ./dataset/FashionMNIST/raw/train-images-idx3-ubyte.gz to ./dataset/FashionMNIST/raw\n",
            "\n",
            "Downloading http://fashion-mnist.s3-website.eu-central-1.amazonaws.com/train-labels-idx1-ubyte.gz\n",
            "Downloading http://fashion-mnist.s3-website.eu-central-1.amazonaws.com/train-labels-idx1-ubyte.gz to ./dataset/FashionMNIST/raw/train-labels-idx1-ubyte.gz\n"
          ]
        },
        {
          "output_type": "stream",
          "name": "stderr",
          "text": [
            "100%|██████████| 29.5k/29.5k [00:00<00:00, 204kB/s]\n"
          ]
        },
        {
          "output_type": "stream",
          "name": "stdout",
          "text": [
            "Extracting ./dataset/FashionMNIST/raw/train-labels-idx1-ubyte.gz to ./dataset/FashionMNIST/raw\n",
            "\n",
            "Downloading http://fashion-mnist.s3-website.eu-central-1.amazonaws.com/t10k-images-idx3-ubyte.gz\n",
            "Downloading http://fashion-mnist.s3-website.eu-central-1.amazonaws.com/t10k-images-idx3-ubyte.gz to ./dataset/FashionMNIST/raw/t10k-images-idx3-ubyte.gz\n"
          ]
        },
        {
          "output_type": "stream",
          "name": "stderr",
          "text": [
            "100%|██████████| 4.42M/4.42M [00:01<00:00, 3.75MB/s]\n"
          ]
        },
        {
          "output_type": "stream",
          "name": "stdout",
          "text": [
            "Extracting ./dataset/FashionMNIST/raw/t10k-images-idx3-ubyte.gz to ./dataset/FashionMNIST/raw\n",
            "\n",
            "Downloading http://fashion-mnist.s3-website.eu-central-1.amazonaws.com/t10k-labels-idx1-ubyte.gz\n",
            "Downloading http://fashion-mnist.s3-website.eu-central-1.amazonaws.com/t10k-labels-idx1-ubyte.gz to ./dataset/FashionMNIST/raw/t10k-labels-idx1-ubyte.gz\n"
          ]
        },
        {
          "output_type": "stream",
          "name": "stderr",
          "text": [
            "100%|██████████| 5.15k/5.15k [00:00<00:00, 26.8MB/s]"
          ]
        },
        {
          "output_type": "stream",
          "name": "stdout",
          "text": [
            "Extracting ./dataset/FashionMNIST/raw/t10k-labels-idx1-ubyte.gz to ./dataset/FashionMNIST/raw\n",
            "\n"
          ]
        },
        {
          "output_type": "stream",
          "name": "stderr",
          "text": [
            "\n",
            "/usr/local/lib/python3.11/dist-packages/torch/utils/data/dataloader.py:617: UserWarning: This DataLoader will create 4 worker processes in total. Our suggested max number of worker in current system is 2, which is smaller than what this DataLoader is going to create. Please be aware that excessive worker creation might get DataLoader running slow or even freeze, lower the worker number to avoid potential slowness/freeze if necessary.\n",
            "  warnings.warn(\n"
          ]
        }
      ],
      "source": [
        "# fonctions pour charger les ensembles de donnees\n",
        "from torchvision.datasets import FashionMNIST\n",
        "from torchvision import transforms\n",
        "import torch\n",
        "import numpy as np\n",
        "from torch.utils.data import DataLoader, random_split\n",
        "from tqdm import tqdm\n",
        "import matplotlib.pyplot as plt\n",
        "\n",
        "def get_fashion_mnist_dataloaders(val_percentage=0.1, batch_size=1):\n",
        "  dataset = FashionMNIST(\"./dataset\", train=True,  download=True, transform=transforms.Compose([transforms.ToTensor()]))\n",
        "  dataset_test = FashionMNIST(\"./dataset\", train=False,  download=True, transform=transforms.Compose([transforms.ToTensor()]))\n",
        "  len_train = int(len(dataset) * (1.-val_percentage))\n",
        "  len_val = len(dataset) - len_train\n",
        "  dataset_train, dataset_val = random_split(dataset, [len_train, len_val])\n",
        "  data_loader_train = DataLoader(dataset_train, batch_size=batch_size,shuffle=True,num_workers=4)\n",
        "  data_loader_val   = DataLoader(dataset_val, batch_size=batch_size,shuffle=True,num_workers=4)\n",
        "  data_loader_test  = DataLoader(dataset_test, batch_size=batch_size,shuffle=True,num_workers=4)\n",
        "  return data_loader_train, data_loader_val, data_loader_test\n",
        "\n",
        "def reshape_input(x, y):\n",
        "    x = x.view(-1, 784)\n",
        "    y = torch.FloatTensor(len(y), 10).zero_().scatter_(1,y.view(-1,1),1)\n",
        "    return x, y\n",
        "\n",
        "\n",
        "# call this once first to download the datasets\n",
        "_ = get_fashion_mnist_dataloaders()"
      ]
    },
    {
      "cell_type": "code",
      "execution_count": 3,
      "metadata": {
        "id": "9H5BnbgAOpio"
      },
      "outputs": [],
      "source": [
        "# simple logger to track progress during training\n",
        "class Logger:\n",
        "    def __init__(self):\n",
        "        self.losses_train = []\n",
        "        self.losses_valid = []\n",
        "        self.accuracies_train = []\n",
        "        self.accuracies_valid = []\n",
        "\n",
        "    def log(self, accuracy_train=0, loss_train=0, accuracy_valid=0, loss_valid=0):\n",
        "        self.losses_train.append(loss_train)\n",
        "        self.accuracies_train.append(accuracy_train)\n",
        "        self.losses_valid.append(loss_valid)\n",
        "        self.accuracies_valid.append(accuracy_valid)\n",
        "\n",
        "    def plot_loss_and_accuracy(self, train=True, valid=True):\n",
        "\n",
        "        assert train and valid, \"Cannot plot accuracy because neither train nor valid.\"\n",
        "\n",
        "        figure, (ax1, ax2) = plt.subplots(nrows=1, ncols=2,\n",
        "                                            figsize=(12, 6))\n",
        "\n",
        "        if train:\n",
        "            ax1.plot(self.losses_train, label=\"Training\")\n",
        "            ax2.plot(self.accuracies_train, label=\"Training\")\n",
        "        if valid:\n",
        "            ax1.plot(self.losses_valid, label=\"Validation\")\n",
        "            ax1.set_title(\"CrossEntropy Loss\")\n",
        "            ax2.plot(self.accuracies_valid, label=\"Validation\")\n",
        "            ax2.set_title(\"Accuracy\")\n",
        "\n",
        "        for ax in figure.axes:\n",
        "            ax.set_xlabel(\"Epoch\")\n",
        "            ax.legend(loc='best')\n",
        "            ax.set_axisbelow(True)\n",
        "            ax.minorticks_on()\n",
        "            ax.grid(True, which=\"major\", linestyle='-')\n",
        "            ax.grid(True, which=\"minor\", linestyle='--', color='lightgrey', alpha=.4)\n",
        "\n",
        "    def print_last(self):\n",
        "        print(f\"Epoch {len(self.losses_train):2d}, \\\n",
        "                Train:loss={self.losses_train[-1]:.3f}, accuracy={self.accuracies_train[-1]*100:.1f}%, \\\n",
        "                Valid: loss={self.losses_valid[-1]:.3f}, accuracy={self.losses_valid[-1]*100:.1f}%\", flush=True)"
      ]
    },
    {
      "cell_type": "markdown",
      "metadata": {
        "id": "vAJ5iiRUZw3f"
      },
      "source": [
        "## Aperçu de l'ensemble de données FashionMnist"
      ]
    },
    {
      "cell_type": "code",
      "execution_count": null,
      "metadata": {
        "colab": {
          "base_uri": "https://localhost:8080/",
          "height": 380
        },
        "id": "fK-eNmc8Zv2d",
        "outputId": "74256e66-ebaf-480c-bbb4-d40bcff50a5b"
      },
      "outputs": [
        {
          "data": {
            "image/png": "[encoded data removed]",
            "text/plain": [
              "<Figure size 750x400 with 10 Axes>"
            ]
          },
          "metadata": {},
          "output_type": "display_data"
        }
      ],
      "source": [
        "def plot_samples():\n",
        "  a, _, _ = get_fashion_mnist_dataloaders()\n",
        "  num_row = 2\n",
        "  num_col = 5# plot images\n",
        "  num_images = num_row * num_col\n",
        "  fig, axes = plt.subplots(num_row, num_col, figsize=(1.5*num_col,2*num_row))\n",
        "  for i, (x,y) in enumerate(a):\n",
        "      if i >= num_images:\n",
        "        break\n",
        "      ax = axes[i//num_col, i%num_col]\n",
        "      x = (x.numpy().squeeze() * 255).astype(int)\n",
        "      y = y.numpy()[0]\n",
        "      ax.imshow(x, cmap='gray')\n",
        "      ax.set_title(f\"Label: {y}\")\n",
        "\n",
        "  plt.tight_layout()\n",
        "  plt.show()\n",
        "plot_samples()"
      ]
    },
    {
      "cell_type": "markdown",
      "metadata": {
        "id": "IficnxEMMcNo"
      },
      "source": [
        "# Partie 3 (20 points)\n",
        "\n",
        "Pour cette partie, vous pouvez travailler en groupes de 2, mais il faut écrire sa propre dérivation et soumettre son propre rapport. Si vous travaillez avec un partenaire, il faut indiquer leur nom dans votre rapport."
      ]
    },
    {
      "cell_type": "markdown",
      "metadata": {
        "id": "Zmb_putke8pl"
      },
      "source": [
        "### Problème"
      ]
    },
    {
      "cell_type": "markdown",
      "metadata": {
        "id": "CRioLmIDMcP8"
      },
      "source": [
        "![picture](https://drive.google.com/uc?id=17_N7pIrf5pypQKiUh5cM7SX6raZUBcJC)\n",
        "\n",
        "Considérons maintenant un réseau de neurones avec une couche d'entrée avec $D=784$ unités, $L$ couches cachées, chacune avec 300 unités et un vecteur de sortie $\\mathbf{y}$ de dimension $K$. Vous avez $i = 1, .., N$ exemples dans un ensemble d'apprentissage, où chaque ${\\bf x}_i \\in \\mathbb{R}^{784}$ est un vecteur de caractéristiques (features). $\\mathbf{y}$ est un vecteur du type *one-hot* -- un vecteur de zéros avec un seul 1 pour indiquer que la classe $C=k$ dans la dimension $k$. Par exemple, le vecteur $\\mathbf{y}=[0, 1, 0, \\cdots, 0]^T$ représente la deuxième classe. La fonction de perte est donnée par\n",
        "\\begin{equation}\n",
        "\\mathscr{L} = -\\sum_{i=1}^{N}\\sum_{k=1}^{K}y_{k,i}\\log (f_k( {\\bf x}_i )  )\n",
        "\\end{equation}\n",
        "\n",
        "La fonction d'activation de la couche finale a la forme  ${\\bf f} = [f_1, ..., f_K]$ donné par la fonction d'activation softmax:\n",
        "\\begin{equation}\n",
        "f_k( {\\bf a}^{(L+1)}({\\bf x}_i) ) = \\frac{\\exp(a_k^{(L+1)})}{\\sum_{c=1}^{K}\\exp(a_c^{(L+1)})}, \\;\\;\\;\\;\n",
        "\\nonumber\n",
        "\\end{equation}\n",
        "\n",
        "et les couches cachées utilisent une fonction d'activation de type ReLU:\n",
        "\\begin{equation}\n",
        "  {\\bf h}^{(l)}({\\bf a}^{(l)}({\\bf x}_i)) = \\text{ReLU}({\\bf a}^{(l)}({\\bf x}_i) = \\max\\Big(0, \\, \\, {\\bf a}^{(l)}({\\bf x}_i)\\Big)\n",
        "\\end{equation}\n",
        "\n",
        "où ${\\bf a}^{(l)}$ est le vecteur résultant du calcul de la préactivation habituelle ${\\bf a}^{(l)}={\\bf W}^{(l)}{\\bf h}^{(l-1)} + {\\bf b}^{(l)}$, qui pourrait être simplifiée à ${\\boldsymbol \\theta}^{(l)}\\tilde{\\bf h}^{(l-1)}$ en utilisant l'astuce de définir $\\tilde{\\bf h}$ comme ${\\bf h}$ avec un 1 concaténé à la fin du vecteur.\n",
        "\n"
      ]
    },
    {
      "cell_type": "markdown",
      "metadata": {
        "id": "PzMpz3Zse0t9"
      },
      "source": [
        "### Questions"
      ]
    },
    {
      "cell_type": "markdown",
      "metadata": {
        "id": "wK8gnygxMcSh"
      },
      "source": [
        "* a) (10 points) Donnez le pseudocode incluant des *calculs matriciels—vectoriels* détaillés pour l'algorithme de rétropropagation pour calculer le gradient pour les paramètres de chaque couche **étant donné un exemple d'entraînement**."
      ]
    },
    {
      "cell_type": "markdown",
      "metadata": {
        "id": "Y431_w4gMcX2"
      },
      "source": [
        "* b) (15 points)\n",
        "Implémentez l'optimisation basée sur le gradient de ce réseau en Pytorch.\n",
        "Utilisez le code squelette ci-dessous comme point de départ et implémentez les mathématiques de l'algorithme de rétropropagation que vous avez décrit à la question précédente. Comparez vos gradients et votre optimisation avec le même modèle optimisé avec Autograd. Lequel est le plus rapide ? Proposez quelques expériences. Utilisez encore l'ensemble de données de Fashion MNIST (voir Partie 2). **Comparez différents modèles ayant différentes largeurs (nombre d'unités) et profondeurs (nombre de couches)**. Ici encore, n'utilisez l'ensemble de test que pour votre expérience finale lorsque vous pensez avoir obtenu votre meilleur modèle.\n",
        "\n",
        "\n",
        "**IMPORTANT**\n",
        "\n",
        "L'objectif du TP est de vous faire implémenter la rétropropagation à la main. L'objectif est d'implémenter un modèle de classification logistique ainsi que son entainement en utilisant uniquement des opérations matricielles de base fournies par PyTorch e.g. torch.sum(), torch.matmul(), etc. **Une fois que vous avez implémenté votre modèle, vous devez le comparer avec un modèle construit en utilisant les capacités de pytorch qui permettent une différenciation automatique. Autrement dit, pour la deuxième implémentation, vous pouvez utilisertorch.nn, torch.autograd ou à la méthode .backward().** Vous pouvez utiliser l’implémentation de votre choix pour explorer différentes architectures de modèles."
      ]
    },
    {
      "cell_type": "markdown",
      "metadata": {
        "id": "F1mpuG2cwER-"
      },
      "source": [
        "## Votre pseudocode:"
      ]
    },
    {
      "cell_type": "markdown",
      "metadata": {
        "id": "qY2X9goYwMDs"
      },
      "source": [
        "#### Algorithme de rétropopagation dans un réseau de neurones pour un exemple $\\tilde{x}_i$ :\n",
        "\n",
        "\n",
        "#### Les calules justifiant cet algorithme on été effectués dans le rapport joint.\n",
        "\n",
        "$x_i$ est noté simplement $x$ dans l'algo\n",
        "\n",
        "***Require***\n",
        "\n",
        ">$L$ (nombre de couches cachées),\n",
        "\n",
        ">$x$ (exemple de donnée d'entrainement),\n",
        "\n",
        ">$\\theta^{(l)}$ (poids des couches),\n",
        "\n",
        "> $\\tilde{h}^{(l)}$ (post-activation augmentée : issue de la forward prop de x à la couche $l$),\n",
        "\n",
        "> $a^{(l)}$ (pré-activation : issue de la forward prop de x à la couche $l$), $\\text{lr}$ (learning rate)\n",
        "\n",
        "**Initialisation *texte en italique* :**\n",
        "\n",
        "> $\\Delta^{(L+1)} \\gets y - y_{\\text{pred}}$\n",
        "\n",
        "> $\\text{grad}^{(L+1)} \\gets -\\Delta^{(L+1)} \\cdot (\\tilde{h}^{(L)})^T$\n",
        "\n",
        " ***For*** $l = L$ ***to*** $1$ :\n",
        "\n",
        "> $d^{(l)} \\gets \\text{relu_backward}(a^{(l)})$\n",
        "\n",
        ">$W^{(l+1)} \\gets \\theta^{(l+1)}$ sans la dernière ligne\n",
        "\n",
        ">$\\Delta^{(l)} \\gets d^{(l)} \\circ (W^{(l+1)T} \\cdot \\Delta^{(l+1)})$\n",
        "\n",
        ">$\\text{grad}^{(l)} \\gets -\\Delta^{(l)} \\cdot (\\tilde{h}^{(l-1)})^T$\n",
        "\n",
        "  **EndFor**\n",
        "\n",
        "  ***For*** $l = L+1$ ***to*** $1$ :\n",
        "  >$\\theta^{(l)} \\gets \\theta^{(l)} - \\text{lr} \\cdot \\text{grad}^{(l)}$\n",
        "  \n",
        "  **EndFor**"
      ]
    },
    {
      "cell_type": "markdown",
      "metadata": {
        "id": "SIQJD-TRwEdo"
      },
      "source": [
        "## Fonctions à compléter"
      ]
    },
    {
      "cell_type": "code",
      "execution_count": 4,
      "metadata": {
        "id": "JzIQ0S4qDPKJ"
      },
      "outputs": [],
      "source": [
        "''' Les fonctions dans cette cellule peuvent avoir les mêmes déclarations que celles de la partie 2'''\n",
        "def accuracy(y, y_pred) :\n",
        "    # todo : nombre d'éléments à classifier.\n",
        "    card_D = len(y)\n",
        "\n",
        "    # todo : calcul du nombre d'éléments bien classifiés.\n",
        "    y_pred_classes = torch.argmax(y_pred, dim=1)  # Indices des classes prédictes\n",
        "    y_true_classes = torch.argmax(y, dim=1)       # Indices des classes vraies\n",
        "    card_C = (y_pred_classes == y_true_classes).sum().item()\n",
        "\n",
        "    # todo : calcul de la précision de classification.\n",
        "    acc = card_C / card_D\n",
        "\n",
        "    return acc, (card_C, card_D)\n",
        "\n",
        "def accuracy_and_loss_whole_dataset(data_loader, model):\n",
        "    cardinal = 0\n",
        "    loss     = 0.\n",
        "    n_accurate_preds  = 0.\n",
        "\n",
        "    for x, y in data_loader:\n",
        "        x, y = reshape_input(x, y)\n",
        "        y_pred                = model.forward(x)\n",
        "        xentrp                = cross_entropy(y, y_pred)\n",
        "        _, (n_acc, n_samples) = accuracy(y, y_pred)\n",
        "\n",
        "        cardinal = cardinal + n_samples\n",
        "        loss     = loss + xentrp\n",
        "        n_accurate_preds  = n_accurate_preds + n_acc\n",
        "\n",
        "    loss = loss / float(cardinal)\n",
        "    acc  = n_accurate_preds / float(cardinal)\n",
        "\n",
        "    return acc, loss\n",
        "\n",
        "def inputs_tilde(x, axis=-1):\n",
        "    # augments the inputs `x` with ones along `axis`\n",
        "    # todo : implémenter code ici.\n",
        "    # On concatène une colonne de 1 pour le biais\n",
        "    ones = torch.ones(x.shape[0], 1)\n",
        "    x_tilde = torch.cat((x, ones), dim=axis)\n",
        "    return x_tilde\n",
        "\n",
        "def softmax(x, axis=-1):\n",
        "    # assurez vous que la fonction est numeriquement stable\n",
        "    # e.g. softmax(np.array([1000, 10000, 100000], ndim=2))\n",
        "    # todo : calcul des valeurs de softmax(x)\n",
        "\n",
        "    #On assume que les d'entrées sont les suivantes :\n",
        "\n",
        "    # x = [x_1, x_2 ... x_batchSize]\n",
        "    # x_1 = [w_observ1_classe0 . x_observ1_classe0 + b_observ1_classe0, w_observ1_classe1 . x_observ1_classe1 + b_observ1_classe1, ...]  (logit pour les différentes classes)\n",
        "\n",
        "    # Pour la stabilité comme softmax(x_i) = [exp(x_i[0]), exp(x_i[1]), ... , exp(x_i[K])] / sum(exp(x_i))\n",
        "    # si on divise en haut et en base bar exp(max(x_i)) on toujours l'égalité donc on peut juste retranché le logit le plus grand pour chaque batch afin d'avoir aucun exponentiel > 1 (non stable) à caculer\n",
        "\n",
        "    x_max = torch.amax(x, dim=axis, keepdim=True)\n",
        "    x_exp = torch.exp(x - x_max)\n",
        "    sum_exp = torch.sum(x_exp, dim=axis, keepdim=True)\n",
        "    values = x_exp / sum_exp\n",
        "    return values\n",
        "\n",
        "def cross_entropy(y, y_pred):\n",
        "    # todo : calcul de la valeur d'entropie croisée.\n",
        "    loss = -torch.sum(y * torch.log(y_pred + 1e-8)) / y.shape[0]\n",
        "    return loss\n",
        "\n",
        "def softmax_cross_entropy_backward(y, y_pred):\n",
        "     # todo : calcul de la valeur du gradient de l'entropie croisée composée avec `softmax`\n",
        "     # On a L = -\\sum_k y_k log(softmax_k) et on a montré que ce gradiant par rapport aux pré-activation (les a^(L+1) avant le softmax) donne\n",
        "     # dL/da^(L+1) = -\\Delta^(L+1) = -(y-y_pred)\n",
        "     values = -(y-y_pred)\n",
        "     return values\n",
        "\n",
        "def relu_forward(x):\n",
        "    # todo : calcul des valeurs de relu(x)\n",
        "    # Relu c'est juste le max valeurs par valeurs entre 0 et les valeurs de x, on évite d'utiliser torch.relu pour essayer de tout faire le plus possible à la main pour bien comprendre\n",
        "    values = torch.maximum(x, torch.tensor(0.0))\n",
        "    return values\n",
        "\n",
        "def relu_backward(x):\n",
        "    # todo : calcul des valeurs du gradient de la fonction `relu`\n",
        "    values = (x > 0).float()  # 1 si x > 0, sinon 0\n",
        "    return values\n",
        "\n",
        "\n",
        "# Model est une classe representant votre reseaux de neuronnes\n",
        "class MLPModel:\n",
        "    def __init__(self, n_features, n_hidden_features, n_hidden_layers, n_classes):\n",
        "        self.n_features        = n_features\n",
        "        self.n_hidden_features = n_hidden_features\n",
        "        self.n_hidden_layers   = n_hidden_layers\n",
        "        self.n_classes         = n_classes\n",
        "\n",
        "        # todo : initialiser la liste des paramètres Teta de l'estimateur.\n",
        "\n",
        "\n",
        "        self.params = []\n",
        "\n",
        "        # première couche theta^(1) : (n_hidden_features, n_features+1)\n",
        "        self.params.append(torch.randn(n_hidden_features, n_features+1) * torch.sqrt(torch.tensor(2.0/(n_features+1))))\n",
        "\n",
        "        # Couches cachées theta^(l) : (n_hidden_features, n_hidden_features + 1)\n",
        "        for _ in range(n_hidden_layers - 1):\n",
        "            self.params.append(torch.randn(n_hidden_features, n_hidden_features + 1) * torch.sqrt(torch.tensor(2.0/(n_hidden_features+1))))\n",
        "\n",
        "        # dernière couche theta^(L+1) : (n_classes, n_hidden_features + 1)\n",
        "        self.params.append(torch.randn(n_classes, n_hidden_features + 1) * torch.sqrt(torch.tensor(2.0/(n_hidden_features+1))))\n",
        "\n",
        "\n",
        "\n",
        "        print(f\"Teta params={[p.shape for p in self.params]}\")\n",
        "\n",
        "        self.a = None # liste contenant le resultat des multiplications matricielles\n",
        "        self.h = None # liste contenant le resultat des fonctions d'activations\n",
        "\n",
        "        self.t = 0\n",
        "        self.m_t = [] # pour Adam: moyennes mobiles du gradient\n",
        "        self.v_t = [] # pour Adam: moyennes mobiles du carré du gradient\n",
        "\n",
        "    def forward(self, x):\n",
        "\n",
        "      self.a = []\n",
        "      self.h = []\n",
        "      h = inputs_tilde(x, 1)\n",
        "      h = torch.transpose(h, 0, 1)\n",
        "      self.h.append(h)\n",
        "      l = 0\n",
        "      for theta in self.params[:-1]:\n",
        "        l+= 1\n",
        "        a = torch.matmul(theta, h)\n",
        "        self.a.append(a)\n",
        "        h = relu_forward(a)\n",
        "        h = torch.transpose(h, 0, 1)\n",
        "        h = inputs_tilde(h, 1)\n",
        "        h = torch.transpose(h, 0, 1)\n",
        "\n",
        "        self.h.append(h)\n",
        "      a = torch.matmul(self.params[-1], h)\n",
        "      self.a.append(a)\n",
        "      outputs = softmax(torch.transpose(a,0,1), 1)\n",
        "\n",
        "      return outputs\n",
        "\n",
        "    def backward(self, y, y_pred):\n",
        "      # todo : implémenter calcul des gradients.\n",
        "\n",
        "      #On fait les calcules comme si on avait un batch de taille 1 et donc des vecteurs colonnes pour les couches\n",
        "      y_pred = torch.transpose(y_pred,0,1)\n",
        "      y = torch.transpose(y,0,1)\n",
        "\n",
        "\n",
        "      delta = - softmax_cross_entropy_backward(y, y_pred)\n",
        "      deltas = [delta]\n",
        "      grads = []\n",
        "      for i in range(len(self.params)):\n",
        "        l = len(self.params)-1 - i\n",
        "        if l != len(self.params)-1:\n",
        "          # calculer delta^(l) en fonction du suivant delta^(l+1)\n",
        "          dl = relu_backward(self.a[l]) #vecteur issue de la matrice D^(l) issue de dh^(l)/da^(l)\n",
        "          W_next = self.params[l+1][:,:-1]\n",
        "          mult = torch.matmul(torch.transpose(W_next, 0,1), delta)\n",
        "          delta = dl * mult\n",
        "          deltas.append(delta)\n",
        "\n",
        "        grad = -torch.matmul(delta, torch.transpose(self.h[l],0,1))   #pas besoin de mettre h[l-1] car les h sont indicé en décalé par rapport au W et a car on a mis l'input tilde dans h au début et pas l'output\n",
        "        # print(f\"grad.shape : {grad.shape}\", \"\\n\")\n",
        "        grads.append(grad)\n",
        "\n",
        "      list.reverse(grads)\n",
        "      return grads\n",
        "\n",
        "    def sgd_update(self, lr, grads):\n",
        "      # TODO : implémenter mise à jour des paramètres ici.\n",
        "\n",
        "      for i in range(len(self.params)):\n",
        "        self.params[i] -= lr * grads[i]\n",
        "\n",
        "\n",
        "    def adam_update(self, lr, grads):\n",
        "      # TODO : implémenter mise à jour des paramètres ici.\n",
        "      beta1 = 0.9\n",
        "      beta2 = 0.999\n",
        "\n",
        "      if not self.m_t:\n",
        "        self.m_t = [torch.zeros_like(g) for g in grads]\n",
        "        self.v_t = [torch.zeros_like(g) for g in grads]\n",
        "\n",
        "\n",
        "      self.t += 1\n",
        "      for i in range(len(self.params)):\n",
        "        self.m_t[i] = beta1 * self.m_t[i] + (1 - beta1) * grads[i]\n",
        "        self.v_t[i] = beta2 * self.v_t[i] + (1 - beta2) * (grads[i]**2)\n",
        "        m = self.m_t[i] / (1 - beta1**self.t)\n",
        "        v = self.v_t[i] / (1 - beta2**self.t)\n",
        "        self.params[i] -= lr * m / (torch.sqrt(v) + 1e-8)\n",
        "\n",
        "def train(model, lr=0.1, nb_epochs=10, sgd=True, data_loader_train=None, data_loader_val=None):\n",
        "    best_model = None\n",
        "    best_val_accuracy = 0\n",
        "    logger = Logger()\n",
        "\n",
        "    for epoch in range(nb_epochs+1):\n",
        "\n",
        "        # at epoch 0 evaluate random initial model\n",
        "        #   then for subsequent epochs, do optimize before evaluation.\n",
        "        if epoch > 0:\n",
        "            for x, y in data_loader_train:\n",
        "                x, y = reshape_input(x, y)\n",
        "\n",
        "                y_pred = model.forward(x)\n",
        "                grads  = model.backward(y, y_pred)\n",
        "                if sgd:\n",
        "                  model.sgd_update(lr, grads)\n",
        "                else:\n",
        "                  model.adam_update(lr, grads)\n",
        "\n",
        "        accuracy_train, loss_train = accuracy_and_loss_whole_dataset(data_loader_train, model)\n",
        "        accuracy_val, loss_val = accuracy_and_loss_whole_dataset(data_loader_val, model)\n",
        "\n",
        "        if accuracy_val > best_val_accuracy:\n",
        "          best_val_accuracy = accuracy_val\n",
        "          best_model = model\n",
        "\n",
        "        logger.log(accuracy_train, loss_train, accuracy_val, loss_val)\n",
        "        print(f\"Epoch {epoch:2d}, \\\n",
        "                Train:loss={loss_train:.3f}, accuracy={accuracy_train*100:.1f}%, \\\n",
        "                Valid: loss={loss_val:.3f}, accuracy={accuracy_val*100:.1f}%\", flush=True)\n",
        "\n",
        "    return best_model, best_val_accuracy, logger"
      ]
    },
    {
      "cell_type": "markdown",
      "metadata": {
        "id": "tIe9DFvPwuQg"
      },
      "source": [
        "## Évaluation"
      ]
    },
    {
      "cell_type": "markdown",
      "metadata": {
        "id": "ml5jUvG9AUXK"
      },
      "source": [
        "### SGD: Recherche d'hyperparamètres"
      ]
    },
    {
      "cell_type": "code",
      "execution_count": 5,
      "metadata": {
        "colab": {
          "base_uri": "https://localhost:8080/"
        },
        "id": "fe7hyN63AUXL",
        "outputId": "505ae517-0c44-4541-f0e2-fadaabf2ce11"
      },
      "outputs": [
        {
          "output_type": "stream",
          "name": "stdout",
          "text": [
            "------------------------------------------------------------------\n",
            "Training model with a depth of 1 layers and a width of 25 units\n",
            "Teta params=[torch.Size([25, 785]), torch.Size([10, 26])]\n",
            "Epoch  0,                 Train:loss=0.052, accuracy=9.3%,                 Valid: loss=0.052, accuracy=9.6%\n",
            "Epoch  1,                 Train:loss=0.010, accuracy=82.6%,                 Valid: loss=0.010, accuracy=81.3%\n",
            "Epoch  2,                 Train:loss=0.009, accuracy=84.7%,                 Valid: loss=0.009, accuracy=83.7%\n",
            "Epoch  3,                 Train:loss=0.008, accuracy=85.6%,                 Valid: loss=0.009, accuracy=84.9%\n",
            "Epoch  4,                 Train:loss=0.008, accuracy=86.1%,                 Valid: loss=0.008, accuracy=85.0%\n",
            "Epoch  5,                 Train:loss=0.008, accuracy=86.8%,                 Valid: loss=0.008, accuracy=85.6%\n",
            "validation accuracy = 85.567\n",
            "------------------------------------------------------------------\n",
            "Training model with a depth of 1 layers and a width of 100 units\n",
            "Teta params=[torch.Size([100, 785]), torch.Size([10, 101])]\n",
            "Epoch  0,                 Train:loss=0.052, accuracy=9.7%,                 Valid: loss=0.052, accuracy=9.8%\n",
            "Epoch  1,                 Train:loss=0.009, accuracy=84.3%,                 Valid: loss=0.010, accuracy=83.2%\n",
            "Epoch  2,                 Train:loss=0.009, accuracy=84.9%,                 Valid: loss=0.009, accuracy=84.7%\n",
            "Epoch  3,                 Train:loss=0.008, accuracy=86.3%,                 Valid: loss=0.008, accuracy=86.1%\n",
            "Epoch  4,                 Train:loss=0.007, accuracy=86.7%,                 Valid: loss=0.008, accuracy=85.6%\n",
            "Epoch  5,                 Train:loss=0.007, accuracy=87.7%,                 Valid: loss=0.008, accuracy=86.3%\n",
            "validation accuracy = 86.267\n",
            "------------------------------------------------------------------\n",
            "Training model with a depth of 1 layers and a width of 300 units\n",
            "Teta params=[torch.Size([300, 785]), torch.Size([10, 301])]\n",
            "Epoch  0,                 Train:loss=0.050, accuracy=11.3%,                 Valid: loss=0.050, accuracy=11.2%\n",
            "Epoch  1,                 Train:loss=0.009, accuracy=83.8%,                 Valid: loss=0.009, accuracy=83.9%\n",
            "Epoch  2,                 Train:loss=0.008, accuracy=85.5%,                 Valid: loss=0.009, accuracy=85.2%\n",
            "Epoch  3,                 Train:loss=0.007, accuracy=87.1%,                 Valid: loss=0.008, accuracy=86.3%\n",
            "Epoch  4,                 Train:loss=0.007, accuracy=87.4%,                 Valid: loss=0.008, accuracy=86.6%\n",
            "Epoch  5,                 Train:loss=0.007, accuracy=88.3%,                 Valid: loss=0.007, accuracy=87.2%\n",
            "validation accuracy = 87.150\n",
            "------------------------------------------------------------------\n",
            "Training model with a depth of 1 layers and a width of 500 units\n",
            "Teta params=[torch.Size([500, 785]), torch.Size([10, 501])]\n",
            "Epoch  0,                 Train:loss=0.052, accuracy=8.8%,                 Valid: loss=0.051, accuracy=8.6%\n",
            "Epoch  1,                 Train:loss=0.009, accuracy=84.3%,                 Valid: loss=0.009, accuracy=84.3%\n",
            "Epoch  2,                 Train:loss=0.008, accuracy=86.2%,                 Valid: loss=0.008, accuracy=86.2%\n",
            "Epoch  3,                 Train:loss=0.008, accuracy=86.1%,                 Valid: loss=0.008, accuracy=86.2%\n",
            "Epoch  4,                 Train:loss=0.007, accuracy=86.9%,                 Valid: loss=0.007, accuracy=86.7%\n",
            "Epoch  5,                 Train:loss=0.007, accuracy=87.6%,                 Valid: loss=0.007, accuracy=87.5%\n",
            "validation accuracy = 87.500\n",
            "------------------------------------------------------------------\n",
            "Training model with a depth of 1 layers and a width of 1000 units\n",
            "Teta params=[torch.Size([1000, 785]), torch.Size([10, 1001])]\n",
            "Epoch  0,                 Train:loss=0.050, accuracy=4.2%,                 Valid: loss=0.050, accuracy=4.4%\n",
            "Epoch  1,                 Train:loss=0.009, accuracy=84.8%,                 Valid: loss=0.009, accuracy=85.3%\n",
            "Epoch  2,                 Train:loss=0.008, accuracy=86.5%,                 Valid: loss=0.008, accuracy=86.6%\n",
            "Epoch  3,                 Train:loss=0.007, accuracy=87.3%,                 Valid: loss=0.007, accuracy=87.0%\n",
            "Epoch  4,                 Train:loss=0.007, accuracy=88.4%,                 Valid: loss=0.007, accuracy=88.1%\n",
            "Epoch  5,                 Train:loss=0.006, accuracy=88.6%,                 Valid: loss=0.007, accuracy=88.1%\n",
            "validation accuracy = 88.100\n",
            "------------------------------------------------------------------\n",
            "Training model with a depth of 3 layers and a width of 25 units\n",
            "Teta params=[torch.Size([25, 785]), torch.Size([25, 26]), torch.Size([25, 26]), torch.Size([10, 26])]\n",
            "Epoch  0,                 Train:loss=0.050, accuracy=10.0%,                 Valid: loss=0.050, accuracy=10.2%\n",
            "Epoch  1,                 Train:loss=0.010, accuracy=81.5%,                 Valid: loss=0.010, accuracy=81.6%\n",
            "Epoch  2,                 Train:loss=0.009, accuracy=82.4%,                 Valid: loss=0.009, accuracy=83.1%\n",
            "Epoch  3,                 Train:loss=0.009, accuracy=83.3%,                 Valid: loss=0.009, accuracy=83.7%\n",
            "Epoch  4,                 Train:loss=0.007, accuracy=86.4%,                 Valid: loss=0.007, accuracy=86.6%\n",
            "Epoch  5,                 Train:loss=0.007, accuracy=86.9%,                 Valid: loss=0.007, accuracy=86.4%\n",
            "validation accuracy = 86.617\n",
            "------------------------------------------------------------------\n",
            "Training model with a depth of 3 layers and a width of 100 units\n",
            "Teta params=[torch.Size([100, 785]), torch.Size([100, 101]), torch.Size([100, 101]), torch.Size([10, 101])]\n",
            "Epoch  0,                 Train:loss=0.054, accuracy=9.8%,                 Valid: loss=0.054, accuracy=10.3%\n",
            "Epoch  1,                 Train:loss=0.009, accuracy=84.6%,                 Valid: loss=0.009, accuracy=83.5%\n",
            "Epoch  2,                 Train:loss=0.007, accuracy=86.7%,                 Valid: loss=0.008, accuracy=86.0%\n",
            "Epoch  3,                 Train:loss=0.007, accuracy=86.8%,                 Valid: loss=0.008, accuracy=85.6%\n",
            "Epoch  4,                 Train:loss=0.006, accuracy=88.3%,                 Valid: loss=0.007, accuracy=86.5%\n",
            "Epoch  5,                 Train:loss=0.006, accuracy=88.1%,                 Valid: loss=0.007, accuracy=86.7%\n",
            "validation accuracy = 86.667\n",
            "------------------------------------------------------------------\n",
            "Training model with a depth of 3 layers and a width of 300 units\n",
            "Teta params=[torch.Size([300, 785]), torch.Size([300, 301]), torch.Size([300, 301]), torch.Size([10, 301])]\n",
            "Epoch  0,                 Train:loss=0.047, accuracy=11.4%,                 Valid: loss=0.047, accuracy=12.7%\n",
            "Epoch  1,                 Train:loss=0.009, accuracy=83.4%,                 Valid: loss=0.009, accuracy=83.2%\n",
            "Epoch  2,                 Train:loss=0.007, accuracy=87.1%,                 Valid: loss=0.007, accuracy=87.2%\n",
            "Epoch  3,                 Train:loss=0.007, accuracy=87.1%,                 Valid: loss=0.007, accuracy=86.2%\n",
            "Epoch  4,                 Train:loss=0.006, accuracy=88.2%,                 Valid: loss=0.007, accuracy=87.2%\n",
            "Epoch  5,                 Train:loss=0.006, accuracy=89.4%,                 Valid: loss=0.006, accuracy=88.4%\n",
            "validation accuracy = 88.417\n",
            "------------------------------------------------------------------\n",
            "Training model with a depth of 3 layers and a width of 500 units\n",
            "Teta params=[torch.Size([500, 785]), torch.Size([500, 501]), torch.Size([500, 501]), torch.Size([10, 501])]\n",
            "Epoch  0,                 Train:loss=0.048, accuracy=11.8%,                 Valid: loss=0.048, accuracy=11.9%\n",
            "Epoch  1,                 Train:loss=0.008, accuracy=85.6%,                 Valid: loss=0.008, accuracy=85.3%\n",
            "Epoch  2,                 Train:loss=0.007, accuracy=86.4%,                 Valid: loss=0.008, accuracy=86.2%\n",
            "Epoch  3,                 Train:loss=0.006, accuracy=89.1%,                 Valid: loss=0.006, accuracy=88.2%\n",
            "Epoch  4,                 Train:loss=0.006, accuracy=89.5%,                 Valid: loss=0.006, accuracy=88.3%\n",
            "Epoch  5,                 Train:loss=0.006, accuracy=89.5%,                 Valid: loss=0.007, accuracy=88.3%\n",
            "validation accuracy = 88.333\n",
            "------------------------------------------------------------------\n",
            "Training model with a depth of 3 layers and a width of 1000 units\n",
            "Teta params=[torch.Size([1000, 785]), torch.Size([1000, 1001]), torch.Size([1000, 1001]), torch.Size([10, 1001])]\n",
            "Epoch  0,                 Train:loss=0.046, accuracy=12.8%,                 Valid: loss=0.046, accuracy=13.6%\n",
            "Epoch  1,                 Train:loss=0.008, accuracy=86.1%,                 Valid: loss=0.008, accuracy=84.7%\n",
            "Epoch  2,                 Train:loss=0.007, accuracy=87.8%,                 Valid: loss=0.007, accuracy=86.6%\n",
            "Epoch  3,                 Train:loss=0.008, accuracy=85.7%,                 Valid: loss=0.008, accuracy=84.4%\n",
            "Epoch  4,                 Train:loss=0.005, accuracy=90.2%,                 Valid: loss=0.007, accuracy=87.6%\n",
            "Epoch  5,                 Train:loss=0.005, accuracy=91.3%,                 Valid: loss=0.006, accuracy=88.6%\n",
            "validation accuracy = 88.583\n",
            "------------------------------------------------------------------\n",
            "Training model with a depth of 5 layers and a width of 25 units\n",
            "Teta params=[torch.Size([25, 785]), torch.Size([25, 26]), torch.Size([25, 26]), torch.Size([25, 26]), torch.Size([25, 26]), torch.Size([10, 26])]\n",
            "Epoch  0,                 Train:loss=0.049, accuracy=9.5%,                 Valid: loss=0.049, accuracy=9.9%\n",
            "Epoch  1,                 Train:loss=0.011, accuracy=78.6%,                 Valid: loss=0.011, accuracy=77.8%\n",
            "Epoch  2,                 Train:loss=0.010, accuracy=82.4%,                 Valid: loss=0.010, accuracy=82.4%\n",
            "Epoch  3,                 Train:loss=0.009, accuracy=84.1%,                 Valid: loss=0.009, accuracy=83.2%\n",
            "Epoch  4,                 Train:loss=0.008, accuracy=85.7%,                 Valid: loss=0.008, accuracy=84.8%\n",
            "Epoch  5,                 Train:loss=0.008, accuracy=85.7%,                 Valid: loss=0.008, accuracy=84.3%\n",
            "validation accuracy = 84.750\n",
            "------------------------------------------------------------------\n",
            "Training model with a depth of 5 layers and a width of 100 units\n",
            "Teta params=[torch.Size([100, 785]), torch.Size([100, 101]), torch.Size([100, 101]), torch.Size([100, 101]), torch.Size([100, 101]), torch.Size([10, 101])]\n",
            "Epoch  0,                 Train:loss=0.054, accuracy=7.3%,                 Valid: loss=0.054, accuracy=7.6%\n",
            "Epoch  1,                 Train:loss=0.009, accuracy=83.6%,                 Valid: loss=0.009, accuracy=83.1%\n",
            "Epoch  2,                 Train:loss=0.008, accuracy=86.2%,                 Valid: loss=0.008, accuracy=85.6%\n",
            "Epoch  3,                 Train:loss=0.007, accuracy=87.1%,                 Valid: loss=0.007, accuracy=86.5%\n",
            "Epoch  4,                 Train:loss=0.007, accuracy=87.8%,                 Valid: loss=0.007, accuracy=87.0%\n",
            "Epoch  5,                 Train:loss=0.006, accuracy=88.1%,                 Valid: loss=0.007, accuracy=87.3%\n",
            "validation accuracy = 87.300\n",
            "------------------------------------------------------------------\n",
            "Training model with a depth of 5 layers and a width of 300 units\n",
            "Teta params=[torch.Size([300, 785]), torch.Size([300, 301]), torch.Size([300, 301]), torch.Size([300, 301]), torch.Size([300, 301]), torch.Size([10, 301])]\n",
            "Epoch  0,                 Train:loss=0.050, accuracy=10.4%,                 Valid: loss=0.050, accuracy=10.1%\n",
            "Epoch  1,                 Train:loss=0.008, accuracy=85.7%,                 Valid: loss=0.008, accuracy=84.5%\n",
            "Epoch  2,                 Train:loss=0.007, accuracy=87.4%,                 Valid: loss=0.007, accuracy=86.3%\n",
            "Epoch  3,                 Train:loss=0.006, accuracy=88.1%,                 Valid: loss=0.007, accuracy=87.0%\n",
            "Epoch  4,                 Train:loss=0.006, accuracy=88.0%,                 Valid: loss=0.008, accuracy=86.0%\n",
            "Epoch  5,                 Train:loss=0.005, accuracy=89.6%,                 Valid: loss=0.006, accuracy=87.8%\n",
            "validation accuracy = 87.767\n",
            "------------------------------------------------------------------\n",
            "Training model with a depth of 5 layers and a width of 500 units\n",
            "Teta params=[torch.Size([500, 785]), torch.Size([500, 501]), torch.Size([500, 501]), torch.Size([500, 501]), torch.Size([500, 501]), torch.Size([10, 501])]\n",
            "Epoch  0,                 Train:loss=0.049, accuracy=5.1%,                 Valid: loss=0.050, accuracy=4.7%\n",
            "Epoch  1,                 Train:loss=0.008, accuracy=86.3%,                 Valid: loss=0.008, accuracy=85.5%\n",
            "Epoch  2,                 Train:loss=0.007, accuracy=87.5%,                 Valid: loss=0.007, accuracy=86.6%\n",
            "Epoch  3,                 Train:loss=0.006, accuracy=88.5%,                 Valid: loss=0.007, accuracy=87.7%\n",
            "Epoch  4,                 Train:loss=0.006, accuracy=89.3%,                 Valid: loss=0.007, accuracy=87.6%\n",
            "Epoch  5,                 Train:loss=0.005, accuracy=90.9%,                 Valid: loss=0.006, accuracy=89.2%\n",
            "validation accuracy = 89.200\n",
            "------------------------------------------------------------------\n",
            "Training model with a depth of 5 layers and a width of 1000 units\n",
            "Teta params=[torch.Size([1000, 785]), torch.Size([1000, 1001]), torch.Size([1000, 1001]), torch.Size([1000, 1001]), torch.Size([1000, 1001]), torch.Size([10, 1001])]\n",
            "Epoch  0,                 Train:loss=0.048, accuracy=8.8%,                 Valid: loss=0.048, accuracy=8.5%\n",
            "Epoch  1,                 Train:loss=0.007, accuracy=87.6%,                 Valid: loss=0.007, accuracy=86.2%\n",
            "Epoch  2,                 Train:loss=0.006, accuracy=89.1%,                 Valid: loss=0.007, accuracy=87.8%\n",
            "Epoch  3,                 Train:loss=0.005, accuracy=89.9%,                 Valid: loss=0.006, accuracy=87.9%\n",
            "Epoch  4,                 Train:loss=0.005, accuracy=90.8%,                 Valid: loss=0.006, accuracy=88.9%\n",
            "Epoch  5,                 Train:loss=0.004, accuracy=91.8%,                 Valid: loss=0.006, accuracy=89.4%\n",
            "validation accuracy = 89.417\n"
          ]
        }
      ],
      "source": [
        "# SGD\n",
        "# Montrez les résultats pour différents nombre de couche, e.g. 1, 3, 5, et différent nombres de neurone, e.g. 25, 100, 300, 500, 1000.\n",
        "depth_list = [1,3,5]   # Define ranges in a list\n",
        "width_list = [25, 100, 300, 500, 1000]   # Define ranges in a list\n",
        "lr = 0.001           # Some value\n",
        "batch_size = 50   # Some value\n",
        "\n",
        "with torch.no_grad():\n",
        "  for depth in depth_list:\n",
        "    for width in width_list:\n",
        "      print(\"------------------------------------------------------------------\")\n",
        "      print(\"Training model with a depth of {0} layers and a width of {1} units\".format(depth, width))\n",
        "      data_loader_train, data_loader_val, data_loader_test = get_fashion_mnist_dataloaders(val_percentage=0.1, batch_size=batch_size)\n",
        "\n",
        "      MLP_model = MLPModel(n_features=784, n_hidden_features=width, n_hidden_layers=depth, n_classes=10)\n",
        "      _, val_accuracy, _ = train(MLP_model,lr=lr, nb_epochs=5, sgd=True, data_loader_train=data_loader_train, data_loader_val=data_loader_val)\n",
        "      print(f\"validation accuracy = {val_accuracy*100:.3f}\")"
      ]
    },
    {
      "cell_type": "markdown",
      "metadata": {
        "id": "QnDMqFapAUXM"
      },
      "source": [
        "#### **Tableau pour la précision sur l'ensemble de validation**\n",
        "N.B. que les lignes correspondent aux nombre de couche et les colonnes correspondent au nombre de neurone dans chaque couche. Les valeurs ci-dessous sont donné comme exemples; remplacez-les par les valeurs que vous avez utilisées pour votre recherche d'hyperparamètres.\n",
        "\n",
        "depth\\width  | 25 | 100 | 300 | 500 | 1000\n",
        "-------------------|------------------|------------------|------------------|------------------|------------------|\n",
        "**1**   | -  | - | - | - | - |\n",
        "**3** | -  | - | - | - | - |\n",
        "**5**  | -  | - | - | - | - |"
      ]
    },
    {
      "cell_type": "markdown",
      "metadata": {
        "id": "2wuN-uw7AUXN"
      },
      "source": [
        "### SGD: Analyse du meilleur modèle"
      ]
    },
    {
      "cell_type": "code",
      "execution_count": 8,
      "metadata": {
        "id": "CShZ3VB0AUXN",
        "colab": {
          "base_uri": "https://localhost:8080/",
          "height": 772
        },
        "outputId": "d0dc4dba-c178-47a4-8fca-1a23d5f1a9af"
      },
      "outputs": [
        {
          "output_type": "stream",
          "name": "stdout",
          "text": [
            "Teta params=[torch.Size([1000, 785]), torch.Size([1000, 1001]), torch.Size([1000, 1001]), torch.Size([1000, 1001]), torch.Size([1000, 1001]), torch.Size([10, 1001])]\n",
            "Epoch  0,                 Train:loss=0.051, accuracy=9.8%,                 Valid: loss=0.051, accuracy=9.2%\n",
            "Epoch  1,                 Train:loss=0.008, accuracy=85.7%,                 Valid: loss=0.008, accuracy=84.7%\n",
            "Epoch  2,                 Train:loss=0.006, accuracy=88.5%,                 Valid: loss=0.007, accuracy=87.3%\n",
            "Epoch  3,                 Train:loss=0.006, accuracy=90.1%,                 Valid: loss=0.006, accuracy=88.3%\n",
            "Epoch  4,                 Train:loss=0.005, accuracy=90.2%,                 Valid: loss=0.006, accuracy=88.1%\n",
            "Epoch  5,                 Train:loss=0.005, accuracy=90.1%,                 Valid: loss=0.007, accuracy=87.4%\n",
            "Best validation accuracy = 88.317\n",
            "Evaluation of the best training model over test set\n",
            "------\n",
            "Loss : 0.007\n",
            "Accuracy : 86.040\n"
          ]
        },
        {
          "output_type": "display_data",
          "data": {
            "text/plain": [
              "<Figure size 1200x600 with 2 Axes>"
            ],
            "image/png": "[encoded data removed]"
          },
          "metadata": {}
        }
      ],
      "source": [
        "# SGD\n",
        "# Montrez les résultats pour la meilleure configuration trouvez ci-dessus.\n",
        "depth = 5    # TODO: Vous devez modifier cette valeur avec la meilleur que vous avez eu.\n",
        "width = 1000    # TODO: Vous devez modifier cette valeur avec la meilleur que vous avez eu.\n",
        "lr = 0.001           # Some value\n",
        "batch_size = 50   # Some value\n",
        "\n",
        "with torch.no_grad():\n",
        "  data_loader_train, data_loader_val, data_loader_test = get_fashion_mnist_dataloaders(val_percentage=0.1, batch_size=batch_size)\n",
        "\n",
        "  MLP_model = MLPModel(n_features=784, n_hidden_features=width, n_hidden_layers=depth, n_classes=10)\n",
        "  best_model, best_val_accuracy, logger = train(MLP_model,lr=lr, nb_epochs=5, sgd=True,\n",
        "                                                data_loader_train=data_loader_train, data_loader_val=data_loader_val)\n",
        "  logger.plot_loss_and_accuracy()\n",
        "  print(f\"Best validation accuracy = {best_val_accuracy*100:.3f}\")\n",
        "\n",
        "  accuracy_test, loss_test = accuracy_and_loss_whole_dataset(data_loader_test, best_model)\n",
        "print(\"Evaluation of the best training model over test set\")\n",
        "print(\"------\")\n",
        "print(f\"Loss : {loss_test:.3f}\")\n",
        "print(f\"Accuracy : {accuracy_test*100.:.3f}\")"
      ]
    },
    {
      "cell_type": "markdown",
      "metadata": {
        "id": "_tPLgZriAUXO"
      },
      "source": [
        "### Adam: Recherche d'hyperparamètres\n",
        "\n",
        "Implémentez Adam, répétez les deux étapes précédentes (recherche d'hyperparamètres et analyse du meilleur modèle) cette fois en utilisat Adam, et comparez les performances finales avec votre meilleur modèle SGD."
      ]
    },
    {
      "cell_type": "code",
      "execution_count": 7,
      "metadata": {
        "colab": {
          "base_uri": "https://localhost:8080/"
        },
        "id": "tEVOh1r7AUXO",
        "outputId": "3c11ba38-9f4c-4da2-dfc3-ab2833ac21a7"
      },
      "outputs": [
        {
          "output_type": "stream",
          "name": "stdout",
          "text": [
            "------------------------------------------------------------------\n",
            "Training model with a depth of 1 layers and a width of 25 units\n",
            "Teta params=[torch.Size([25, 785]), torch.Size([10, 26])]\n",
            "Epoch  0,                 Train:loss=0.005, accuracy=9.0%,                 Valid: loss=0.005, accuracy=9.3%\n",
            "Epoch  1,                 Train:loss=0.001, accuracy=80.2%,                 Valid: loss=0.001, accuracy=80.1%\n",
            "Epoch  2,                 Train:loss=0.001, accuracy=81.3%,                 Valid: loss=0.001, accuracy=81.5%\n",
            "Epoch  3,                 Train:loss=0.001, accuracy=82.5%,                 Valid: loss=0.001, accuracy=81.7%\n",
            "Epoch  4,                 Train:loss=0.001, accuracy=82.8%,                 Valid: loss=0.001, accuracy=82.0%\n",
            "Epoch  5,                 Train:loss=0.001, accuracy=83.5%,                 Valid: loss=0.001, accuracy=82.8%\n",
            "validation accuracy = 82.833\n",
            "------------------------------------------------------------------\n",
            "Training model with a depth of 1 layers and a width of 100 units\n",
            "Teta params=[torch.Size([100, 785]), torch.Size([10, 101])]\n",
            "Epoch  0,                 Train:loss=0.005, accuracy=10.6%,                 Valid: loss=0.005, accuracy=11.2%\n",
            "Epoch  1,                 Train:loss=0.001, accuracy=79.5%,                 Valid: loss=0.001, accuracy=78.9%\n",
            "Epoch  2,                 Train:loss=0.001, accuracy=84.4%,                 Valid: loss=0.001, accuracy=83.1%\n",
            "Epoch  3,                 Train:loss=0.001, accuracy=85.5%,                 Valid: loss=0.001, accuracy=84.4%\n",
            "Epoch  4,                 Train:loss=0.001, accuracy=85.5%,                 Valid: loss=0.001, accuracy=84.6%\n",
            "Epoch  5,                 Train:loss=0.001, accuracy=85.5%,                 Valid: loss=0.001, accuracy=84.4%\n",
            "validation accuracy = 84.567\n",
            "------------------------------------------------------------------\n",
            "Training model with a depth of 1 layers and a width of 300 units\n",
            "Teta params=[torch.Size([300, 785]), torch.Size([10, 301])]\n",
            "Epoch  0,                 Train:loss=0.005, accuracy=8.2%,                 Valid: loss=0.005, accuracy=8.5%\n",
            "Epoch  1,                 Train:loss=0.001, accuracy=81.0%,                 Valid: loss=0.001, accuracy=79.9%\n",
            "Epoch  2,                 Train:loss=0.001, accuracy=82.5%,                 Valid: loss=0.001, accuracy=81.4%\n",
            "Epoch  3,                 Train:loss=0.001, accuracy=85.5%,                 Valid: loss=0.001, accuracy=84.0%\n",
            "Epoch  4,                 Train:loss=0.001, accuracy=83.8%,                 Valid: loss=0.001, accuracy=81.8%\n",
            "Epoch  5,                 Train:loss=0.001, accuracy=86.7%,                 Valid: loss=0.001, accuracy=85.1%\n",
            "validation accuracy = 85.133\n",
            "------------------------------------------------------------------\n",
            "Training model with a depth of 1 layers and a width of 500 units\n",
            "Teta params=[torch.Size([500, 785]), torch.Size([10, 501])]\n",
            "Epoch  0,                 Train:loss=0.005, accuracy=5.0%,                 Valid: loss=0.005, accuracy=4.7%\n",
            "Epoch  1,                 Train:loss=0.001, accuracy=75.5%,                 Valid: loss=0.001, accuracy=75.2%\n",
            "Epoch  2,                 Train:loss=0.001, accuracy=80.3%,                 Valid: loss=0.001, accuracy=80.2%\n",
            "Epoch  3,                 Train:loss=0.001, accuracy=81.6%,                 Valid: loss=0.001, accuracy=81.0%\n",
            "Epoch  4,                 Train:loss=0.001, accuracy=82.4%,                 Valid: loss=0.001, accuracy=81.4%\n",
            "Epoch  5,                 Train:loss=0.001, accuracy=82.6%,                 Valid: loss=0.001, accuracy=81.6%\n",
            "validation accuracy = 81.600\n",
            "------------------------------------------------------------------\n",
            "Training model with a depth of 1 layers and a width of 1000 units\n",
            "Teta params=[torch.Size([1000, 785]), torch.Size([10, 1001])]\n",
            "Epoch  0,                 Train:loss=0.005, accuracy=8.2%,                 Valid: loss=0.005, accuracy=8.5%\n",
            "Epoch  1,                 Train:loss=0.001, accuracy=83.6%,                 Valid: loss=0.001, accuracy=82.4%\n",
            "Epoch  2,                 Train:loss=0.001, accuracy=85.6%,                 Valid: loss=0.001, accuracy=84.0%\n",
            "Epoch  3,                 Train:loss=0.001, accuracy=84.5%,                 Valid: loss=0.001, accuracy=83.9%\n",
            "Epoch  4,                 Train:loss=0.001, accuracy=86.1%,                 Valid: loss=0.001, accuracy=84.1%\n",
            "Epoch  5,                 Train:loss=0.001, accuracy=86.3%,                 Valid: loss=0.001, accuracy=84.2%\n",
            "validation accuracy = 84.150\n",
            "------------------------------------------------------------------\n",
            "Training model with a depth of 3 layers and a width of 25 units\n",
            "Teta params=[torch.Size([25, 785]), torch.Size([25, 26]), torch.Size([25, 26]), torch.Size([10, 26])]\n",
            "Epoch  0,                 Train:loss=0.005, accuracy=14.2%,                 Valid: loss=0.005, accuracy=14.7%\n",
            "Epoch  1,                 Train:loss=0.002, accuracy=68.5%,                 Valid: loss=0.002, accuracy=67.8%\n",
            "Epoch  2,                 Train:loss=0.001, accuracy=76.1%,                 Valid: loss=0.001, accuracy=75.3%\n",
            "Epoch  3,                 Train:loss=0.001, accuracy=78.3%,                 Valid: loss=0.001, accuracy=77.8%\n",
            "Epoch  4,                 Train:loss=0.001, accuracy=76.6%,                 Valid: loss=0.001, accuracy=75.5%\n",
            "Epoch  5,                 Train:loss=0.001, accuracy=78.9%,                 Valid: loss=0.001, accuracy=78.8%\n",
            "validation accuracy = 78.767\n",
            "------------------------------------------------------------------\n",
            "Training model with a depth of 3 layers and a width of 100 units\n",
            "Teta params=[torch.Size([100, 785]), torch.Size([100, 101]), torch.Size([100, 101]), torch.Size([10, 101])]\n",
            "Epoch  0,                 Train:loss=0.006, accuracy=6.3%,                 Valid: loss=0.006, accuracy=6.2%\n",
            "Epoch  1,                 Train:loss=0.001, accuracy=77.9%,                 Valid: loss=0.001, accuracy=77.3%\n",
            "Epoch  2,                 Train:loss=0.001, accuracy=79.8%,                 Valid: loss=0.001, accuracy=78.6%\n",
            "Epoch  3,                 Train:loss=0.001, accuracy=82.0%,                 Valid: loss=0.001, accuracy=81.0%\n",
            "Epoch  4,                 Train:loss=0.001, accuracy=81.3%,                 Valid: loss=0.001, accuracy=80.0%\n",
            "Epoch  5,                 Train:loss=0.001, accuracy=82.4%,                 Valid: loss=0.001, accuracy=81.0%\n",
            "validation accuracy = 81.033\n",
            "------------------------------------------------------------------\n",
            "Training model with a depth of 3 layers and a width of 300 units\n",
            "Teta params=[torch.Size([300, 785]), torch.Size([300, 301]), torch.Size([300, 301]), torch.Size([10, 301])]\n",
            "Epoch  0,                 Train:loss=0.005, accuracy=7.6%,                 Valid: loss=0.005, accuracy=8.0%\n",
            "Epoch  1,                 Train:loss=0.002, accuracy=50.3%,                 Valid: loss=0.002, accuracy=51.4%\n",
            "Epoch  2,                 Train:loss=0.002, accuracy=57.4%,                 Valid: loss=0.002, accuracy=58.4%\n",
            "Epoch  3,                 Train:loss=0.002, accuracy=61.9%,                 Valid: loss=0.002, accuracy=62.6%\n",
            "Epoch  4,                 Train:loss=0.002, accuracy=70.1%,                 Valid: loss=0.002, accuracy=70.2%\n",
            "Epoch  5,                 Train:loss=0.002, accuracy=71.1%,                 Valid: loss=0.002, accuracy=71.1%\n",
            "validation accuracy = 71.067\n",
            "------------------------------------------------------------------\n",
            "Training model with a depth of 3 layers and a width of 500 units\n",
            "Teta params=[torch.Size([500, 785]), torch.Size([500, 501]), torch.Size([500, 501]), torch.Size([10, 501])]\n",
            "Epoch  0,                 Train:loss=0.005, accuracy=11.2%,                 Valid: loss=0.005, accuracy=11.2%\n",
            "Epoch  1,                 Train:loss=0.003, accuracy=38.9%,                 Valid: loss=0.003, accuracy=37.6%\n",
            "Epoch  2,                 Train:loss=0.003, accuracy=34.6%,                 Valid: loss=0.003, accuracy=33.6%\n",
            "Epoch  3,                 Train:loss=0.003, accuracy=37.6%,                 Valid: loss=0.003, accuracy=37.1%\n",
            "Epoch  4,                 Train:loss=0.003, accuracy=37.3%,                 Valid: loss=0.003, accuracy=36.7%\n",
            "Epoch  5,                 Train:loss=0.003, accuracy=36.7%,                 Valid: loss=0.003, accuracy=35.4%\n",
            "validation accuracy = 37.633\n",
            "------------------------------------------------------------------\n",
            "Training model with a depth of 3 layers and a width of 1000 units\n",
            "Teta params=[torch.Size([1000, 785]), torch.Size([1000, 1001]), torch.Size([1000, 1001]), torch.Size([10, 1001])]\n",
            "Epoch  0,                 Train:loss=0.005, accuracy=8.2%,                 Valid: loss=0.005, accuracy=8.0%\n",
            "Epoch  1,                 Train:loss=0.003, accuracy=29.2%,                 Valid: loss=0.003, accuracy=28.9%\n",
            "Epoch  2,                 Train:loss=0.003, accuracy=32.8%,                 Valid: loss=0.003, accuracy=31.2%\n",
            "Epoch  3,                 Train:loss=0.003, accuracy=34.5%,                 Valid: loss=0.003, accuracy=35.2%\n",
            "Epoch  4,                 Train:loss=0.003, accuracy=36.5%,                 Valid: loss=0.003, accuracy=35.9%\n",
            "Epoch  5,                 Train:loss=0.003, accuracy=40.2%,                 Valid: loss=0.003, accuracy=40.7%\n",
            "validation accuracy = 40.683\n",
            "------------------------------------------------------------------\n",
            "Training model with a depth of 5 layers and a width of 25 units\n",
            "Teta params=[torch.Size([25, 785]), torch.Size([25, 26]), torch.Size([25, 26]), torch.Size([25, 26]), torch.Size([25, 26]), torch.Size([10, 26])]\n",
            "Epoch  0,                 Train:loss=0.005, accuracy=13.5%,                 Valid: loss=0.005, accuracy=13.5%\n",
            "Epoch  1,                 Train:loss=0.002, accuracy=52.2%,                 Valid: loss=0.002, accuracy=50.6%\n",
            "Epoch  2,                 Train:loss=0.002, accuracy=65.3%,                 Valid: loss=0.002, accuracy=64.7%\n",
            "Epoch  3,                 Train:loss=0.002, accuracy=68.2%,                 Valid: loss=0.002, accuracy=68.2%\n",
            "Epoch  4,                 Train:loss=0.001, accuracy=72.7%,                 Valid: loss=0.001, accuracy=72.4%\n",
            "Epoch  5,                 Train:loss=0.001, accuracy=75.4%,                 Valid: loss=0.001, accuracy=75.1%\n",
            "validation accuracy = 75.133\n",
            "------------------------------------------------------------------\n",
            "Training model with a depth of 5 layers and a width of 100 units\n",
            "Teta params=[torch.Size([100, 785]), torch.Size([100, 101]), torch.Size([100, 101]), torch.Size([100, 101]), torch.Size([100, 101]), torch.Size([10, 101])]\n",
            "Epoch  0,                 Train:loss=0.005, accuracy=11.4%,                 Valid: loss=0.005, accuracy=12.1%\n",
            "Epoch  1,                 Train:loss=0.001, accuracy=77.3%,                 Valid: loss=0.001, accuracy=75.9%\n",
            "Epoch  2,                 Train:loss=0.001, accuracy=78.8%,                 Valid: loss=0.001, accuracy=76.7%\n",
            "Epoch  3,                 Train:loss=0.001, accuracy=80.1%,                 Valid: loss=0.001, accuracy=79.3%\n",
            "Epoch  4,                 Train:loss=0.001, accuracy=81.3%,                 Valid: loss=0.001, accuracy=79.6%\n",
            "Epoch  5,                 Train:loss=0.001, accuracy=80.7%,                 Valid: loss=0.001, accuracy=79.3%\n",
            "validation accuracy = 79.633\n",
            "------------------------------------------------------------------\n",
            "Training model with a depth of 5 layers and a width of 300 units\n",
            "Teta params=[torch.Size([300, 785]), torch.Size([300, 301]), torch.Size([300, 301]), torch.Size([300, 301]), torch.Size([300, 301]), torch.Size([10, 301])]\n",
            "Epoch  0,                 Train:loss=0.005, accuracy=6.9%,                 Valid: loss=0.005, accuracy=7.0%\n",
            "Epoch  1,                 Train:loss=0.002, accuracy=62.7%,                 Valid: loss=0.002, accuracy=63.1%\n",
            "Epoch  2,                 Train:loss=0.006, accuracy=24.5%,                 Valid: loss=0.006, accuracy=25.3%\n",
            "Epoch  3,                 Train:loss=0.004, accuracy=18.2%,                 Valid: loss=0.004, accuracy=18.9%\n",
            "Epoch  4,                 Train:loss=0.003, accuracy=33.4%,                 Valid: loss=0.004, accuracy=33.2%\n",
            "Epoch  5,                 Train:loss=0.003, accuracy=39.6%,                 Valid: loss=0.003, accuracy=39.7%\n",
            "validation accuracy = 63.133\n",
            "------------------------------------------------------------------\n",
            "Training model with a depth of 5 layers and a width of 500 units\n",
            "Teta params=[torch.Size([500, 785]), torch.Size([500, 501]), torch.Size([500, 501]), torch.Size([500, 501]), torch.Size([500, 501]), torch.Size([10, 501])]\n",
            "Epoch  0,                 Train:loss=0.005, accuracy=9.5%,                 Valid: loss=0.005, accuracy=9.7%\n",
            "Epoch  1,                 Train:loss=0.005, accuracy=9.9%,                 Valid: loss=0.005, accuracy=10.7%\n",
            "Epoch  2,                 Train:loss=0.005, accuracy=10.0%,                 Valid: loss=0.005, accuracy=9.9%\n",
            "Epoch  3,                 Train:loss=0.005, accuracy=10.0%,                 Valid: loss=0.005, accuracy=10.2%\n",
            "Epoch  4,                 Train:loss=0.005, accuracy=10.0%,                 Valid: loss=0.005, accuracy=10.1%\n",
            "Epoch  5,                 Train:loss=0.005, accuracy=10.0%,                 Valid: loss=0.005, accuracy=10.1%\n",
            "validation accuracy = 10.650\n",
            "------------------------------------------------------------------\n",
            "Training model with a depth of 5 layers and a width of 1000 units\n",
            "Teta params=[torch.Size([1000, 785]), torch.Size([1000, 1001]), torch.Size([1000, 1001]), torch.Size([1000, 1001]), torch.Size([1000, 1001]), torch.Size([10, 1001])]\n",
            "Epoch  0,                 Train:loss=0.005, accuracy=9.8%,                 Valid: loss=0.005, accuracy=9.4%\n",
            "Epoch  1,                 Train:loss=0.004, accuracy=20.9%,                 Valid: loss=0.004, accuracy=20.8%\n",
            "Epoch  2,                 Train:loss=0.004, accuracy=18.4%,                 Valid: loss=0.004, accuracy=18.1%\n",
            "Epoch  3,                 Train:loss=0.004, accuracy=21.8%,                 Valid: loss=0.004, accuracy=21.6%\n",
            "Epoch  4,                 Train:loss=0.004, accuracy=23.3%,                 Valid: loss=0.004, accuracy=24.0%\n",
            "Epoch  5,                 Train:loss=0.004, accuracy=26.8%,                 Valid: loss=0.004, accuracy=26.8%\n",
            "validation accuracy = 26.750\n"
          ]
        }
      ],
      "source": [
        "# ADAM\n",
        "# Montrez les résultats pour différents nombre de couche, e.g. 1, 3, 5, et différent nombres de neurone, e.g. 25, 100, 300, 500, 1000.\n",
        "depth_list = [1,3,5]   # Define ranges in a list\n",
        "width_list = [25, 100, 300, 500, 1000]   # Define ranges in a list\n",
        "lr = 0.05           # Some value\n",
        "batch_size = 500   # Some value\n",
        "\n",
        "with torch.no_grad():\n",
        "  for depth in depth_list:\n",
        "    for width in width_list:\n",
        "      print(\"------------------------------------------------------------------\")\n",
        "      print(\"Training model with a depth of {0} layers and a width of {1} units\".format(depth, width))\n",
        "      data_loader_train, data_loader_val, data_loader_test = get_fashion_mnist_dataloaders(val_percentage=0.1, batch_size=batch_size)\n",
        "\n",
        "      MLP_model = MLPModel(n_features=784, n_hidden_features=width, n_hidden_layers=depth, n_classes=10)\n",
        "      _, val_accuracy, _ = train(MLP_model, lr=lr, nb_epochs=5, sgd=False, data_loader_train=data_loader_train, data_loader_val=data_loader_val)\n",
        "      print(f\"validation accuracy = {val_accuracy*100:.3f}\")"
      ]
    },
    {
      "cell_type": "markdown",
      "metadata": {
        "id": "6LQ6q18CAUXP"
      },
      "source": [
        "#### **Tableau pour la précision sur l'ensemble de validation**\n",
        "N.B. que les lignes correspondent aux nombre de couche et les colonnes correspondent au nombre de neurone dans chaque couche. Les valeurs ci-dessous sont donné comme exemples; remplacez-les par les valeurs que vous avez utilisées pour votre recherche d'hyperparamètres.\n",
        "\n",
        "depth\\width  | 25 | 100 | 300 | 500 | 1000\n",
        "-------------------|------------------|------------------|------------------|------------------|------------------|\n",
        "**1**   | -  | - | - | - | - |\n",
        "**3** | -  | - | - | - | - |\n",
        "**5**  | -  | - | - | - | - |"
      ]
    },
    {
      "cell_type": "markdown",
      "metadata": {
        "id": "df6Y9ziXAUXP"
      },
      "source": [
        "### Adam: Analyse du meilleur modèle"
      ]
    },
    {
      "cell_type": "code",
      "execution_count": null,
      "metadata": {
        "id": "uohnWTtoAUXP"
      },
      "outputs": [],
      "source": [
        "# ADAM\n",
        "# Montrez les résultats pour la meilleure configuration trouvez ci-dessus.\n",
        "depth = None    # TODO: Vous devez modifier cette valeur avec la meilleur que vous avez eu.\n",
        "width = None    # TODO: Vous devez modifier cette valeur avec la meilleur que vous avez eu.\n",
        "lr = 0.05           # Some value\n",
        "batch_size = 500   # Some value\n",
        "\n",
        "with torch.no_grad():\n",
        "  data_loader_train, data_loader_val, data_loader_test = get_fashion_mnist_dataloaders(val_percentage=0.1, batch_size=batch_size)\n",
        "\n",
        "  MLP_model = MLPModel(n_features=784, n_hidden_features=width, n_hidden_layers=depth, n_classes=10)\n",
        "  best_model, best_val_accuracy, logger = train(MLP_model,lr=lr, nb_epochs=5, sgd=False,\n",
        "                                                data_loader_train=data_loader_train, data_loader_val=data_loader_val)\n",
        "  logger.plot_loss_and_accuracy()\n",
        "  print(f\"Best validation accuracy = {best_val_accuracy*100:.3f}\")\n",
        "\n",
        "  accuracy_test, loss_test = accuracy_and_loss_whole_dataset(data_loader_test, best_model)\n",
        "print(\"Evaluation of the best training model over test set\")\n",
        "print(\"------\")\n",
        "print(f\"Loss : {loss_test:.3f}\")\n",
        "print(f\"Accuracy : {accuracy_test*100.:.3f}\")"
      ]
    },
    {
      "cell_type": "markdown",
      "metadata": {
        "id": "pbmmorf45iaA"
      },
      "source": [
        "## Modèle avec autograd pyTorch"
      ]
    },
    {
      "cell_type": "code",
      "execution_count": 14,
      "metadata": {
        "id": "4k_aeq926UMT"
      },
      "outputs": [],
      "source": [
        "import torch.nn as nn\n",
        "import torch.optim as optim\n",
        "import copy\n",
        "\n",
        "\n",
        "def accuracy_and_loss_pytorch(data_loader, model):\n",
        "    cardinal = 0\n",
        "    # On utilise la fonction de pyTorch pour la Loss crossEntropy\n",
        "    loss_fn = nn.CrossEntropyLoss()\n",
        "    total_loss = 0\n",
        "    n_accurate_preds = 0\n",
        "\n",
        "    model.eval()  # Mode évaluation\n",
        "    with torch.no_grad():\n",
        "        for x, y in data_loader:\n",
        "            x, y = reshape_input(x, y)\n",
        "            y_pred = model.forward(x)\n",
        "            y_classes = torch.argmax(y, dim=1)\n",
        "\n",
        "            # Calcul de la perte (CrossEntropy)\n",
        "            loss = loss_fn(y_pred, y_classes)\n",
        "            total_loss += loss.item() * x.size(0)\n",
        "\n",
        "            # Calcul de la précision\n",
        "            _, (n_acc, n_samples) = accuracy(y, y_pred)\n",
        "            cardinal += n_samples\n",
        "            n_accurate_preds += n_acc\n",
        "\n",
        "    avg_loss = total_loss / cardinal\n",
        "    acc = n_accurate_preds / cardinal\n",
        "\n",
        "    return acc, avg_loss\n",
        "\n",
        "\n",
        "def train_pytorch(model, lr=0.1, nb_epochs=10, data_loader_train=None, data_loader_val=None):\n",
        "    best_model = None\n",
        "    best_val_accuracy = 0\n",
        "    logger = Logger()\n",
        "\n",
        "    # On choisit Adam comme optimiseur\n",
        "    optimizer = optim.Adam(model.parameters(), lr=lr)\n",
        "\n",
        "    loss_fn = nn.CrossEntropyLoss()\n",
        "\n",
        "    for epoch in range(nb_epochs+1):\n",
        "        # at epoch 0 evaluate random initial model\n",
        "        #   then for subsequent epochs, do optimize before evaluation.\n",
        "        if epoch > 0:\n",
        "            model.train()  # Mode entraînement\n",
        "            for x, y in data_loader_train:\n",
        "                x, y = reshape_input(x, y)\n",
        "\n",
        "                # Forward prop\n",
        "                optimizer.zero_grad()\n",
        "                y_pred = model(x)\n",
        "                y_classes = torch.argmax(y, dim=1)\n",
        "\n",
        "                # Calcul de la perte\n",
        "                loss = loss_fn(y_pred, y_classes)\n",
        "\n",
        "                # Backward prop\n",
        "                loss.backward()\n",
        "\n",
        "                # update\n",
        "                optimizer.step()\n",
        "\n",
        "        # Évaluation sur les ensembles d'entraînement et de validation\n",
        "        model.eval()  # Mode évaluation\n",
        "        accuracy_train, loss_train = accuracy_and_loss_pytorch(data_loader_train, model)\n",
        "        accuracy_val, loss_val = accuracy_and_loss_pytorch(data_loader_val, model)\n",
        "\n",
        "        if accuracy_val > best_val_accuracy:\n",
        "            best_val_accuracy = accuracy_val\n",
        "            best_model = copy.deepcopy(model)\n",
        "\n",
        "        logger.log(accuracy_train, loss_train, accuracy_val, loss_val)\n",
        "        print(f\"Epoch {epoch:2d}, \"\n",
        "              f\"Train: loss={loss_train:.3f}, accuracy={accuracy_train*100:.1f}%, \"\n",
        "              f\"Valid: loss={loss_val:.3f}, accuracy={accuracy_val*100:.1f}%\", flush=True)\n",
        "\n",
        "    return best_model, best_val_accuracy, logger\n",
        "\n",
        "\n",
        "\n",
        "\n",
        "class PyTorchNN(nn.Module):\n",
        "    def __init__(self, n_features, n_hidden_features, n_hidden_layers, n_classes):\n",
        "        super(PyTorchNN, self).__init__()\n",
        "\n",
        "        self.layers = nn.ModuleList()\n",
        "\n",
        "\n",
        "        # Première couche (input -> hidden)\n",
        "        self.layers.append(nn.Linear(n_features, n_hidden_features))\n",
        "\n",
        "        # Couches cachées (hidden -> hidden)\n",
        "        for _ in range(n_hidden_layers - 1):\n",
        "            self.layers.append(nn.Linear(n_hidden_features, n_hidden_features))\n",
        "\n",
        "        # Dernière couche (hidden -> output)\n",
        "        self.layers.append(nn.Linear(n_hidden_features, n_classes))\n",
        "\n",
        "\n",
        "        self.activation = nn.ReLU()\n",
        "\n",
        "    def forward(self, x):\n",
        "        # propagation dans les neurones cachés\n",
        "        for layer in self.layers[:-1]:\n",
        "            x = self.activation(layer(x))\n",
        "\n",
        "        # dernière couche sans softmax car la fonction nn.CrossEntropyLoss attend les logits\n",
        "        x = self.layers[-1](x)\n",
        "        return x"
      ]
    },
    {
      "cell_type": "code",
      "source": [
        "depth_list = [1,3,5]   # Define ranges in a list\n",
        "width_list = [25, 100, 300, 500, 1000]   # Define ranges in a list\n",
        "lr = 0.05           # Some value\n",
        "batch_size = 500   # Some value\n",
        "\n",
        "for depth in depth_list:\n",
        "  for width in width_list:\n",
        "    print(\"------------------------------------------------------------------\")\n",
        "    print(\"Training model with a depth of {0} layers and a width of {1} units\".format(depth, width))\n",
        "    data_loader_train, data_loader_val, data_loader_test = get_fashion_mnist_dataloaders(val_percentage=0.1, batch_size=batch_size)\n",
        "\n",
        "    torch_model = PyTorchNN(n_features=784, n_hidden_features=width, n_hidden_layers=depth, n_classes=10)\n",
        "    _, val_accuracy, _ = train_pytorch(torch_model, lr=lr, nb_epochs=5, data_loader_train=data_loader_train, data_loader_val=data_loader_val)\n",
        "    print(f\"validation accuracy = {val_accuracy*100:.3f}\")"
      ],
      "metadata": {
        "colab": {
          "base_uri": "https://localhost:8080/"
        },
        "id": "DhyZgUluEbmc",
        "outputId": "0decc7fb-2de9-4d6e-a373-24c361e507ed"
      },
      "execution_count": null,
      "outputs": [
        {
          "output_type": "stream",
          "name": "stdout",
          "text": [
            "------------------------------------------------------------------\n",
            "Training model with a depth of 1 layers and a width of 25 units\n",
            "Epoch  0, Train: loss=2.314, accuracy=9.8%, Valid: loss=2.313, accuracy=10.0%\n",
            "Epoch  1, Train: loss=0.554, accuracy=79.3%, Valid: loss=0.531, accuracy=79.7%\n",
            "Epoch  2, Train: loss=0.459, accuracy=83.5%, Valid: loss=0.441, accuracy=84.0%\n",
            "Epoch  3, Train: loss=0.487, accuracy=82.8%, Valid: loss=0.483, accuracy=83.1%\n",
            "Epoch  4, Train: loss=0.436, accuracy=84.6%, Valid: loss=0.443, accuracy=84.4%\n"
          ]
        }
      ]
    },
    {
      "cell_type": "markdown",
      "metadata": {
        "id": "-wlDcZB-AUXP"
      },
      "source": [
        "### Analyse des Résultats"
      ]
    },
    {
      "cell_type": "markdown",
      "metadata": {
        "id": "M-Wi3CG3AUXP"
      },
      "source": [
        "Répondez içi..."
      ]
    }
  ],
  "metadata": {
    "accelerator": "GPU",
    "colab": {
      "gpuType": "T4",
      "provenance": [],
      "include_colab_link": true
    },
    "kernelspec": {
      "display_name": "Python 3",
      "name": "python3"
    }
  },
  "nbformat": 4,
  "nbformat_minor": 0
}