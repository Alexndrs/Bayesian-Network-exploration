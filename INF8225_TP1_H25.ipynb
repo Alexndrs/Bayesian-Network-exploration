{
  "nbformat": 4,
  "nbformat_minor": 0,
  "metadata": {
    "colab": {
      "provenance": [],
      "gpuType": "T4"
    },
    "kernelspec": {
      "name": "python3",
      "display_name": "Python 3"
    },
    "accelerator": "GPU"
  },
  "cells": [
    {
      "cell_type": "markdown",
      "metadata": {
        "id": "OAHWMYJv4xuc"
      },
      "source": [
        "# INF8225 TP1 H25 (v2.0)"
      ]
    },
    {
      "cell_type": "markdown",
      "metadata": {
        "id": "qV-6EDgXO-S9"
      },
      "source": [
        "Alexandre - Dréan / 2408681 ########\n",
        "\n",
        "Partie 3 réalisée: [seul(e)]\n",
        "ou avec\n",
        "[Prénom - NOM -\n",
        "Matricule ########]\n",
        "\n",
        "Date limite :\n",
        "\n",
        "20h30 le 6 février 2025 (Partie 1 et 2)\n",
        "\n",
        "20h30 le 20 février 2025 (Partie 3)\n",
        "\n",
        "Remettez votre fichier Colab sur Moodle en 2 formats: **.pdf** ET **.ipynb**"
      ]
    },
    {
      "cell_type": "markdown",
      "metadata": {
        "id": "Jo2CPniBeytl"
      },
      "source": [
        "**Comment utiliser**:\n",
        "\n",
        "Il faut copier ce notebook dans vos dossiers pour avoir une version que vous pouvez modifier, voici deux façons de le faire:\n",
        "* File / Save a copy in Drive ...\n",
        "* File / Download .ipynb\n",
        "\n",
        "**Pour utiliser un GPU**\n",
        "\n",
        "Runtime / Change Runtime Type / Hardware Accelerator / GPU"
      ]
    },
    {
      "cell_type": "markdown",
      "metadata": {
        "id": "pCGh-NNm47Tk"
      },
      "source": [
        "# Partie 1 (16 points)\n",
        "\n"
      ]
    },
    {
      "cell_type": "markdown",
      "metadata": {
        "id": "r7tkIgu75Ccd"
      },
      "source": [
        "## Objectif\n",
        "L’objectif de la Partie 1 du travail pratique est de permettre à l’étudiant de se familiariser avec les réseaux Bayésiens et la librairie Numpy."
      ]
    },
    {
      "cell_type": "markdown",
      "metadata": {
        "id": "iongVT7XRegv"
      },
      "source": [
        "## Problème\n"
      ]
    },
    {
      "cell_type": "markdown",
      "source": [
        "Considérons le réseau Bayésien ci-dessous.\n",
        "\n",
        "<img src=\"https://drive.google.com/uc?id=1QCJSfYGLJVg2-0_BO8BEHCnMEDsHSR6k\" alt=\"bayes_net\" width=\"600\"/>\n",
        "\n",
        "Ceci représente un modèle simple pour les notes à un examen (G) et sa relation avec les étudiants qui se préparent aux examens et font correctement le travail pour les devoirs (S), les étudiants qui ont des difficultés dans la vie juste avant l'examen final (D), les étudiants qui réussissent bien à un entretien technique pour un emploi axé sur le sujet du cours (R), et des étudiants qui se retrouvent sur une sorte de palmarès de leur programme (L)."
      ],
      "metadata": {
        "id": "tdKetLE0hVev"
      }
    },
    {
      "cell_type": "markdown",
      "metadata": {
        "id": "Twz4slZ9DY6n"
      },
      "source": [
        "## Trucs et astuces\n",
        "Nous utiliserons des vecteurs multidimensionnels `5d-arrays` dont les `axes` représentent:\n",
        "```\n",
        "axe 0 : Se préparer (S)\n",
        "axe 1 : Difficultés avant l'exam (D)\n",
        "axe 2 : Réussir l'entretien technique (R)\n",
        "axe 3 : Note dans le cours (Grade) (G)\n",
        "axe 4 : Liste d'honneur (L)\n",
        "```\n",
        "\n",
        "Chaque `axe` serait de dimension `2` ou `3`:\n",
        "```\n",
        "Exemple pour S:\n",
        "0 : s0\n",
        "1 : s1\n",
        "\n",
        "Exemple pour G:\n",
        "0 : g0\n",
        "1 : g1\n",
        "2 : g2\n",
        "```\n",
        "Quelques point à garder en tête:\n",
        "- Utiliser la jointe comme point de départ pour vos calculs (ne pas développer tous les termes à la main).\n",
        "- Attention à l'effet du do-operator sur le graphe.\n",
        "- L'argument \"keepdims=True\" de \"np.sum()\" vous permet conserver les mêmes indices.\n",
        "- Pour un rappel sur les probabilités conditionelles, voir: https://www.probabilitycourse.com/chapter1/1_4_0_conditional_probability.php"
      ]
    },
    {
      "cell_type": "markdown",
      "metadata": {
        "id": "EUjUNqVcTEXP"
      },
      "source": [
        "## 1. Complétez les tables de probabilités ci-dessous"
      ]
    },
    {
      "cell_type": "code",
      "metadata": {
        "colab": {
          "base_uri": "https://localhost:8080/"
        },
        "id": "D-rxnQmCCCPa",
        "outputId": "4c2b2edd-ec73-43de-b8b4-d3c215212b84"
      },
      "source": [
        "import numpy as np\n",
        "np.set_printoptions(precision=5)\n",
        "\n",
        "# Les tableaux sont bâtis avec les dimensions (S, D, R, G, L)\n",
        "# et chaque dimension avec les probablités associées aux 2 ou 3 valeurs possibles ({0, 1} ou {0, 1, 2})\n",
        "\n",
        "Pr_S = np.array([0.2, 0.8]).reshape(2, 1, 1, 1, 1) # Donné en exemple\n",
        "Pr_D = np.array([0.9, 0.1]).reshape(1, 2, 1, 1, 1) # TODO\n",
        "Pr_R_given_S = np.array([\n",
        "    [0.9, 0.1],\n",
        "    [0.2, 0.8]\n",
        "]).reshape(2, 1, 2, 1, 1) # TODO\n",
        "Pr_G_given_SD = np.array([\n",
        "    [[0.5, 0.3, 0.2],\n",
        "     [0.9, 0.08, 0.02]],\n",
        "\n",
        "    [[0.1, 0.2, 0.7],\n",
        "     [0.3, 0.4, 0.3]]\n",
        "]).reshape(2, 2, 1, 3, 1) # TODO\n",
        "Pr_L_given_G = np.array([\n",
        "    [0.9, 0.1],\n",
        "    [0.6, 0.4],\n",
        "    [0.01, 0.99]\n",
        "]).reshape(1, 1, 1, 3, 2) # TODO\n",
        "\n",
        "print (f\"Pr(S)=\\n{np.squeeze(Pr_S)}\\n\")\n",
        "print (f\"Pr(D)=\\n{np.squeeze(Pr_D)}\\n\")\n",
        "print (f\"Pr(R|S)=\\n{np.squeeze(Pr_R_given_S)}\\n\")\n",
        "print (f\"Pr(G|S,D)=\\n{np.squeeze(Pr_G_given_SD)}\\n\")\n",
        "print (f\"Pr(L|G)=\\n{np.squeeze(Pr_L_given_G)}\\n\")"
      ],
      "execution_count": 3,
      "outputs": [
        {
          "output_type": "stream",
          "name": "stdout",
          "text": [
            "Pr(S)=\n",
            "[0.2 0.8]\n",
            "\n",
            "Pr(D)=\n",
            "[0.9 0.1]\n",
            "\n",
            "Pr(R|S)=\n",
            "[[0.9 0.1]\n",
            " [0.2 0.8]]\n",
            "\n",
            "Pr(G|S,D)=\n",
            "[[[0.5  0.3  0.2 ]\n",
            "  [0.9  0.08 0.02]]\n",
            "\n",
            " [[0.1  0.2  0.7 ]\n",
            "  [0.3  0.4  0.3 ]]]\n",
            "\n",
            "Pr(L|G)=\n",
            "[[0.9  0.1 ]\n",
            " [0.6  0.4 ]\n",
            " [0.01 0.99]]\n",
            "\n"
          ]
        }
      ]
    },
    {
      "cell_type": "markdown",
      "metadata": {
        "id": "PHD6DX-nS6Qt"
      },
      "source": [
        "## 2. À l'aide de ces tables de probabilité conditionnelles, calculez les requêtes ci-dessous. Dans les cas où l'on compare un calcul non interventionnel à un calcul interventionnel, commentez sur l'interprétation physique des deux situations et les résultats obtenus à partir de vos modèles."
      ]
    },
    {
      "cell_type": "markdown",
      "metadata": {
        "id": "f-vXI0O279sX"
      },
      "source": [
        "a) $Pr(G) = [P (G = g^0), P (G = g^1), P (G = g^2)]$\n",
        "\n",
        "$P(G) = \\sum_{s,d} P(S=s).P(D=d).P(G|S=s,D=d)$"
      ]
    },
    {
      "cell_type": "code",
      "metadata": {
        "id": "lXWtZDsv791d",
        "colab": {
          "base_uri": "https://localhost:8080/"
        },
        "outputId": "47074939-ad08-44f1-ee18-376725984631"
      },
      "source": [
        "Pr_G = np.sum(Pr_S * Pr_D * Pr_G_given_SD, axis=(0,1), keepdims=True)\n",
        "\n",
        "answer_a = Pr_G.squeeze() # TODO\n",
        "print(f\"Pr(G)={answer_a}\")"
      ],
      "execution_count": null,
      "outputs": [
        {
          "output_type": "stream",
          "name": "stdout",
          "text": [
            "Pr(G)=[0.204  0.2316 0.5644]\n"
          ]
        }
      ]
    },
    {
      "cell_type": "markdown",
      "metadata": {
        "id": "k7fla36P79_G"
      },
      "source": [
        "b) $Pr(G|R = r^1)$\n",
        "$P(G|R=r1) = \\frac{P(G,R=r1)}{P(R=r1)} = \\frac{\\sum_{s,d} P(S=s).P(D=d).P(R=r1|S=s).P(G|S=s,D=d)}{\\sum_s P(S=s).P(R=r1|S=s)}$"
      ]
    },
    {
      "cell_type": "code",
      "metadata": {
        "id": "1Jp2AGLa7-H_",
        "colab": {
          "base_uri": "https://localhost:8080/"
        },
        "outputId": "894c0434-4e4e-41ef-f751-3757b184c373"
      },
      "source": [
        "Pr_GR = np.sum(Pr_S * Pr_D * Pr_R_given_S * Pr_G_given_SD, axis=(0,1), keepdims=True)\n",
        "Pr_R = np.sum(Pr_S * Pr_R_given_S, axis=0, keepdims=True)\n",
        "Pr_G_given_R = Pr_GR / Pr_R\n",
        "\n",
        "answer_b = Pr_G_given_R[:,:,1,:,:].squeeze() # TODO\n",
        "print(f\"Pr(G|R=r1)={answer_b}\")"
      ],
      "execution_count": null,
      "outputs": [
        {
          "output_type": "stream",
          "name": "stdout",
          "text": [
            "Pr(G|R=r1)=[0.13273 0.22176 0.64552]\n"
          ]
        }
      ]
    },
    {
      "cell_type": "markdown",
      "metadata": {
        "id": "O8mt03aX7-WC"
      },
      "source": [
        "c)  $Pr(G|R = r^0)$\n",
        "\n",
        "pareil qu'au dessus en remplaçant $r^1$ par $r^0$"
      ]
    },
    {
      "cell_type": "code",
      "metadata": {
        "id": "CCxSweb67-dx",
        "colab": {
          "base_uri": "https://localhost:8080/"
        },
        "outputId": "103a8390-102a-4534-9a2c-c63e04202334"
      },
      "source": [
        "answer_c = Pr_G_given_R[:,:,0,:,:].squeeze() # TODO\n",
        "print(f\"Pr(G|R=r0)={answer_c}\")"
      ],
      "execution_count": null,
      "outputs": [
        {
          "output_type": "stream",
          "name": "stdout",
          "text": [
            "Pr(G|R=r0)=[0.34235 0.25071 0.40694]\n"
          ]
        }
      ]
    },
    {
      "cell_type": "markdown",
      "metadata": {
        "id": "dSK8ulij7-m0"
      },
      "source": [
        "d) $Pr(G|R=r^1, S=s^0)$\n",
        "\n",
        "$P(G|R=r1,S=s0) =\\frac{ P(G,R=r1,S=s0)}{P(R=r1,S=s0)} = \\frac{\\sum_d P(S=s0).P(D=d).P(R=r1|S=s0).P(G|S=s0,D=d)}{P(S=s0).P(R=r1|S=s0)} $"
      ]
    },
    {
      "cell_type": "code",
      "metadata": {
        "id": "cliFsd8f7-vC",
        "colab": {
          "base_uri": "https://localhost:8080/"
        },
        "outputId": "cd2f46ef-4e82-48a6-e280-a4b0fd50d78e"
      },
      "source": [
        "Pr_GRS = np.sum(Pr_S * Pr_D * Pr_R_given_S * Pr_G_given_SD, axis=1, keepdims=True)\n",
        "Pr_RS = Pr_S * Pr_R_given_S\n",
        "Pr_G_given_RS = Pr_GRS / Pr_RS\n",
        "\n",
        "answer_d = Pr_G_given_RS[0,:,1,:,:].squeeze() # TODO\n",
        "print(f\"Pr(G|R=r1, S=s0)={answer_d}\")"
      ],
      "execution_count": null,
      "outputs": [
        {
          "output_type": "stream",
          "name": "stdout",
          "text": [
            "Pr(G|R=r1, S=s0)=[0.54  0.278 0.182]\n"
          ]
        }
      ]
    },
    {
      "cell_type": "markdown",
      "metadata": {
        "id": "zffAAOW67-5I"
      },
      "source": [
        "e) $Pr(G|R=r^0, S=s^0)$\n",
        "\n",
        "remarque : on va obtenir pareil que pour la question précédente car sous $S$ fixé on a $G$ indépendant de $R$"
      ]
    },
    {
      "cell_type": "code",
      "metadata": {
        "id": "9zyt7TeB7_CD",
        "colab": {
          "base_uri": "https://localhost:8080/"
        },
        "outputId": "7d6818bd-b08c-40bf-d838-f73e62c77c65"
      },
      "source": [
        "answer_e = Pr_G_given_RS[0,:,0,:,:].squeeze() # TODO\n",
        "print(f\"Pr(G|R=r0, S=s0)={answer_e}\")"
      ],
      "execution_count": null,
      "outputs": [
        {
          "output_type": "stream",
          "name": "stdout",
          "text": [
            "Pr(G|R=r0, S=s0)=[0.54  0.278 0.182]\n"
          ]
        }
      ]
    },
    {
      "cell_type": "markdown",
      "metadata": {
        "id": "PeIkZjn47_LZ"
      },
      "source": [
        "f) $Pr(R|D=d^1)$\n",
        "\n",
        "On peut directement dire que $P(R|D=d1) = P(R)$ car R est indépendant de D, on fait quand même le calcule pour le démontrer\n",
        "\n",
        "$P(R|D=d1) = \\sum_s P(R,S=s|D=d1) = sum_s P(R|S=s,D=d1).P(S=s|D=d1) = \\sum_s P(R|S=s).P(S=s) = P(R)$ (car R est indépendant de D selon S fixé et S est indépendant de D)\n",
        "\n",
        "$P(R|D=d1) = P(R)$"
      ]
    },
    {
      "cell_type": "code",
      "metadata": {
        "id": "Yscy5bf27_Sq",
        "colab": {
          "base_uri": "https://localhost:8080/"
        },
        "outputId": "7f29253e-512f-45d0-846a-eb1b517de9fe"
      },
      "source": [
        "\n",
        "\n",
        "answer_f = Pr_R.squeeze() # TODO\n",
        "print(f\"Pr(R|D=d1)={answer_f}\")"
      ],
      "execution_count": null,
      "outputs": [
        {
          "output_type": "stream",
          "name": "stdout",
          "text": [
            "Pr(R|D=d1)=[0.34 0.66]\n"
          ]
        }
      ]
    },
    {
      "cell_type": "markdown",
      "metadata": {
        "id": "XbV8cFjU8TxQ"
      },
      "source": [
        "g) $Pr(R|D=d^0)$\n",
        "\n",
        "$Pr(R|D=d^0) = Pr(R)$"
      ]
    },
    {
      "cell_type": "code",
      "metadata": {
        "id": "7jBgoNDz8T6z",
        "colab": {
          "base_uri": "https://localhost:8080/"
        },
        "outputId": "4c155a56-3168-470c-d65a-4d0a85241e7e"
      },
      "source": [
        "answer_g = Pr_R.squeeze() # TODO\n",
        "print(f\"Pr(R|D=d0)={answer_g}\")"
      ],
      "execution_count": null,
      "outputs": [
        {
          "output_type": "stream",
          "name": "stdout",
          "text": [
            "Pr(R|D=d0)=[0.34 0.66]\n"
          ]
        }
      ]
    },
    {
      "cell_type": "markdown",
      "metadata": {
        "id": "05xm-VaW8UQh"
      },
      "source": [
        "h) $Pr(R|D=d^1, G=g^2)$\n",
        "\n",
        "$P(R|D=d1,G=g2) = \\frac{P(R,D=d1,G=g2)}{P(D=d1,G=g2)} = \\frac{\\sum_s P(S=s).P(D=d1).P(R|S=s).P(G=g2|S=s,D=d1)}{\\sum_s P(S=s).P(D=d1).P(G=g2|S=s,D=d1)}$"
      ]
    },
    {
      "cell_type": "code",
      "metadata": {
        "id": "shjD8GIL8UZV",
        "colab": {
          "base_uri": "https://localhost:8080/"
        },
        "outputId": "d4899b9e-928f-40c9-e284-4c6dceb9b8a8"
      },
      "source": [
        "Pr_RDG = np.sum(Pr_S * Pr_D * Pr_R_given_S * Pr_G_given_SD, axis=0, keepdims=True)\n",
        "Pr_DG = np.sum(Pr_S * Pr_D * Pr_G_given_SD, axis=0, keepdims=True)\n",
        "Pr_R_given_DG = Pr_RDG / Pr_DG\n",
        "answer_h = Pr_R_given_DG[:,1,:,2,:].squeeze() # TODO\n",
        "print(f\"Pr(R|D=d1, G=g2)={answer_h}\")"
      ],
      "execution_count": null,
      "outputs": [
        {
          "output_type": "stream",
          "name": "stdout",
          "text": [
            "Pr(R|D=d1, G=g2)=[0.21148 0.78852]\n"
          ]
        }
      ]
    },
    {
      "cell_type": "markdown",
      "metadata": {
        "id": "9i2ahKAj8Umu"
      },
      "source": [
        "i) $Pr(R|D=d^0, G=g^2)$"
      ]
    },
    {
      "cell_type": "code",
      "metadata": {
        "id": "2nLKd4c18UuA",
        "colab": {
          "base_uri": "https://localhost:8080/"
        },
        "outputId": "a07b1514-b07c-4843-8343-cdf6522614b2"
      },
      "source": [
        "answer_i = Pr_R_given_DG[:,0,:,2,:].squeeze() # TODO\n",
        "print(f\"Pr(R|D=d0, G=g2)={answer_i}\")"
      ],
      "execution_count": null,
      "outputs": [
        {
          "output_type": "stream",
          "name": "stdout",
          "text": [
            "Pr(R|D=d0, G=g2)=[0.24667 0.75333]\n"
          ]
        }
      ]
    },
    {
      "cell_type": "markdown",
      "metadata": {
        "id": "iUc0EpO18eA-"
      },
      "source": [
        "j) $Pr(R|D=d^1, L=l^1)$\n",
        "\n",
        "$P(R|D=d1,L=l1) = \\frac{P(R,D=d1,L=l1)}{P(D=d1,L=l1)} = \\frac{\\sum_{s,g} P(S=s).P(D=d1).P(R|S=s).P(G=g|S=s,D=d1).P(L=l1|G=g)}{\\sum_{s,g} P(S=s).P(D=d1).P(G=g|S=s,D=d1).P(L=l1|G=g)}$"
      ]
    },
    {
      "cell_type": "code",
      "metadata": {
        "id": "mgDLu0nJ8eM2",
        "colab": {
          "base_uri": "https://localhost:8080/"
        },
        "outputId": "61a5db78-7ac5-4470-e477-df8e814b4766"
      },
      "source": [
        "Pr_RDL = np.sum(Pr_S * Pr_D * Pr_R_given_S * Pr_G_given_SD * Pr_L_given_G, axis=(0,3), keepdims=True)\n",
        "Pr_DL = np.sum(Pr_S * Pr_D * Pr_G_given_SD * Pr_L_given_G, axis=(0,3), keepdims=True)\n",
        "Pr_R_given_DL = Pr_RDL / Pr_DL\n",
        "\n",
        "answer_j = Pr_R_given_DL[:,1,:,:,1].squeeze() # TODO\n",
        "print(f\"Pr(R|D=d1, L=l1)={answer_j}\")"
      ],
      "execution_count": null,
      "outputs": [
        {
          "output_type": "stream",
          "name": "stdout",
          "text": [
            "Pr(R|D=d1, L=l1)=[0.2475 0.7525]\n"
          ]
        }
      ]
    },
    {
      "cell_type": "markdown",
      "source": [
        "k) $Pr(R|D=d^0, L=l^1)$\n",
        "\n",
        "On remplace $d^1$ par $d^0$"
      ],
      "metadata": {
        "id": "G2rCcDgyuo5c"
      }
    },
    {
      "cell_type": "code",
      "source": [
        "answer_k = Pr_R_given_DL[:,0,:,:,1].squeeze() # TODO\n",
        "print(f\"Pr(R|D=d1, L=l1)={answer_k}\")"
      ],
      "metadata": {
        "colab": {
          "base_uri": "https://localhost:8080/"
        },
        "id": "dpt2RPQqvHbj",
        "outputId": "39778da6-2599-44ae-ed8b-c3b0eb8e8fb1"
      },
      "execution_count": null,
      "outputs": [
        {
          "output_type": "stream",
          "name": "stdout",
          "text": [
            "Pr(R|D=d1, L=l1)=[0.2736 0.7264]\n"
          ]
        }
      ]
    },
    {
      "cell_type": "markdown",
      "source": [
        "l) $Pr(R|do(G=g^2))$\n",
        "\n",
        "$P(R|do(G=g2)) = P(R)$ car si nous forçons la valeur de $G$ celle ci n'est plus causée par $S$ et donc est $G$ est indépendante de $R$"
      ],
      "metadata": {
        "id": "eiHUsWItvL2p"
      }
    },
    {
      "cell_type": "code",
      "source": [
        "answer_l = Pr_R.squeeze() # TODO\n",
        "print(f\"Pr(R|do(G=g2))={answer_l}\")"
      ],
      "metadata": {
        "colab": {
          "base_uri": "https://localhost:8080/"
        },
        "id": "ag5OS3B_vT35",
        "outputId": "0b458670-e97a-4154-ee6b-ad7663f3546e"
      },
      "execution_count": null,
      "outputs": [
        {
          "output_type": "stream",
          "name": "stdout",
          "text": [
            "Pr(R|do(G=g2))=[0.34 0.66]\n"
          ]
        }
      ]
    },
    {
      "cell_type": "markdown",
      "source": [
        "m) $Pr(R|G=g^2)$\n",
        "\n",
        "$P(R|G=g2) = \\sum_s P(R,S=s|G=g2) = \\sum_s P(S=s|G=g2)P(R|S=s,G=g2) = \\sum_s P(S=s|G=g2)P(R|S=s)$\n",
        "Et\n",
        "$P(S=s|G=g2) = \\frac{P(G=g2|S=s)P(S=s)}{P(G=g2)} = \\frac{\\sum_d P(G=g2|S=s,D=d)P(D=d)P(S=s)}{P(G=g2)}$"
      ],
      "metadata": {
        "id": "Dm1JoSs51P6l"
      }
    },
    {
      "cell_type": "code",
      "source": [
        "Pr_S_given_G = np.sum(Pr_G_given_SD * Pr_D * Pr_S, axis=1, keepdims=True) / Pr_G\n",
        "Pr_R_given_G = np.sum(Pr_S_given_G * Pr_R_given_S, axis=0, keepdims=True)\n",
        "\n",
        "answer_m = Pr_R_given_G[:,:,:,2,:].squeeze() # TODO\n",
        "print(f\"Pr(R|G=g2)={answer_m}\")"
      ],
      "metadata": {
        "colab": {
          "base_uri": "https://localhost:8080/"
        },
        "id": "8lT5Bhwm1Vca",
        "outputId": "d345379d-d610-4271-a363-4df84a015597"
      },
      "execution_count": null,
      "outputs": [
        {
          "output_type": "stream",
          "name": "stdout",
          "text": [
            "Pr(R|G=g2)=[0.24515 0.75485]\n"
          ]
        }
      ]
    },
    {
      "cell_type": "markdown",
      "source": [
        "n) $Pr(R)$\n",
        "déjà calculer à la question b"
      ],
      "metadata": {
        "id": "2yAntka31ZDh"
      }
    },
    {
      "cell_type": "code",
      "source": [
        "answer_n = Pr_R.squeeze() # TODO\n",
        "print(f\"Pr(R={answer_n}\")"
      ],
      "metadata": {
        "colab": {
          "base_uri": "https://localhost:8080/"
        },
        "id": "3156HkiD1mNe",
        "outputId": "b79aa02d-7408-4167-8110-d72d9cca6c6c"
      },
      "execution_count": null,
      "outputs": [
        {
          "output_type": "stream",
          "name": "stdout",
          "text": [
            "Pr(R=[0.34 0.66]\n"
          ]
        }
      ]
    },
    {
      "cell_type": "markdown",
      "source": [
        "o) $Pr(G|do(L=l^1))$\n",
        "\n",
        "Le fait de forcer $L$ à $1$ ne change pas les probabilités de $G$:\n",
        "\n",
        "$P(G|do(L=l1)) = \\sum_{s,d} P(G,S=s,D=d|do(L=l1)) = \\sum_{s,d} P(G,S=s,D=d) = \\sum_{s,d} P(G|S=s,D=d)P(S=s)P(D=d) = P(G) $"
      ],
      "metadata": {
        "id": "wR0NIlpE1dni"
      }
    },
    {
      "cell_type": "code",
      "source": [
        "answer_o = Pr_G.squeeze() # TODO\n",
        "print(f\"Pr(G|do(L=l1))={answer_o}\")"
      ],
      "metadata": {
        "colab": {
          "base_uri": "https://localhost:8080/"
        },
        "id": "N_SfC2CJ1bb7",
        "outputId": "e0ae3c92-b3eb-4a75-fff7-be5660914d18"
      },
      "execution_count": null,
      "outputs": [
        {
          "output_type": "stream",
          "name": "stdout",
          "text": [
            "Pr(G|do(L=l1))=[0.204  0.2316 0.5644]\n"
          ]
        }
      ]
    },
    {
      "cell_type": "markdown",
      "source": [
        "p) $Pr(G=1|L=l^1)$\n",
        "\n",
        "$P(G=g1|L=l1) = \\frac{P(L=l1|G=g1)P(G=g1)}{P(L=l1)} = \\frac{P(L=l1|G=g1)P(G=g1)}{\\sum_{g} P(L=l1|G=g).P(G=g)}$"
      ],
      "metadata": {
        "id": "Ac48SDKS1x8p"
      }
    },
    {
      "cell_type": "code",
      "source": [
        "Pr_GL = Pr_L_given_G * Pr_G\n",
        "Pr_L = np.sum(Pr_GL, axis=3, keepdims=True)\n",
        "Pr_G_given_L = Pr_GL / Pr_L\n",
        "\n",
        "answer_p = Pr_G_given_L[:,:,:,1,1].squeeze() # TODO\n",
        "print(f\"Pr(G=1|L=l1)={answer_p}\")"
      ],
      "metadata": {
        "colab": {
          "base_uri": "https://localhost:8080/"
        },
        "id": "8dNsTqjJ11P3",
        "outputId": "5dbe9b45-d04a-41cc-eec5-4f9288153026"
      },
      "execution_count": null,
      "outputs": [
        {
          "output_type": "stream",
          "name": "stdout",
          "text": [
            "Pr(G=1|L=l1)=0.13789900505510602\n"
          ]
        }
      ]
    },
    {
      "cell_type": "markdown",
      "metadata": {
        "id": "fqfqhDoL5CfA"
      },
      "source": [
        "# Partie 2 (20 points)"
      ]
    },
    {
      "cell_type": "markdown",
      "metadata": {
        "id": "ZjIVlyRq5CjA"
      },
      "source": [
        "## Objectif\n",
        "\n",
        "L’objectif de la partie 2 du travail pratique est de permettre à l’étudiant de se familiariser avec l’apprentissage automatique via la régression logistique. Nous allons donc résoudre un problème de classification d'images en utilisant l’approche de descente du gradient (gradient descent) pour optimiser la log-vraisemblance négative (negative log-likelihood) comme fonction de perte.\n",
        "\n",
        "L'algorithme à implémenter est une variation de descente de gradient qui s’appelle l’algorithme de descente de gradient stochastique par mini-ensemble (mini-batch stochastic gradient descent).  Votre objectif est d’écrire un programme en Python pour optimiser les paramètres d’un modèle étant donné un ensemble de données d’apprentissage, en utilisant un ensemble de validation pour déterminer quand arrêter l'optimisation, et finalement de montrer la performance sur l’ensemble du test."
      ]
    },
    {
      "cell_type": "markdown",
      "metadata": {
        "id": "vFxYYRQJ5Cnb"
      },
      "source": [
        "## Théorie: la régression logistique et le calcul du gradient\n",
        "\n",
        "\n",
        "Il est possible d’encoder l’information concernant l’étiquetage avec des vecteurs multinomiaux (one-hot vectors), c.-à-d. un vecteur de zéros avec un seul 1 pour indiquer quand la classe $C=k$ dans la dimension $k$. Par exemple, le vecteur $\\mathbf{y}=[0, 1, 0, \\cdots, 0]^T$ représente la deuxième classe. Les caractéristiques (features) sont données par des vecteurs $\\mathbf{x}_i \\in \\mathbb{R}^{D}$. En définissant les paramètres de notre modèle comme : $\\mathbf{W}=[\\mathbf{w}_1, \\cdots, \\mathbf{w}_K]^T$ et $\\mathbf{b}=[b_1, b_2, \\cdots  b_K]^T$ et la fonction softmax comme fonction de sortie, on peut exprimer notre modèle sous la forme :\n",
        "\\begin{eqnarray}\n",
        "    p(\\mathbf{y}|\\mathbf{x})\n",
        "    &=& \\frac{\\exp(\\mathbf{y}^T \\mathbf{W} \\mathbf{x} + \\mathbf{y}^T \\mathbf{b})}{\\sum_{\\mathbf{y}_k \\in \\mathscr{Y}} \\exp(\\mathbf{y}_k^T \\mathbf{W} \\mathbf{x} + \\mathbf{y}_k^T \\mathbf{b})}\n",
        "\\end{eqnarray}\n",
        "L'ensemble de données consiste de $n$ paires (label, input) de la forme $\\mathscr{D}:=(\\mathbf{\\tilde{y}}_i, \\mathbf{\\tilde{x}}_i)_{i=1}^n$, où nous utilisons l'astuce de redéfinir $\\mathbf{\\tilde{x}}_i = [\\mathbf{\\tilde{x}}_i^T 1]^T$ et nous redéfinissions la matrice de paramètres $\\boldsymbol{\\theta} \\in \\mathbb{R}^{K\\times(D+1)}$ (voir des notes de cours pour la relation entre $\\boldsymbol{\\theta}$ et $\\mathbf{W}$). Notre fonction de perte, la log-vraisemblance négative des données selon notre modèle est définie comme:\n",
        "\\begin{equation}\n",
        "    \\mathscr{L}\\big( \\boldsymbol{\\theta}, \\mathscr{D} \\big) := -\\log \\prod_{i=1}^N P(\\mathbf{\\tilde{y}}_i|\\mathbf{\\tilde{x}}_i; \\boldsymbol{\\theta})\n",
        "\\end{equation}\n",
        "Pour cette partie du TP, nous avons calculé pour vous le gradient de la fonction de perte par rapport par rapport aux paramètres du modèle:\n",
        "\\begin{eqnarray}\n",
        "    \\frac{\\partial}{\\partial \\boldsymbol{\\theta}} \\mathscr{L}\\big( \\boldsymbol{\\theta}, \\mathscr{D} \\big)\n",
        "    &=& -\\sum_{i=1}^N \\frac{\\partial}{\\partial \\boldsymbol{\\theta}} \\Bigg\\{\\log \\Bigg(\\frac{\\exp(\\mathbf{\\tilde{y}}_i^T \\boldsymbol{\\theta} \\mathbf{\\tilde{x}}_i)}{\\sum_{\\mathbf{y}_k \\in \\mathscr{Y}} \\exp(\\mathbf{y}_k^T \\boldsymbol{\\theta} \\mathbf{\\tilde{x}}_i)} \\Bigg) \\Bigg\\} \\\\\n",
        "    &=& -\\sum_{i=1}^N \\left(\\mathbf{\\tilde{y}}_i \\mathbf{\\tilde{x}}^T_i- \\sum_{\\mathbf{y}_k \\in \\mathscr{Y}} P(\\mathbf{y}_k|\\mathbf{\\tilde{x}}_i,\\boldsymbol{\\theta}) \\mathbf{y}_k \\mathbf{\\tilde{x}}^T_i \\right) \\\\\n",
        "    &=& \\sum_{i=1}^N \\mathbf{\\hat{p}}_i \\mathbf{\\tilde{x}}^T_i - \\sum_{i=1}^N \\mathbf{\\tilde{y}}_i \\mathbf{\\tilde{x}}^T_i\n",
        "\\end{eqnarray}\n",
        "où $\\mathbf{\\hat{p}}_i$ est un vecteur de probabilités produit par le modèle pour l'exemple $\\mathbf{\\tilde{x}}_i$ et $\\mathbf{\\tilde{y}}_i$ est le vrai *label* pour ce même exemple.\n",
        "\n",
        "Finalement, il reste à discuter de l'évaluation du modèle. Pour la tâche d'intérêt, qui est une instance du problème de classification, il existe plusieurs métriques pour mesurer les performances du modèle la précision de classification, l'erreur de classification, le taux de faux/vrai positifs/négatifs, etc. Habituellement dans le contexte de l'apprentissage automatique, la précision est la plus commune.\n",
        "\n",
        "La précision est définie comme le rapport du nombre d'échantillons bien classés sur le nombre total d'échantillons à classer:\n",
        "$$\n",
        "\\tau_{acc} := \\frac{|\\mathscr{C}|}{|\\mathscr{D}|}\n",
        "$$\n",
        "où l'ensemble des échantillons bien classés $\\mathscr{C}$ est:\n",
        "$$\n",
        "\\mathscr{C} := \\lbrace (\\mathbf{x}, \\mathbf{y}) \\in \\mathscr{D} \\, | \\, \\underset{k}{\\arg\\max} \\, \\, P(\\cdot|\\mathbf{\\tilde{x}}_i; \\boldsymbol{\\theta})_k = \\underset{k}{\\arg\\max} \\, \\, \\tilde{y}_{i,k} \\rbrace\n",
        "$$\n",
        "En mots, il s'agit du sous-ensemble d'échantillons pour lesquels la classe la plus probable selon notre modèle correspond à la vraie classe."
      ]
    },
    {
      "cell_type": "markdown",
      "metadata": {
        "id": "Ffr5uSLRzkkY"
      },
      "source": []
    },
    {
      "cell_type": "markdown",
      "metadata": {
        "id": "x3wjjnIDGHZj"
      },
      "source": [
        "## Description des tâches\n",
        "\n",
        "#### 1. Code à compléter\n",
        "\n",
        "On vous demande de compléter l'extrait de code ci-dessous pour résoudre ce problème. Vous devez utiliser la librairie PyTorch cette partie du TP: https://pytorch.org/docs/stable/index.html. Mettez à jour les paramètres de votre modèle avec la descente par *mini-batch*. Exécutez des expériences avec trois différents ensembles: un ensemble d’apprentissages avec 90\\% des exemples (choisis au hasard), un ensemble de validation avec 10\\%. Utilisez uniquement l'ensemble de test pour obtenir votre meilleur résultat une fois que vous pensez avoir obtenu votre meilleure stratégie pour entraîner le modèle.\n",
        "\n",
        "#### 2. Rapport à rédiger\n",
        "\n",
        "Présentez vos résultats dans un rapport. Ce rapport devrait inclure:\n",
        "\n",
        "- **Recherche d'hyperparamètres:** Faites une recherche d'hyperparamètres pour différents taux d'apprentissage, e.g. 0.1, 0.01, 0.001, et différentes tailles de mini-batch, e.g. 1, 20, 200, 1000 pour des modèles entrainés avec SGD. Présentez dans un tableau la précision finale du modèle, sur l'*ensemble de validation*, pour ces différentes combinaisons d'hyperparamètres.\n",
        "\n",
        "- **Analyse du meilleur modèle:** Pour votre meilleur modèle, présentez deux figures montrant la progression de son apprentissage sur l'*ensembe d'entrainement et l'ensemble de validation*. La première figure montrant les courbes de log-vraisemblance négative moyenne après chaque epoch, la deuxième montrant la précision du modèle après chaque epoch. Finalement donnez la précision finale sur l'ensemble de test.\n",
        "\n",
        "- **Lire l'article de recherche -\n",
        "Adam**: a method for stochastic optimization. Kingma, D., \\& Ba, J. (2015). International Conference on Learning Representation (ICLR).\n",
        "https://arxiv.org/pdf/1412.6980.pdf. Implémentez Adam, répétez les deux étapes précédentes (recherche d'hyperparamètres et analyse du meilleur modèle) cette fois en utilisat Adam, et comparez les performances finales avec votre meilleur modèle SGD.\n",
        "\n",
        "**IMPORTANT**\n",
        "\n",
        "L'objectif du TP est de vous faire implémenter la rétropropagation à la main. **Il est donc interdit d'utiliser les capacités de construction de modèles ou de différentiation automatique de pytorch -- par exemple, aucun appels à torch.nn, torch.autograd ou à la méthode .backward().** L'objectif est d'implémenter un modèle de classification logistique ainsi que son entainement en utilisant uniquement des opérations matricielles de base fournies par PyTorch e.g. torch.sum(), torch.matmul(), etc."
      ]
    },
    {
      "cell_type": "markdown",
      "source": [
        "## Fonctions fournies"
      ],
      "metadata": {
        "id": "oQq0nDgZuMfs"
      }
    },
    {
      "cell_type": "code",
      "metadata": {
        "id": "-U_jhXT_0Cbs",
        "colab": {
          "base_uri": "https://localhost:8080/"
        },
        "outputId": "69171b60-627b-416c-c25e-3079a7b808d5"
      },
      "source": [
        "# fonctions pour charger les ensembles de donnees\n",
        "from torchvision.datasets import FashionMNIST\n",
        "from torchvision import transforms\n",
        "import torch\n",
        "from torch.utils.data import DataLoader, random_split\n",
        "from tqdm import tqdm\n",
        "import matplotlib.pyplot as plt\n",
        "\n",
        "def get_fashion_mnist_dataloaders(val_percentage=0.1, batch_size=1):\n",
        "  dataset = FashionMNIST(\"./dataset\", train=True,  download=True, transform=transforms.Compose([transforms.ToTensor()]))\n",
        "  dataset_test = FashionMNIST(\"./dataset\", train=False,  download=True, transform=transforms.Compose([transforms.ToTensor()]))\n",
        "  len_train = int(len(dataset) * (1.-val_percentage))\n",
        "  len_val = len(dataset) - len_train\n",
        "  dataset_train, dataset_val = random_split(dataset, [len_train, len_val])\n",
        "  data_loader_train = DataLoader(dataset_train, batch_size=batch_size,shuffle=True,num_workers=4)\n",
        "  data_loader_val   = DataLoader(dataset_val, batch_size=batch_size,shuffle=True,num_workers=4)\n",
        "  data_loader_test  = DataLoader(dataset_test, batch_size=batch_size,shuffle=True,num_workers=4)\n",
        "  return data_loader_train, data_loader_val, data_loader_test\n",
        "\n",
        "def reshape_input(x, y):\n",
        "    x = x.view(-1, 784)\n",
        "    y = torch.FloatTensor(len(y), 10).zero_().scatter_(1,y.view(-1,1),1)\n",
        "    return x, y\n",
        "\n",
        "\n",
        "# call this once first to download the datasets\n",
        "_ = get_fashion_mnist_dataloaders()"
      ],
      "execution_count": 4,
      "outputs": [
        {
          "output_type": "stream",
          "name": "stdout",
          "text": [
            "Downloading http://fashion-mnist.s3-website.eu-central-1.amazonaws.com/train-images-idx3-ubyte.gz\n",
            "Downloading http://fashion-mnist.s3-website.eu-central-1.amazonaws.com/train-images-idx3-ubyte.gz to ./dataset/FashionMNIST/raw/train-images-idx3-ubyte.gz\n"
          ]
        },
        {
          "output_type": "stream",
          "name": "stderr",
          "text": [
            "100%|██████████| 26.4M/26.4M [00:01<00:00, 16.6MB/s]\n"
          ]
        },
        {
          "output_type": "stream",
          "name": "stdout",
          "text": [
            "Extracting ./dataset/FashionMNIST/raw/train-images-idx3-ubyte.gz to ./dataset/FashionMNIST/raw\n",
            "\n",
            "Downloading http://fashion-mnist.s3-website.eu-central-1.amazonaws.com/train-labels-idx1-ubyte.gz\n",
            "Downloading http://fashion-mnist.s3-website.eu-central-1.amazonaws.com/train-labels-idx1-ubyte.gz to ./dataset/FashionMNIST/raw/train-labels-idx1-ubyte.gz\n"
          ]
        },
        {
          "output_type": "stream",
          "name": "stderr",
          "text": [
            "100%|██████████| 29.5k/29.5k [00:00<00:00, 270kB/s]\n"
          ]
        },
        {
          "output_type": "stream",
          "name": "stdout",
          "text": [
            "Extracting ./dataset/FashionMNIST/raw/train-labels-idx1-ubyte.gz to ./dataset/FashionMNIST/raw\n",
            "\n",
            "Downloading http://fashion-mnist.s3-website.eu-central-1.amazonaws.com/t10k-images-idx3-ubyte.gz\n",
            "Downloading http://fashion-mnist.s3-website.eu-central-1.amazonaws.com/t10k-images-idx3-ubyte.gz to ./dataset/FashionMNIST/raw/t10k-images-idx3-ubyte.gz\n"
          ]
        },
        {
          "output_type": "stream",
          "name": "stderr",
          "text": [
            "100%|██████████| 4.42M/4.42M [00:00<00:00, 4.96MB/s]\n"
          ]
        },
        {
          "output_type": "stream",
          "name": "stdout",
          "text": [
            "Extracting ./dataset/FashionMNIST/raw/t10k-images-idx3-ubyte.gz to ./dataset/FashionMNIST/raw\n",
            "\n",
            "Downloading http://fashion-mnist.s3-website.eu-central-1.amazonaws.com/t10k-labels-idx1-ubyte.gz\n",
            "Downloading http://fashion-mnist.s3-website.eu-central-1.amazonaws.com/t10k-labels-idx1-ubyte.gz to ./dataset/FashionMNIST/raw/t10k-labels-idx1-ubyte.gz\n"
          ]
        },
        {
          "output_type": "stream",
          "name": "stderr",
          "text": [
            "100%|██████████| 5.15k/5.15k [00:00<00:00, 4.24MB/s]"
          ]
        },
        {
          "output_type": "stream",
          "name": "stdout",
          "text": [
            "Extracting ./dataset/FashionMNIST/raw/t10k-labels-idx1-ubyte.gz to ./dataset/FashionMNIST/raw\n",
            "\n"
          ]
        },
        {
          "output_type": "stream",
          "name": "stderr",
          "text": [
            "\n",
            "/usr/local/lib/python3.11/dist-packages/torch/utils/data/dataloader.py:617: UserWarning: This DataLoader will create 4 worker processes in total. Our suggested max number of worker in current system is 2, which is smaller than what this DataLoader is going to create. Please be aware that excessive worker creation might get DataLoader running slow or even freeze, lower the worker number to avoid potential slowness/freeze if necessary.\n",
            "  warnings.warn(\n"
          ]
        }
      ]
    },
    {
      "cell_type": "code",
      "metadata": {
        "id": "9H5BnbgAOpio"
      },
      "source": [
        "# simple logger to track progress during training\n",
        "class Logger:\n",
        "    def __init__(self):\n",
        "        self.losses_train = []\n",
        "        self.losses_valid = []\n",
        "        self.accuracies_train = []\n",
        "        self.accuracies_valid = []\n",
        "\n",
        "    def log(self, accuracy_train=0, loss_train=0, accuracy_valid=0, loss_valid=0):\n",
        "        self.losses_train.append(loss_train)\n",
        "        self.accuracies_train.append(accuracy_train)\n",
        "        self.losses_valid.append(loss_valid)\n",
        "        self.accuracies_valid.append(accuracy_valid)\n",
        "\n",
        "    def plot_loss_and_accuracy(self, train=True, valid=True):\n",
        "\n",
        "        assert train and valid, \"Cannot plot accuracy because neither train nor valid.\"\n",
        "\n",
        "        figure, (ax1, ax2) = plt.subplots(nrows=1, ncols=2,\n",
        "                                            figsize=(12, 6))\n",
        "\n",
        "        if train:\n",
        "            ax1.plot(self.losses_train, label=\"Training\")\n",
        "            ax2.plot(self.accuracies_train, label=\"Training\")\n",
        "        if valid:\n",
        "            ax1.plot(self.losses_valid, label=\"Validation\")\n",
        "            ax1.set_title(\"CrossEntropy Loss\")\n",
        "            ax2.plot(self.accuracies_valid, label=\"Validation\")\n",
        "            ax2.set_title(\"Accuracy\")\n",
        "\n",
        "        for ax in figure.axes:\n",
        "            ax.set_xlabel(\"Epoch\")\n",
        "            ax.legend(loc='best')\n",
        "            ax.set_axisbelow(True)\n",
        "            ax.minorticks_on()\n",
        "            ax.grid(True, which=\"major\", linestyle='-')\n",
        "            ax.grid(True, which=\"minor\", linestyle='--', color='lightgrey', alpha=.4)\n",
        "\n",
        "    def print_last(self):\n",
        "        print(f\"Epoch {len(self.losses_train):2d}, \\\n",
        "                Train:loss={self.losses_train[-1]:.3f}, accuracy={self.accuracies_train[-1]*100:.1f}%, \\\n",
        "                Valid: loss={self.losses_valid[-1]:.3f}, accuracy={self.losses_valid[-1]*100:.1f}%\", flush=True)"
      ],
      "execution_count": 5,
      "outputs": []
    },
    {
      "cell_type": "markdown",
      "metadata": {
        "id": "vAJ5iiRUZw3f"
      },
      "source": [
        "## Aperçu de l'ensemble de données FashionMnist"
      ]
    },
    {
      "cell_type": "code",
      "metadata": {
        "colab": {
          "base_uri": "https://localhost:8080/",
          "height": 380
        },
        "id": "fK-eNmc8Zv2d",
        "outputId": "3c29ecff-ab37-4d52-f1b4-0ea9e2c602b1"
      },
      "source": [
        "def plot_samples():\n",
        "  a, _, _ = get_fashion_mnist_dataloaders()\n",
        "  num_row = 2\n",
        "  num_col = 5# plot images\n",
        "  num_images = num_row * num_col\n",
        "  fig, axes = plt.subplots(num_row, num_col, figsize=(1.5*num_col,2*num_row))\n",
        "  for i, (x,y) in enumerate(a):\n",
        "      if i >= num_images:\n",
        "        break\n",
        "      ax = axes[i//num_col, i%num_col]\n",
        "      x = (x.numpy().squeeze() * 255).astype(int)\n",
        "      y = y.numpy()[0]\n",
        "      ax.imshow(x, cmap='gray')\n",
        "      ax.set_title(f\"Label: {y}\")\n",
        "\n",
        "  plt.tight_layout()\n",
        "  plt.show()\n",
        "plot_samples()"
      ],
      "execution_count": null,
      "outputs": [
        {
          "output_type": "display_data",
          "data": {
            "text/plain": [
              "<Figure size 750x400 with 10 Axes>"
            ],
            "image/png": "[encoded data removed]"
          },
          "metadata": {}
        }
      ]
    },
    {
      "cell_type": "markdown",
      "metadata": {
        "id": "EpZ8NK8_CAqW"
      },
      "source": [
        "## Fonctions à compléter"
      ]
    },
    {
      "cell_type": "markdown",
      "source": [
        "\n",
        "\n",
        "\n",
        " ***Crossentropy***\n",
        "\n",
        "Pour un vecteur one-hot $y$ et la prédiction (distrib de proba prédites) $y_{pred}$ on a l'erreur de cross entropy\n",
        "\n",
        "$-\\sum_{c=1}^K y_c \\log(y_{pred,c})$\n",
        "Donc pour avoir la loss sur un batch entier on fait la moyenne\n",
        "$-\\frac{1}{len(Batch)}\\sum_{i\\in Batch}\\sum_{c=1}^K y_c \\log(y_{pred,c})$\n"
      ],
      "metadata": {
        "id": "DXug6tGWUZrr"
      }
    },
    {
      "cell_type": "code",
      "metadata": {
        "id": "VSc19WnyQsFv"
      },
      "source": [
        "def accuracy(y, y_pred) :\n",
        "    # todo : nombre d'éléments à classifier.\n",
        "    card_D = len(y)\n",
        "\n",
        "    # todo : calcul du nombre d'éléments bien classifiés.\n",
        "    y_pred_classes = torch.argmax(y_pred, dim=1)  # Indices des classes prédictes\n",
        "    y_true_classes = torch.argmax(y, dim=1)       # Indices des classes vraies\n",
        "    card_C = (y_pred_classes == y_true_classes).sum().item()\n",
        "\n",
        "    # todo : calcul de la précision de classification.\n",
        "    acc = card_C / card_D\n",
        "\n",
        "    return acc, (card_C, card_D)\n",
        "\n",
        "def accuracy_and_loss_whole_dataset(data_loader, model):\n",
        "    cardinal = 0\n",
        "    loss     = 0.\n",
        "    n_accurate_preds  = 0.\n",
        "\n",
        "    for x, y in data_loader:\n",
        "        x, y = reshape_input(x, y)\n",
        "        y_pred                = model.forward(x)\n",
        "        xentrp                = cross_entropy(y, y_pred)\n",
        "        _, (n_acc, n_samples) = accuracy(y, y_pred)\n",
        "\n",
        "        cardinal = cardinal + n_samples\n",
        "        loss     = loss + xentrp\n",
        "        n_accurate_preds  = n_accurate_preds + n_acc\n",
        "\n",
        "    loss = loss / float(cardinal)\n",
        "    acc  = n_accurate_preds / float(cardinal)\n",
        "\n",
        "    return acc, loss\n",
        "\n",
        "def cross_entropy(y, y_pred):\n",
        "    # todo : calcul de la valeur d'entropie croisée.\n",
        "    loss = -torch.sum(y * torch.log(y_pred + 1e-8)) / y.shape[0]\n",
        "    return loss\n",
        "\n",
        "def softmax(x, axis=-1):\n",
        "    # assurez vous que la fonction est numeriquement stable\n",
        "    # e.g. a\n",
        "    # todo : calcul des valeurs de softmax(x)\n",
        "\n",
        "    #On assume que les d'entrées sont les suivantes :\n",
        "\n",
        "    # x = [x_1, x_2 ... x_batchSize]\n",
        "    # x_1 = [w_observ1_classe0 . x_observ1_classe0 + b_observ1_classe0, w_observ1_classe1 . x_observ1_classe1 + b_observ1_classe1, ...]  (logit pour les différentes classes)\n",
        "\n",
        "    # Pour la stabilité comme softmax(x_i) = [exp(x_i[0]), exp(x_i[1]), ... , exp(x_i[K])] / sum(exp(x_i))\n",
        "    # si on divise en haut et en base bar exp(max(x_i)) on toujours l'égalité donc on peut juste retranché le logit le plus grand pour chaque batch afin d'avoir aucun exponentiel > 1 (non stable) à caculer\n",
        "\n",
        "    x_max = torch.amax(x, dim=axis, keepdim=True)\n",
        "    x_exp = torch.exp(x - x_max)\n",
        "    sum_exp = torch.sum(x_exp, dim=axis, keepdim=True)\n",
        "    values = x_exp / sum_exp\n",
        "    return values\n",
        "\n",
        "def inputs_tilde(x, axis=-1):\n",
        "    # augments the inputs `x` with ones along `axis`\n",
        "    # todo : implémenter code ici.\n",
        "    # On concatène une colonne de 1 pour le biais\n",
        "    ones = torch.ones(x.shape[0], 1)\n",
        "    x_tilde = torch.cat((x, ones), dim=axis)\n",
        "    return x_tilde"
      ],
      "execution_count": 11,
      "outputs": []
    },
    {
      "cell_type": "code",
      "source": [
        "softmax(torch.tensor([[1000, 10000, 100000]]), axis =1)\n",
        "# La stabilité est assurée et on a bien le résultat attentue"
      ],
      "metadata": {
        "colab": {
          "base_uri": "https://localhost:8080/"
        },
        "id": "DMj6mPPoz4jR",
        "outputId": "734541ac-b336-4094-8666-4f2ffd37d043"
      },
      "execution_count": 12,
      "outputs": [
        {
          "output_type": "execute_result",
          "data": {
            "text/plain": [
              "tensor([[0., 0., 1.]])"
            ]
          },
          "metadata": {},
          "execution_count": 12
        }
      ]
    },
    {
      "cell_type": "code",
      "metadata": {
        "id": "ya7J-i89GHnp"
      },
      "source": [
        "class LinearModel:\n",
        "    def __init__(self, num_features, num_classes):\n",
        "      self.params = torch.normal(0, 0.01, (num_features + 1, num_classes))\n",
        "\n",
        "      self.t = 0\n",
        "      self.m_t = 0 # pour Adam: moyennes mobiles du gradient\n",
        "      self.v_t = 0 # pour Adam: moyennes mobiles du carré du gradient\n",
        "\n",
        "    def forward(self, x):\n",
        "      # todo : implémenter calcul des outputs en fonction des inputs `x`.\n",
        "\n",
        "      # Pour un batch de taille batchSize on a les dimensions suivantes :\n",
        "      # x                   : (batchSize, 784)\n",
        "      # inputs_tilde(x,1)   : (batchSize, 785)\n",
        "      # self.params (W)     : (785, 10)\n",
        "\n",
        "      # On veut des logits de dimension (batchSize, 10), il faut donc faire la multiplication matricielle\n",
        "      # logits = inputs_tilde(x,1) * self.params  (= x_augmented * W contrairement à w.x^T écris dans le cours)\n",
        "\n",
        "\n",
        "      inputs = inputs_tilde(x, 1)\n",
        "      logits = torch.matmul(inputs, self.params)\n",
        "      outputs = softmax(logits)\n",
        "      return outputs\n",
        "\n",
        "    def get_grads(self, y, y_pred, X):\n",
        "      # todo : implémenter calcul des gradients.\n",
        "\n",
        "      # On veut un gradient de la même dimension que W (self.params) i.e (785,10)\n",
        "      #\n",
        "      # On a les entrées de dimensions\n",
        "      # inputs_tilde(X,1) : (batchSize,785)\n",
        "      # y : (batchSize,10)\n",
        "      # y_pred : (batchSize, 10)\n",
        "      #\n",
        "      # Le gradient ce calcule donc comme\n",
        "      # inputs_tilde(X,1)^T * (y_pred - y)\n",
        "\n",
        "      grads = torch.matmul(torch.transpose(inputs_tilde(X, 1), 0, 1), (y_pred - y))\n",
        "      return grads\n",
        "\n",
        "    def sgd_update(self, lr, grads):\n",
        "      # TODO : implémenter mise à jour des paramètres ici.\n",
        "      self.params -= lr * grads\n",
        "\n",
        "    def adam_update(self, lr, grads):\n",
        "      beta1 = 0.9\n",
        "      beta2 = 0.999\n",
        "\n",
        "      self.t += 1\n",
        "      self.m_t = beta1 * self.m_t + (1 - beta1) * grads\n",
        "      self.v_t = beta2 * self.v_t + (1 - beta2) * (grads**2)\n",
        "      m = self.m_t / (1 - beta1)\n",
        "      v = self.v_t / (1 - beta2)\n",
        "      self.params -= lr * m / (torch.sqrt(v) + 1e-8)\n",
        "\n",
        "def train(model, lr=0.1, nb_epochs=10, sgd=True, data_loader_train=None, data_loader_val=None):\n",
        "    best_model = None\n",
        "    best_val_accuracy = 0\n",
        "    logger = Logger()\n",
        "\n",
        "    for epoch in range(nb_epochs+1):\n",
        "        # at epoch 0 evaluate random initial model\n",
        "        #   then for subsequent epochs, do optimize before evaluation.\n",
        "        if epoch > 0:\n",
        "          for x, y in data_loader_train:\n",
        "              x, y = reshape_input(x, y)\n",
        "              y_pred = model.forward(x)\n",
        "              loss = cross_entropy(y, y_pred)\n",
        "              grads = model.get_grads(y, y_pred, x)\n",
        "              if sgd:\n",
        "                model.sgd_update(lr, grads)\n",
        "              else:\n",
        "                model.adam_update(lr, grads)\n",
        "\n",
        "        accuracy_train, loss_train = accuracy_and_loss_whole_dataset(data_loader_train, model)\n",
        "        accuracy_val, loss_val = accuracy_and_loss_whole_dataset(data_loader_val, model)\n",
        "\n",
        "        if accuracy_val > best_val_accuracy:\n",
        "          best_val_accuracy = accuracy_val\n",
        "          best_model = model\n",
        "\n",
        "        logger.log(accuracy_train, loss_train, accuracy_val, loss_val)\n",
        "        print(f\"Epoch {epoch:2d}, \\\n",
        "                Train: loss={loss_train:.3f}, accuracy={accuracy_train*100:.1f}%, \\\n",
        "                Valid: loss={loss_val:.3f}, accuracy={accuracy_val*100:.1f}%\", flush=True)\n",
        "\n",
        "    return best_model, best_val_accuracy, logger\n"
      ],
      "execution_count": 13,
      "outputs": []
    },
    {
      "cell_type": "markdown",
      "source": [
        "## Évaluation"
      ],
      "metadata": {
        "id": "_zUGBmtf9pcA"
      }
    },
    {
      "cell_type": "markdown",
      "source": [
        "### SGD: Recherche d'hyperparamètres"
      ],
      "metadata": {
        "id": "eUuU5n979pcD"
      }
    },
    {
      "cell_type": "code",
      "source": [
        "# SGD\n",
        "# Montrez les résultats pour différents taux d'apprentissage, e.g. 0.1, 0.01, 0.001, et différentes tailles de mini-batch, e.g. 1, 20, 200, 1000.\n",
        "batch_size_list = [5, 25, 50, 300, 500]   # Define ranges in a list\n",
        "lr_list = [1, 0.1, 0.01, 0.001, 0.0001]           # Define ranges in a list\n",
        "\n",
        "with torch.no_grad():\n",
        "  for lr in lr_list:\n",
        "    for batch_size in batch_size_list:\n",
        "      print(\"------------------------------------------------------------------\")\n",
        "      print(\"Training model with a learning rate of {0} and a batch size of {1}\".format(lr, batch_size))\n",
        "      data_loader_train, data_loader_val, data_loader_test = get_fashion_mnist_dataloaders(val_percentage=0.1, batch_size=batch_size)\n",
        "\n",
        "      model = LinearModel(num_features=784, num_classes=10)\n",
        "      _, val_accuracy, _ = train(model,lr=lr, nb_epochs=5, sgd=True, data_loader_train=data_loader_train, data_loader_val=data_loader_val)\n",
        "      print(f\"validation accuracy = {val_accuracy*100:.3f}\")"
      ],
      "metadata": {
        "id": "4R_6Rxgq9pcE",
        "colab": {
          "base_uri": "https://localhost:8080/",
          "height": 373
        },
        "outputId": "eed49657-8a1d-4d9b-dda9-1ccd8d09a7dc"
      },
      "execution_count": null,
      "outputs": [
        {
          "output_type": "stream",
          "name": "stdout",
          "text": [
            "------------------------------------------------------------------\n",
            "Training model with a learning rate of 1 and a batch size of 5\n"
          ]
        },
        {
          "output_type": "error",
          "ename": "KeyboardInterrupt",
          "evalue": "",
          "traceback": [
            "\u001b[0;31m---------------------------------------------------------------------------\u001b[0m",
            "\u001b[0;31mKeyboardInterrupt\u001b[0m                         Traceback (most recent call last)",
            "\u001b[0;32m<ipython-input-7-7a49bde757b1>\u001b[0m in \u001b[0;36m<cell line: 0>\u001b[0;34m()\u001b[0m\n\u001b[1;32m     12\u001b[0m \u001b[0;34m\u001b[0m\u001b[0m\n\u001b[1;32m     13\u001b[0m       \u001b[0mmodel\u001b[0m \u001b[0;34m=\u001b[0m \u001b[0mLinearModel\u001b[0m\u001b[0;34m(\u001b[0m\u001b[0mnum_features\u001b[0m\u001b[0;34m=\u001b[0m\u001b[0;36m784\u001b[0m\u001b[0;34m,\u001b[0m \u001b[0mnum_classes\u001b[0m\u001b[0;34m=\u001b[0m\u001b[0;36m10\u001b[0m\u001b[0;34m)\u001b[0m\u001b[0;34m\u001b[0m\u001b[0;34m\u001b[0m\u001b[0m\n\u001b[0;32m---> 14\u001b[0;31m       \u001b[0m_\u001b[0m\u001b[0;34m,\u001b[0m \u001b[0mval_accuracy\u001b[0m\u001b[0;34m,\u001b[0m \u001b[0m_\u001b[0m \u001b[0;34m=\u001b[0m \u001b[0mtrain\u001b[0m\u001b[0;34m(\u001b[0m\u001b[0mmodel\u001b[0m\u001b[0;34m,\u001b[0m\u001b[0mlr\u001b[0m\u001b[0;34m=\u001b[0m\u001b[0mlr\u001b[0m\u001b[0;34m,\u001b[0m \u001b[0mnb_epochs\u001b[0m\u001b[0;34m=\u001b[0m\u001b[0;36m5\u001b[0m\u001b[0;34m,\u001b[0m \u001b[0msgd\u001b[0m\u001b[0;34m=\u001b[0m\u001b[0;32mTrue\u001b[0m\u001b[0;34m,\u001b[0m \u001b[0mdata_loader_train\u001b[0m\u001b[0;34m=\u001b[0m\u001b[0mdata_loader_train\u001b[0m\u001b[0;34m,\u001b[0m \u001b[0mdata_loader_val\u001b[0m\u001b[0;34m=\u001b[0m\u001b[0mdata_loader_val\u001b[0m\u001b[0;34m)\u001b[0m\u001b[0;34m\u001b[0m\u001b[0;34m\u001b[0m\u001b[0m\n\u001b[0m\u001b[1;32m     15\u001b[0m       \u001b[0mprint\u001b[0m\u001b[0;34m(\u001b[0m\u001b[0;34mf\"validation accuracy = {val_accuracy*100:.3f}\"\u001b[0m\u001b[0;34m)\u001b[0m\u001b[0;34m\u001b[0m\u001b[0;34m\u001b[0m\u001b[0m\n",
            "\u001b[0;32m<ipython-input-6-4beacf2d675b>\u001b[0m in \u001b[0;36mtrain\u001b[0;34m(model, lr, nb_epochs, sgd, data_loader_train, data_loader_val)\u001b[0m\n\u001b[1;32m     74\u001b[0m                 \u001b[0mmodel\u001b[0m\u001b[0;34m.\u001b[0m\u001b[0madam_update\u001b[0m\u001b[0;34m(\u001b[0m\u001b[0mlr\u001b[0m\u001b[0;34m,\u001b[0m \u001b[0mgrads\u001b[0m\u001b[0;34m)\u001b[0m\u001b[0;34m\u001b[0m\u001b[0;34m\u001b[0m\u001b[0m\n\u001b[1;32m     75\u001b[0m \u001b[0;34m\u001b[0m\u001b[0m\n\u001b[0;32m---> 76\u001b[0;31m         \u001b[0maccuracy_train\u001b[0m\u001b[0;34m,\u001b[0m \u001b[0mloss_train\u001b[0m \u001b[0;34m=\u001b[0m \u001b[0maccuracy_and_loss_whole_dataset\u001b[0m\u001b[0;34m(\u001b[0m\u001b[0mdata_loader_train\u001b[0m\u001b[0;34m,\u001b[0m \u001b[0mmodel\u001b[0m\u001b[0;34m)\u001b[0m\u001b[0;34m\u001b[0m\u001b[0;34m\u001b[0m\u001b[0m\n\u001b[0m\u001b[1;32m     77\u001b[0m         \u001b[0maccuracy_val\u001b[0m\u001b[0;34m,\u001b[0m \u001b[0mloss_val\u001b[0m \u001b[0;34m=\u001b[0m \u001b[0maccuracy_and_loss_whole_dataset\u001b[0m\u001b[0;34m(\u001b[0m\u001b[0mdata_loader_val\u001b[0m\u001b[0;34m,\u001b[0m \u001b[0mmodel\u001b[0m\u001b[0;34m)\u001b[0m\u001b[0;34m\u001b[0m\u001b[0;34m\u001b[0m\u001b[0m\n\u001b[1;32m     78\u001b[0m \u001b[0;34m\u001b[0m\u001b[0m\n",
            "\u001b[0;32m<ipython-input-4-13377969be3e>\u001b[0m in \u001b[0;36maccuracy_and_loss_whole_dataset\u001b[0;34m(data_loader, model)\u001b[0m\n\u001b[1;32m     18\u001b[0m     \u001b[0mn_accurate_preds\u001b[0m  \u001b[0;34m=\u001b[0m \u001b[0;36m0.\u001b[0m\u001b[0;34m\u001b[0m\u001b[0;34m\u001b[0m\u001b[0m\n\u001b[1;32m     19\u001b[0m \u001b[0;34m\u001b[0m\u001b[0m\n\u001b[0;32m---> 20\u001b[0;31m     \u001b[0;32mfor\u001b[0m \u001b[0mx\u001b[0m\u001b[0;34m,\u001b[0m \u001b[0my\u001b[0m \u001b[0;32min\u001b[0m \u001b[0mdata_loader\u001b[0m\u001b[0;34m:\u001b[0m\u001b[0;34m\u001b[0m\u001b[0;34m\u001b[0m\u001b[0m\n\u001b[0m\u001b[1;32m     21\u001b[0m         \u001b[0mx\u001b[0m\u001b[0;34m,\u001b[0m \u001b[0my\u001b[0m \u001b[0;34m=\u001b[0m \u001b[0mreshape_input\u001b[0m\u001b[0;34m(\u001b[0m\u001b[0mx\u001b[0m\u001b[0;34m,\u001b[0m \u001b[0my\u001b[0m\u001b[0;34m)\u001b[0m\u001b[0;34m\u001b[0m\u001b[0;34m\u001b[0m\u001b[0m\n\u001b[1;32m     22\u001b[0m         \u001b[0my_pred\u001b[0m                \u001b[0;34m=\u001b[0m \u001b[0mmodel\u001b[0m\u001b[0;34m.\u001b[0m\u001b[0mforward\u001b[0m\u001b[0;34m(\u001b[0m\u001b[0mx\u001b[0m\u001b[0;34m)\u001b[0m\u001b[0;34m\u001b[0m\u001b[0;34m\u001b[0m\u001b[0m\n",
            "\u001b[0;32m/usr/local/lib/python3.11/dist-packages/torch/utils/data/dataloader.py\u001b[0m in \u001b[0;36m__next__\u001b[0;34m(self)\u001b[0m\n\u001b[1;32m    699\u001b[0m                 \u001b[0;31m# TODO(https://github.com/pytorch/pytorch/issues/76750)\u001b[0m\u001b[0;34m\u001b[0m\u001b[0;34m\u001b[0m\u001b[0m\n\u001b[1;32m    700\u001b[0m                 \u001b[0mself\u001b[0m\u001b[0;34m.\u001b[0m\u001b[0m_reset\u001b[0m\u001b[0;34m(\u001b[0m\u001b[0;34m)\u001b[0m  \u001b[0;31m# type: ignore[call-arg]\u001b[0m\u001b[0;34m\u001b[0m\u001b[0;34m\u001b[0m\u001b[0m\n\u001b[0;32m--> 701\u001b[0;31m             \u001b[0mdata\u001b[0m \u001b[0;34m=\u001b[0m \u001b[0mself\u001b[0m\u001b[0;34m.\u001b[0m\u001b[0m_next_data\u001b[0m\u001b[0;34m(\u001b[0m\u001b[0;34m)\u001b[0m\u001b[0;34m\u001b[0m\u001b[0;34m\u001b[0m\u001b[0m\n\u001b[0m\u001b[1;32m    702\u001b[0m             \u001b[0mself\u001b[0m\u001b[0;34m.\u001b[0m\u001b[0m_num_yielded\u001b[0m \u001b[0;34m+=\u001b[0m \u001b[0;36m1\u001b[0m\u001b[0;34m\u001b[0m\u001b[0;34m\u001b[0m\u001b[0m\n\u001b[1;32m    703\u001b[0m             if (\n",
            "\u001b[0;32m/usr/local/lib/python3.11/dist-packages/torch/utils/data/dataloader.py\u001b[0m in \u001b[0;36m_next_data\u001b[0;34m(self)\u001b[0m\n\u001b[1;32m   1446\u001b[0m \u001b[0;34m\u001b[0m\u001b[0m\n\u001b[1;32m   1447\u001b[0m             \u001b[0;32massert\u001b[0m \u001b[0;32mnot\u001b[0m \u001b[0mself\u001b[0m\u001b[0;34m.\u001b[0m\u001b[0m_shutdown\u001b[0m \u001b[0;32mand\u001b[0m \u001b[0mself\u001b[0m\u001b[0;34m.\u001b[0m\u001b[0m_tasks_outstanding\u001b[0m \u001b[0;34m>\u001b[0m \u001b[0;36m0\u001b[0m\u001b[0;34m\u001b[0m\u001b[0;34m\u001b[0m\u001b[0m\n\u001b[0;32m-> 1448\u001b[0;31m             \u001b[0midx\u001b[0m\u001b[0;34m,\u001b[0m \u001b[0mdata\u001b[0m \u001b[0;34m=\u001b[0m \u001b[0mself\u001b[0m\u001b[0;34m.\u001b[0m\u001b[0m_get_data\u001b[0m\u001b[0;34m(\u001b[0m\u001b[0;34m)\u001b[0m\u001b[0;34m\u001b[0m\u001b[0;34m\u001b[0m\u001b[0m\n\u001b[0m\u001b[1;32m   1449\u001b[0m             \u001b[0mself\u001b[0m\u001b[0;34m.\u001b[0m\u001b[0m_tasks_outstanding\u001b[0m \u001b[0;34m-=\u001b[0m \u001b[0;36m1\u001b[0m\u001b[0;34m\u001b[0m\u001b[0;34m\u001b[0m\u001b[0m\n\u001b[1;32m   1450\u001b[0m             \u001b[0;32mif\u001b[0m \u001b[0mself\u001b[0m\u001b[0;34m.\u001b[0m\u001b[0m_dataset_kind\u001b[0m \u001b[0;34m==\u001b[0m \u001b[0m_DatasetKind\u001b[0m\u001b[0;34m.\u001b[0m\u001b[0mIterable\u001b[0m\u001b[0;34m:\u001b[0m\u001b[0;34m\u001b[0m\u001b[0;34m\u001b[0m\u001b[0m\n",
            "\u001b[0;32m/usr/local/lib/python3.11/dist-packages/torch/utils/data/dataloader.py\u001b[0m in \u001b[0;36m_get_data\u001b[0;34m(self)\u001b[0m\n\u001b[1;32m   1410\u001b[0m         \u001b[0;32melse\u001b[0m\u001b[0;34m:\u001b[0m\u001b[0;34m\u001b[0m\u001b[0;34m\u001b[0m\u001b[0m\n\u001b[1;32m   1411\u001b[0m             \u001b[0;32mwhile\u001b[0m \u001b[0;32mTrue\u001b[0m\u001b[0;34m:\u001b[0m\u001b[0;34m\u001b[0m\u001b[0;34m\u001b[0m\u001b[0m\n\u001b[0;32m-> 1412\u001b[0;31m                 \u001b[0msuccess\u001b[0m\u001b[0;34m,\u001b[0m \u001b[0mdata\u001b[0m \u001b[0;34m=\u001b[0m \u001b[0mself\u001b[0m\u001b[0;34m.\u001b[0m\u001b[0m_try_get_data\u001b[0m\u001b[0;34m(\u001b[0m\u001b[0;34m)\u001b[0m\u001b[0;34m\u001b[0m\u001b[0;34m\u001b[0m\u001b[0m\n\u001b[0m\u001b[1;32m   1413\u001b[0m                 \u001b[0;32mif\u001b[0m \u001b[0msuccess\u001b[0m\u001b[0;34m:\u001b[0m\u001b[0;34m\u001b[0m\u001b[0;34m\u001b[0m\u001b[0m\n\u001b[1;32m   1414\u001b[0m                     \u001b[0;32mreturn\u001b[0m \u001b[0mdata\u001b[0m\u001b[0;34m\u001b[0m\u001b[0;34m\u001b[0m\u001b[0m\n",
            "\u001b[0;32m/usr/local/lib/python3.11/dist-packages/torch/utils/data/dataloader.py\u001b[0m in \u001b[0;36m_try_get_data\u001b[0;34m(self, timeout)\u001b[0m\n\u001b[1;32m   1241\u001b[0m         \u001b[0;31m#   (bool: whether successfully get data, any: data if successful else None)\u001b[0m\u001b[0;34m\u001b[0m\u001b[0;34m\u001b[0m\u001b[0m\n\u001b[1;32m   1242\u001b[0m         \u001b[0;32mtry\u001b[0m\u001b[0;34m:\u001b[0m\u001b[0;34m\u001b[0m\u001b[0;34m\u001b[0m\u001b[0m\n\u001b[0;32m-> 1243\u001b[0;31m             \u001b[0mdata\u001b[0m \u001b[0;34m=\u001b[0m \u001b[0mself\u001b[0m\u001b[0;34m.\u001b[0m\u001b[0m_data_queue\u001b[0m\u001b[0;34m.\u001b[0m\u001b[0mget\u001b[0m\u001b[0;34m(\u001b[0m\u001b[0mtimeout\u001b[0m\u001b[0;34m=\u001b[0m\u001b[0mtimeout\u001b[0m\u001b[0;34m)\u001b[0m\u001b[0;34m\u001b[0m\u001b[0;34m\u001b[0m\u001b[0m\n\u001b[0m\u001b[1;32m   1244\u001b[0m             \u001b[0;32mreturn\u001b[0m \u001b[0;34m(\u001b[0m\u001b[0;32mTrue\u001b[0m\u001b[0;34m,\u001b[0m \u001b[0mdata\u001b[0m\u001b[0;34m)\u001b[0m\u001b[0;34m\u001b[0m\u001b[0;34m\u001b[0m\u001b[0m\n\u001b[1;32m   1245\u001b[0m         \u001b[0;32mexcept\u001b[0m \u001b[0mException\u001b[0m \u001b[0;32mas\u001b[0m \u001b[0me\u001b[0m\u001b[0;34m:\u001b[0m\u001b[0;34m\u001b[0m\u001b[0;34m\u001b[0m\u001b[0m\n",
            "\u001b[0;32m/usr/lib/python3.11/multiprocessing/queues.py\u001b[0m in \u001b[0;36mget\u001b[0;34m(self, block, timeout)\u001b[0m\n\u001b[1;32m    120\u001b[0m                 \u001b[0mself\u001b[0m\u001b[0;34m.\u001b[0m\u001b[0m_rlock\u001b[0m\u001b[0;34m.\u001b[0m\u001b[0mrelease\u001b[0m\u001b[0;34m(\u001b[0m\u001b[0;34m)\u001b[0m\u001b[0;34m\u001b[0m\u001b[0;34m\u001b[0m\u001b[0m\n\u001b[1;32m    121\u001b[0m         \u001b[0;31m# unserialize the data after having released the lock\u001b[0m\u001b[0;34m\u001b[0m\u001b[0;34m\u001b[0m\u001b[0m\n\u001b[0;32m--> 122\u001b[0;31m         \u001b[0;32mreturn\u001b[0m \u001b[0m_ForkingPickler\u001b[0m\u001b[0;34m.\u001b[0m\u001b[0mloads\u001b[0m\u001b[0;34m(\u001b[0m\u001b[0mres\u001b[0m\u001b[0;34m)\u001b[0m\u001b[0;34m\u001b[0m\u001b[0;34m\u001b[0m\u001b[0m\n\u001b[0m\u001b[1;32m    123\u001b[0m \u001b[0;34m\u001b[0m\u001b[0m\n\u001b[1;32m    124\u001b[0m     \u001b[0;32mdef\u001b[0m \u001b[0mqsize\u001b[0m\u001b[0;34m(\u001b[0m\u001b[0mself\u001b[0m\u001b[0;34m)\u001b[0m\u001b[0;34m:\u001b[0m\u001b[0;34m\u001b[0m\u001b[0;34m\u001b[0m\u001b[0m\n",
            "\u001b[0;32m/usr/local/lib/python3.11/dist-packages/torch/multiprocessing/reductions.py\u001b[0m in \u001b[0;36mrebuild_storage_fd\u001b[0;34m(cls, df, size)\u001b[0m\n\u001b[1;32m    539\u001b[0m \u001b[0;34m\u001b[0m\u001b[0m\n\u001b[1;32m    540\u001b[0m \u001b[0;32mdef\u001b[0m \u001b[0mrebuild_storage_fd\u001b[0m\u001b[0;34m(\u001b[0m\u001b[0mcls\u001b[0m\u001b[0;34m,\u001b[0m \u001b[0mdf\u001b[0m\u001b[0;34m,\u001b[0m \u001b[0msize\u001b[0m\u001b[0;34m)\u001b[0m\u001b[0;34m:\u001b[0m\u001b[0;34m\u001b[0m\u001b[0;34m\u001b[0m\u001b[0m\n\u001b[0;32m--> 541\u001b[0;31m     \u001b[0mfd\u001b[0m \u001b[0;34m=\u001b[0m \u001b[0mdf\u001b[0m\u001b[0;34m.\u001b[0m\u001b[0mdetach\u001b[0m\u001b[0;34m(\u001b[0m\u001b[0;34m)\u001b[0m\u001b[0;34m\u001b[0m\u001b[0;34m\u001b[0m\u001b[0m\n\u001b[0m\u001b[1;32m    542\u001b[0m     \u001b[0;32mtry\u001b[0m\u001b[0;34m:\u001b[0m\u001b[0;34m\u001b[0m\u001b[0;34m\u001b[0m\u001b[0m\n\u001b[1;32m    543\u001b[0m         \u001b[0mstorage\u001b[0m \u001b[0;34m=\u001b[0m \u001b[0mstorage_from_cache\u001b[0m\u001b[0;34m(\u001b[0m\u001b[0mcls\u001b[0m\u001b[0;34m,\u001b[0m \u001b[0mfd_id\u001b[0m\u001b[0;34m(\u001b[0m\u001b[0mfd\u001b[0m\u001b[0;34m)\u001b[0m\u001b[0;34m)\u001b[0m\u001b[0;34m\u001b[0m\u001b[0;34m\u001b[0m\u001b[0m\n",
            "\u001b[0;32m/usr/lib/python3.11/multiprocessing/resource_sharer.py\u001b[0m in \u001b[0;36mdetach\u001b[0;34m(self)\u001b[0m\n\u001b[1;32m     56\u001b[0m             \u001b[0;34m'''Get the fd.  This should only be called once.'''\u001b[0m\u001b[0;34m\u001b[0m\u001b[0;34m\u001b[0m\u001b[0m\n\u001b[1;32m     57\u001b[0m             \u001b[0;32mwith\u001b[0m \u001b[0m_resource_sharer\u001b[0m\u001b[0;34m.\u001b[0m\u001b[0mget_connection\u001b[0m\u001b[0;34m(\u001b[0m\u001b[0mself\u001b[0m\u001b[0;34m.\u001b[0m\u001b[0m_id\u001b[0m\u001b[0;34m)\u001b[0m \u001b[0;32mas\u001b[0m \u001b[0mconn\u001b[0m\u001b[0;34m:\u001b[0m\u001b[0;34m\u001b[0m\u001b[0;34m\u001b[0m\u001b[0m\n\u001b[0;32m---> 58\u001b[0;31m                 \u001b[0;32mreturn\u001b[0m \u001b[0mreduction\u001b[0m\u001b[0;34m.\u001b[0m\u001b[0mrecv_handle\u001b[0m\u001b[0;34m(\u001b[0m\u001b[0mconn\u001b[0m\u001b[0;34m)\u001b[0m\u001b[0;34m\u001b[0m\u001b[0;34m\u001b[0m\u001b[0m\n\u001b[0m\u001b[1;32m     59\u001b[0m \u001b[0;34m\u001b[0m\u001b[0m\n\u001b[1;32m     60\u001b[0m \u001b[0;34m\u001b[0m\u001b[0m\n",
            "\u001b[0;32m/usr/lib/python3.11/multiprocessing/reduction.py\u001b[0m in \u001b[0;36mrecv_handle\u001b[0;34m(conn)\u001b[0m\n\u001b[1;32m    187\u001b[0m         \u001b[0;34m'''Receive a handle over a local connection.'''\u001b[0m\u001b[0;34m\u001b[0m\u001b[0;34m\u001b[0m\u001b[0m\n\u001b[1;32m    188\u001b[0m         \u001b[0;32mwith\u001b[0m \u001b[0msocket\u001b[0m\u001b[0;34m.\u001b[0m\u001b[0mfromfd\u001b[0m\u001b[0;34m(\u001b[0m\u001b[0mconn\u001b[0m\u001b[0;34m.\u001b[0m\u001b[0mfileno\u001b[0m\u001b[0;34m(\u001b[0m\u001b[0;34m)\u001b[0m\u001b[0;34m,\u001b[0m \u001b[0msocket\u001b[0m\u001b[0;34m.\u001b[0m\u001b[0mAF_UNIX\u001b[0m\u001b[0;34m,\u001b[0m \u001b[0msocket\u001b[0m\u001b[0;34m.\u001b[0m\u001b[0mSOCK_STREAM\u001b[0m\u001b[0;34m)\u001b[0m \u001b[0;32mas\u001b[0m \u001b[0ms\u001b[0m\u001b[0;34m:\u001b[0m\u001b[0;34m\u001b[0m\u001b[0;34m\u001b[0m\u001b[0m\n\u001b[0;32m--> 189\u001b[0;31m             \u001b[0;32mreturn\u001b[0m \u001b[0mrecvfds\u001b[0m\u001b[0;34m(\u001b[0m\u001b[0ms\u001b[0m\u001b[0;34m,\u001b[0m \u001b[0;36m1\u001b[0m\u001b[0;34m)\u001b[0m\u001b[0;34m[\u001b[0m\u001b[0;36m0\u001b[0m\u001b[0;34m]\u001b[0m\u001b[0;34m\u001b[0m\u001b[0;34m\u001b[0m\u001b[0m\n\u001b[0m\u001b[1;32m    190\u001b[0m \u001b[0;34m\u001b[0m\u001b[0m\n\u001b[1;32m    191\u001b[0m     \u001b[0;32mdef\u001b[0m \u001b[0mDupFd\u001b[0m\u001b[0;34m(\u001b[0m\u001b[0mfd\u001b[0m\u001b[0;34m)\u001b[0m\u001b[0;34m:\u001b[0m\u001b[0;34m\u001b[0m\u001b[0;34m\u001b[0m\u001b[0m\n",
            "\u001b[0;32m/usr/lib/python3.11/multiprocessing/reduction.py\u001b[0m in \u001b[0;36mrecvfds\u001b[0;34m(sock, size)\u001b[0m\n\u001b[1;32m    155\u001b[0m         \u001b[0ma\u001b[0m \u001b[0;34m=\u001b[0m \u001b[0marray\u001b[0m\u001b[0;34m.\u001b[0m\u001b[0marray\u001b[0m\u001b[0;34m(\u001b[0m\u001b[0;34m'i'\u001b[0m\u001b[0;34m)\u001b[0m\u001b[0;34m\u001b[0m\u001b[0;34m\u001b[0m\u001b[0m\n\u001b[1;32m    156\u001b[0m         \u001b[0mbytes_size\u001b[0m \u001b[0;34m=\u001b[0m \u001b[0ma\u001b[0m\u001b[0;34m.\u001b[0m\u001b[0mitemsize\u001b[0m \u001b[0;34m*\u001b[0m \u001b[0msize\u001b[0m\u001b[0;34m\u001b[0m\u001b[0;34m\u001b[0m\u001b[0m\n\u001b[0;32m--> 157\u001b[0;31m         \u001b[0mmsg\u001b[0m\u001b[0;34m,\u001b[0m \u001b[0mancdata\u001b[0m\u001b[0;34m,\u001b[0m \u001b[0mflags\u001b[0m\u001b[0;34m,\u001b[0m \u001b[0maddr\u001b[0m \u001b[0;34m=\u001b[0m \u001b[0msock\u001b[0m\u001b[0;34m.\u001b[0m\u001b[0mrecvmsg\u001b[0m\u001b[0;34m(\u001b[0m\u001b[0;36m1\u001b[0m\u001b[0;34m,\u001b[0m \u001b[0msocket\u001b[0m\u001b[0;34m.\u001b[0m\u001b[0mCMSG_SPACE\u001b[0m\u001b[0;34m(\u001b[0m\u001b[0mbytes_size\u001b[0m\u001b[0;34m)\u001b[0m\u001b[0;34m)\u001b[0m\u001b[0;34m\u001b[0m\u001b[0;34m\u001b[0m\u001b[0m\n\u001b[0m\u001b[1;32m    158\u001b[0m         \u001b[0;32mif\u001b[0m \u001b[0;32mnot\u001b[0m \u001b[0mmsg\u001b[0m \u001b[0;32mand\u001b[0m \u001b[0;32mnot\u001b[0m \u001b[0mancdata\u001b[0m\u001b[0;34m:\u001b[0m\u001b[0;34m\u001b[0m\u001b[0;34m\u001b[0m\u001b[0m\n\u001b[1;32m    159\u001b[0m             \u001b[0;32mraise\u001b[0m \u001b[0mEOFError\u001b[0m\u001b[0;34m\u001b[0m\u001b[0;34m\u001b[0m\u001b[0m\n",
            "\u001b[0;31mKeyboardInterrupt\u001b[0m: "
          ]
        }
      ]
    },
    {
      "cell_type": "markdown",
      "source": [
        "#### **Tableau pour la précision sur l'ensemble de validation**\n",
        "N.B. que les lignes correspondent aux valeurs du taux d'apprentisage et les colonnes correspondent au valeur du batch size. Les valeurs ci-dessous sont donné comme exemples; remplacez-les par les valeurs que vous avez utilisées pour votre recherche d'hyperparamètres.\n",
        "\n",
        "learning rate\\batch_size  | 5       | 25     | 50     | 300    | 500 |\n",
        "--------------------------|---------|--------|--------|--------|-----|\n",
        "**1**                     | 83.150   | 83.100  | 83.450  | 82.033  | 80.750 |\n",
        "**0.1**                   | 83.133   | 81.217  | 82.933  | 81.350  | 80.300 |\n",
        "**0.01**                  | 83.033   | 82.917  | 83.617  | 83.883  | 79.250 |\n",
        "**0.001**                 | 84.517   | 84.000  | 84.400 | 83.883  | 79.083 |\n",
        "**0.0001**                | 81.400   | 80.683  | 81.633  | 81.067  | 81.200 |"
      ],
      "metadata": {
        "id": "AmvtxoLo9pcF"
      }
    },
    {
      "cell_type": "markdown",
      "source": [
        "### SGD: Analyse du meilleur modèle"
      ],
      "metadata": {
        "id": "8PvrqlWt9pcG"
      }
    },
    {
      "cell_type": "code",
      "metadata": {
        "id": "uQ8Vc8JM9pcG",
        "colab": {
          "base_uri": "https://localhost:8080/",
          "height": 755
        },
        "outputId": "22aabbef-007a-4a1b-a912-19375ae3a1a9"
      },
      "source": [
        "# SGD\n",
        "# Montrez les résultats pour la meilleure configuration trouvez ci-dessus.\n",
        "batch_size = 5 # TODO: Vous devez modifier cette valeur avec la meilleur que vous avez eu.\n",
        "lr = 0.001         # TODO: Vous devez modifier cette valeur avec la meilleur que vous avez eu.\n",
        "\n",
        "with torch.no_grad():\n",
        "  data_loader_train, data_loader_val, data_loader_test = get_fashion_mnist_dataloaders(val_percentage=0.1, batch_size=batch_size)\n",
        "\n",
        "  model = LinearModel(num_features=784, num_classes=10)\n",
        "  best_model, best_val_accuracy, logger = train(model,lr=lr, nb_epochs=5, sgd=True,\n",
        "                                                data_loader_train=data_loader_train, data_loader_val=data_loader_val)\n",
        "  logger.plot_loss_and_accuracy()\n",
        "  print(f\"Best validation accuracy = {best_val_accuracy*100:.3f}\")\n",
        "\n",
        "  accuracy_test, loss_test = accuracy_and_loss_whole_dataset(data_loader_test, best_model)\n",
        "print(\"Evaluation of the best training model over test set\")\n",
        "print(\"------\")\n",
        "print(f\"Loss : {loss_test:.3f}\")\n",
        "print(f\"Accuracy : {accuracy_test*100.:.3f}\")"
      ],
      "execution_count": null,
      "outputs": [
        {
          "output_type": "stream",
          "name": "stdout",
          "text": [
            "Epoch  0,                 Train: loss=0.461, accuracy=13.9%,                 Valid: loss=0.461, accuracy=13.3%\n",
            "Epoch  1,                 Train: loss=0.105, accuracy=82.7%,                 Valid: loss=0.108, accuracy=82.1%\n",
            "Epoch  2,                 Train: loss=0.097, accuracy=83.4%,                 Valid: loss=0.101, accuracy=82.7%\n",
            "Epoch  3,                 Train: loss=0.092, accuracy=84.5%,                 Valid: loss=0.096, accuracy=84.3%\n",
            "Epoch  4,                 Train: loss=0.089, accuracy=84.9%,                 Valid: loss=0.094, accuracy=83.9%\n",
            "Epoch  5,                 Train: loss=0.088, accuracy=85.0%,                 Valid: loss=0.093, accuracy=84.5%\n",
            "Best validation accuracy = 84.467\n",
            "Evaluation of the best training model over test set\n",
            "------\n",
            "Loss : 0.096\n",
            "Accuracy : 83.450\n"
          ]
        },
        {
          "output_type": "display_data",
          "data": {
            "text/plain": [
              "<Figure size 1200x600 with 2 Axes>"
            ],
            "image/png": "[encoded data removed]"
          },
          "metadata": {}
        }
      ]
    },
    {
      "cell_type": "markdown",
      "source": [
        "### Adam: Recherche d'hyperparamètres\n",
        "\n",
        "Implémentez Adam, répétez les deux étapes précédentes (recherche d'hyperparamètres et analyse du meilleur modèle) cette fois en utilisat Adam, et comparez les performances finales avec votre meilleur modèle SGD."
      ],
      "metadata": {
        "id": "BOZXfA919pcH"
      }
    },
    {
      "cell_type": "code",
      "source": [
        "# ADAM\n",
        "# Montrez les résultats pour différents taux d'apprentissage, e.g. 0.1, 0.01, 0.001, et différentes tailles de mini-batch, e.g. 1, 20, 200, 1000.\n",
        "batch_size_list = [5, 25, 50, 300, 500]   # Define ranges in a list\n",
        "lr_list = [1, 0.1, 0.01, 0.001, 0.0001]            # Define ranges in a list\n",
        "\n",
        "with torch.no_grad():\n",
        "  for lr in lr_list:\n",
        "    for batch_size in batch_size_list:\n",
        "      print(\"------------------------------------------------------------------\")\n",
        "      print(\"Training model with a learning rate of {0} and a batch size of {1}\".format(lr, batch_size))\n",
        "      data_loader_train, data_loader_val, data_loader_test = get_fashion_mnist_dataloaders(val_percentage=0.1, batch_size=batch_size)\n",
        "\n",
        "      model = LinearModel(num_features=784, num_classes=10)\n",
        "      _, val_accuracy, _ = train(model,lr=lr, nb_epochs=5, sgd=False, data_loader_train=data_loader_train, data_loader_val=data_loader_val)\n",
        "      print(f\"validation accuracy = {val_accuracy*100:.3f}\")"
      ],
      "metadata": {
        "id": "Ze9D0Zpi9pcI",
        "colab": {
          "base_uri": "https://localhost:8080/"
        },
        "outputId": "d6141156-c142-4aab-b9fb-172ab1b7cbc7"
      },
      "execution_count": null,
      "outputs": [
        {
          "output_type": "stream",
          "name": "stdout",
          "text": [
            "------------------------------------------------------------------\n",
            "Training model with a learning rate of 1 and a batch size of 5\n"
          ]
        },
        {
          "output_type": "stream",
          "name": "stderr",
          "text": [
            "/usr/local/lib/python3.11/dist-packages/torch/utils/data/dataloader.py:617: UserWarning: This DataLoader will create 4 worker processes in total. Our suggested max number of worker in current system is 2, which is smaller than what this DataLoader is going to create. Please be aware that excessive worker creation might get DataLoader running slow or even freeze, lower the worker number to avoid potential slowness/freeze if necessary.\n",
            "  warnings.warn(\n"
          ]
        },
        {
          "output_type": "stream",
          "name": "stdout",
          "text": [
            "Epoch  0,                 Train: loss=0.456, accuracy=18.6%,                 Valid: loss=0.456, accuracy=18.9%\n",
            "Epoch  1,                 Train: loss=0.731, accuracy=79.1%,                 Valid: loss=0.767, accuracy=78.3%\n",
            "Epoch  2,                 Train: loss=0.742, accuracy=78.9%,                 Valid: loss=0.797, accuracy=77.6%\n",
            "Epoch  3,                 Train: loss=0.734, accuracy=79.1%,                 Valid: loss=0.778, accuracy=78.0%\n",
            "Epoch  4,                 Train: loss=0.598, accuracy=82.8%,                 Valid: loss=0.663, accuracy=81.2%\n",
            "Epoch  5,                 Train: loss=0.516, accuracy=85.2%,                 Valid: loss=0.597, accuracy=82.8%\n",
            "validation accuracy = 82.850\n",
            "------------------------------------------------------------------\n",
            "Training model with a learning rate of 1 and a batch size of 25\n",
            "Epoch  0,                 Train: loss=0.092, accuracy=11.1%,                 Valid: loss=0.092, accuracy=11.2%\n",
            "Epoch  1,                 Train: loss=0.120, accuracy=81.5%,                 Valid: loss=0.126, accuracy=80.7%\n",
            "Epoch  2,                 Train: loss=0.151, accuracy=78.0%,                 Valid: loss=0.155, accuracy=77.5%\n",
            "Epoch  3,                 Train: loss=0.128, accuracy=80.3%,                 Valid: loss=0.134, accuracy=79.5%\n",
            "Epoch  4,                 Train: loss=0.117, accuracy=82.2%,                 Valid: loss=0.129, accuracy=80.2%\n",
            "Epoch  5,                 Train: loss=0.115, accuracy=82.1%,                 Valid: loss=0.126, accuracy=80.9%\n",
            "validation accuracy = 80.867\n",
            "------------------------------------------------------------------\n",
            "Training model with a learning rate of 1 and a batch size of 50\n",
            "Epoch  0,                 Train: loss=0.046, accuracy=20.3%,                 Valid: loss=0.046, accuracy=20.0%\n",
            "Epoch  1,                 Train: loss=0.075, accuracy=76.5%,                 Valid: loss=0.077, accuracy=75.7%\n",
            "Epoch  2,                 Train: loss=0.070, accuracy=78.4%,                 Valid: loss=0.069, accuracy=79.0%\n",
            "Epoch  3,                 Train: loss=0.054, accuracy=82.4%,                 Valid: loss=0.056, accuracy=81.8%\n",
            "Epoch  4,                 Train: loss=0.049, accuracy=83.2%,                 Valid: loss=0.052, accuracy=82.6%\n",
            "Epoch  5,                 Train: loss=0.060, accuracy=80.6%,                 Valid: loss=0.064, accuracy=79.7%\n",
            "validation accuracy = 82.583\n",
            "------------------------------------------------------------------\n",
            "Training model with a learning rate of 1 and a batch size of 300\n",
            "Epoch  0,                 Train: loss=0.008, accuracy=6.3%,                 Valid: loss=0.008, accuracy=6.6%\n",
            "Epoch  1,                 Train: loss=0.009, accuracy=82.1%,                 Valid: loss=0.009, accuracy=81.3%\n",
            "Epoch  2,                 Train: loss=0.008, accuracy=82.6%,                 Valid: loss=0.009, accuracy=81.8%\n",
            "Epoch  3,                 Train: loss=0.008, accuracy=80.1%,                 Valid: loss=0.008, accuracy=80.2%\n",
            "Epoch  4,                 Train: loss=0.009, accuracy=78.8%,                 Valid: loss=0.010, accuracy=77.8%\n",
            "Epoch  5,                 Train: loss=0.006, accuracy=84.3%,                 Valid: loss=0.007, accuracy=83.3%\n",
            "validation accuracy = 83.333\n",
            "------------------------------------------------------------------\n",
            "Training model with a learning rate of 1 and a batch size of 500\n",
            "Epoch  0,                 Train: loss=0.005, accuracy=9.7%,                 Valid: loss=0.005, accuracy=9.2%\n",
            "Epoch  1,                 Train: loss=0.005, accuracy=83.1%,                 Valid: loss=0.005, accuracy=83.1%\n",
            "Epoch  2,                 Train: loss=0.005, accuracy=81.2%,                 Valid: loss=0.005, accuracy=81.1%\n",
            "Epoch  3,                 Train: loss=0.004, accuracy=84.8%,                 Valid: loss=0.004, accuracy=84.0%\n",
            "Epoch  4,                 Train: loss=0.004, accuracy=82.9%,                 Valid: loss=0.004, accuracy=81.9%\n",
            "Epoch  5,                 Train: loss=0.004, accuracy=82.3%,                 Valid: loss=0.004, accuracy=81.8%\n",
            "validation accuracy = 83.950\n",
            "------------------------------------------------------------------\n",
            "Training model with a learning rate of 0.1 and a batch size of 5\n",
            "Epoch  0,                 Train: loss=0.464, accuracy=4.8%,                 Valid: loss=0.464, accuracy=4.4%\n",
            "Epoch  1,                 Train: loss=0.416, accuracy=81.3%,                 Valid: loss=0.459, accuracy=80.0%\n",
            "Epoch  2,                 Train: loss=0.350, accuracy=84.3%,                 Valid: loss=0.405, accuracy=82.3%\n",
            "Epoch  3,                 Train: loss=0.345, accuracy=84.1%,                 Valid: loss=0.408, accuracy=82.5%\n",
            "Epoch  4,                 Train: loss=0.443, accuracy=80.4%,                 Valid: loss=0.494, accuracy=78.6%\n",
            "Epoch  5,                 Train: loss=0.393, accuracy=83.1%,                 Valid: loss=0.472, accuracy=80.7%\n",
            "validation accuracy = 82.533\n",
            "------------------------------------------------------------------\n",
            "Training model with a learning rate of 0.1 and a batch size of 25\n",
            "Epoch  0,                 Train: loss=0.092, accuracy=12.2%,                 Valid: loss=0.092, accuracy=11.7%\n",
            "Epoch  1,                 Train: loss=0.041, accuracy=83.1%,                 Valid: loss=0.042, accuracy=82.5%\n",
            "Epoch  2,                 Train: loss=0.049, accuracy=82.5%,                 Valid: loss=0.052, accuracy=82.3%\n",
            "Epoch  3,                 Train: loss=0.041, accuracy=82.1%,                 Valid: loss=0.044, accuracy=81.8%\n",
            "Epoch  4,                 Train: loss=0.038, accuracy=84.6%,                 Valid: loss=0.043, accuracy=84.6%\n",
            "Epoch  5,                 Train: loss=0.050, accuracy=82.5%,                 Valid: loss=0.054, accuracy=82.0%\n",
            "validation accuracy = 84.617\n",
            "------------------------------------------------------------------\n",
            "Training model with a learning rate of 0.1 and a batch size of 50\n",
            "Epoch  0,                 Train: loss=0.046, accuracy=12.2%,                 Valid: loss=0.046, accuracy=11.5%\n",
            "Epoch  1,                 Train: loss=0.021, accuracy=81.1%,                 Valid: loss=0.023, accuracy=79.6%\n",
            "Epoch  2,                 Train: loss=0.015, accuracy=83.8%,                 Valid: loss=0.016, accuracy=82.1%\n",
            "Epoch  3,                 Train: loss=0.013, accuracy=84.7%,                 Valid: loss=0.016, accuracy=82.9%\n",
            "Epoch  4,                 Train: loss=0.016, accuracy=83.6%,                 Valid: loss=0.019, accuracy=82.5%\n",
            "Epoch  5,                 Train: loss=0.019, accuracy=82.7%,                 Valid: loss=0.022, accuracy=81.2%\n",
            "validation accuracy = 82.933\n",
            "------------------------------------------------------------------\n",
            "Training model with a learning rate of 0.1 and a batch size of 300\n",
            "Epoch  0,                 Train: loss=0.008, accuracy=7.0%,                 Valid: loss=0.008, accuracy=6.7%\n",
            "Epoch  1,                 Train: loss=0.002, accuracy=84.2%,                 Valid: loss=0.002, accuracy=84.0%\n",
            "Epoch  2,                 Train: loss=0.002, accuracy=84.7%,                 Valid: loss=0.002, accuracy=84.2%\n",
            "Epoch  3,                 Train: loss=0.002, accuracy=81.9%,                 Valid: loss=0.002, accuracy=81.7%\n",
            "Epoch  4,                 Train: loss=0.001, accuracy=85.8%,                 Valid: loss=0.002, accuracy=83.8%\n",
            "Epoch  5,                 Train: loss=0.002, accuracy=85.4%,                 Valid: loss=0.002, accuracy=84.3%\n",
            "validation accuracy = 84.283\n",
            "------------------------------------------------------------------\n",
            "Training model with a learning rate of 0.1 and a batch size of 500\n",
            "Epoch  0,                 Train: loss=0.005, accuracy=9.5%,                 Valid: loss=0.005, accuracy=10.2%\n",
            "Epoch  1,                 Train: loss=0.002, accuracy=82.7%,                 Valid: loss=0.002, accuracy=83.1%\n",
            "Epoch  2,                 Train: loss=0.001, accuracy=82.4%,                 Valid: loss=0.001, accuracy=82.0%\n",
            "Epoch  3,                 Train: loss=0.001, accuracy=85.4%,                 Valid: loss=0.001, accuracy=84.8%\n",
            "Epoch  4,                 Train: loss=0.001, accuracy=86.2%,                 Valid: loss=0.001, accuracy=85.5%\n",
            "Epoch  5,                 Train: loss=0.001, accuracy=85.4%,                 Valid: loss=0.001, accuracy=84.7%\n",
            "validation accuracy = 85.550\n",
            "------------------------------------------------------------------\n",
            "Training model with a learning rate of 0.01 and a batch size of 5\n",
            "Epoch  0,                 Train: loss=0.463, accuracy=5.9%,                 Valid: loss=0.463, accuracy=6.1%\n",
            "Epoch  1,                 Train: loss=0.098, accuracy=84.1%,                 Valid: loss=0.104, accuracy=83.3%\n",
            "Epoch  2,                 Train: loss=0.091, accuracy=85.2%,                 Valid: loss=0.100, accuracy=84.0%\n",
            "Epoch  3,                 Train: loss=0.099, accuracy=84.5%,                 Valid: loss=0.113, accuracy=83.2%\n",
            "Epoch  4,                 Train: loss=0.086, accuracy=85.9%,                 Valid: loss=0.099, accuracy=84.1%\n",
            "Epoch  5,                 Train: loss=0.096, accuracy=84.5%,                 Valid: loss=0.109, accuracy=82.9%\n",
            "validation accuracy = 84.117\n",
            "------------------------------------------------------------------\n",
            "Training model with a learning rate of 0.01 and a batch size of 25\n",
            "Epoch  0,                 Train: loss=0.093, accuracy=9.7%,                 Valid: loss=0.093, accuracy=9.8%\n",
            "Epoch  1,                 Train: loss=0.018, accuracy=84.3%,                 Valid: loss=0.020, accuracy=82.8%\n",
            "Epoch  2,                 Train: loss=0.018, accuracy=84.1%,                 Valid: loss=0.020, accuracy=83.2%\n",
            "Epoch  3,                 Train: loss=0.017, accuracy=85.6%,                 Valid: loss=0.019, accuracy=84.9%\n",
            "Epoch  4,                 Train: loss=0.015, accuracy=86.6%,                 Valid: loss=0.018, accuracy=85.4%\n",
            "Epoch  5,                 Train: loss=0.017, accuracy=85.2%,                 Valid: loss=0.020, accuracy=84.2%\n",
            "validation accuracy = 85.383\n",
            "------------------------------------------------------------------\n",
            "Training model with a learning rate of 0.01 and a batch size of 50\n",
            "Epoch  0,                 Train: loss=0.046, accuracy=19.8%,                 Valid: loss=0.046, accuracy=18.8%\n",
            "Epoch  1,                 Train: loss=0.009, accuracy=84.4%,                 Valid: loss=0.010, accuracy=83.5%\n",
            "Epoch  2,                 Train: loss=0.009, accuracy=84.4%,                 Valid: loss=0.010, accuracy=83.8%\n",
            "Epoch  3,                 Train: loss=0.008, accuracy=85.7%,                 Valid: loss=0.009, accuracy=85.0%\n",
            "Epoch  4,                 Train: loss=0.008, accuracy=86.1%,                 Valid: loss=0.009, accuracy=84.8%\n",
            "Epoch  5,                 Train: loss=0.008, accuracy=85.3%,                 Valid: loss=0.009, accuracy=83.7%\n",
            "validation accuracy = 84.950\n",
            "------------------------------------------------------------------\n",
            "Training model with a learning rate of 0.01 and a batch size of 300\n",
            "Epoch  0,                 Train: loss=0.008, accuracy=9.2%,                 Valid: loss=0.008, accuracy=9.0%\n",
            "Epoch  1,                 Train: loss=0.001, accuracy=84.6%,                 Valid: loss=0.002, accuracy=83.8%\n",
            "Epoch  2,                 Train: loss=0.001, accuracy=85.5%,                 Valid: loss=0.002, accuracy=84.3%\n",
            "Epoch  3,                 Train: loss=0.001, accuracy=86.0%,                 Valid: loss=0.001, accuracy=85.2%\n",
            "Epoch  4,                 Train: loss=0.001, accuracy=86.0%,                 Valid: loss=0.002, accuracy=84.8%\n",
            "Epoch  5,                 Train: loss=0.001, accuracy=86.5%,                 Valid: loss=0.001, accuracy=85.1%\n",
            "validation accuracy = 85.167\n",
            "------------------------------------------------------------------\n",
            "Training model with a learning rate of 0.01 and a batch size of 500\n",
            "Epoch  0,                 Train: loss=0.005, accuracy=11.1%,                 Valid: loss=0.005, accuracy=11.2%\n",
            "Epoch  1,                 Train: loss=0.001, accuracy=84.3%,                 Valid: loss=0.001, accuracy=84.0%\n",
            "Epoch  2,                 Train: loss=0.001, accuracy=84.1%,                 Valid: loss=0.001, accuracy=83.6%\n",
            "Epoch  3,                 Train: loss=0.001, accuracy=85.7%,                 Valid: loss=0.001, accuracy=84.7%\n",
            "Epoch  4,                 Train: loss=0.001, accuracy=85.9%,                 Valid: loss=0.001, accuracy=85.3%\n",
            "Epoch  5,                 Train: loss=0.001, accuracy=86.1%,                 Valid: loss=0.001, accuracy=85.4%\n",
            "validation accuracy = 85.417\n",
            "------------------------------------------------------------------\n",
            "Training model with a learning rate of 0.001 and a batch size of 5\n",
            "Epoch  0,                 Train: loss=0.462, accuracy=12.2%,                 Valid: loss=0.463, accuracy=11.7%\n",
            "Epoch  1,                 Train: loss=0.096, accuracy=83.7%,                 Valid: loss=0.099, accuracy=82.6%\n",
            "Epoch  2,                 Train: loss=0.088, accuracy=85.1%,                 Valid: loss=0.092, accuracy=84.2%\n",
            "Epoch  3,                 Train: loss=0.084, accuracy=85.8%,                 Valid: loss=0.089, accuracy=84.5%\n",
            "Epoch  4,                 Train: loss=0.082, accuracy=85.9%,                 Valid: loss=0.088, accuracy=84.9%\n",
            "Epoch  5,                 Train: loss=0.085, accuracy=85.5%,                 Valid: loss=0.089, accuracy=85.0%\n",
            "validation accuracy = 84.983\n",
            "------------------------------------------------------------------\n",
            "Training model with a learning rate of 0.001 and a batch size of 25\n",
            "Epoch  0,                 Train: loss=0.092, accuracy=9.5%,                 Valid: loss=0.092, accuracy=10.0%\n",
            "Epoch  1,                 Train: loss=0.020, accuracy=82.9%,                 Valid: loss=0.021, accuracy=82.4%\n",
            "Epoch  2,                 Train: loss=0.019, accuracy=84.3%,                 Valid: loss=0.019, accuracy=83.7%\n",
            "Epoch  3,                 Train: loss=0.018, accuracy=84.6%,                 Valid: loss=0.018, accuracy=83.8%\n",
            "Epoch  4,                 Train: loss=0.018, accuracy=85.0%,                 Valid: loss=0.018, accuracy=84.5%\n",
            "Epoch  5,                 Train: loss=0.017, accuracy=85.2%,                 Valid: loss=0.018, accuracy=84.1%\n",
            "validation accuracy = 84.517\n",
            "------------------------------------------------------------------\n",
            "Training model with a learning rate of 0.001 and a batch size of 50\n",
            "Epoch  0,                 Train: loss=0.047, accuracy=5.1%,                 Valid: loss=0.047, accuracy=5.5%\n",
            "Epoch  1,                 Train: loss=0.011, accuracy=82.6%,                 Valid: loss=0.011, accuracy=82.0%\n",
            "Epoch  2,                 Train: loss=0.010, accuracy=83.8%,                 Valid: loss=0.010, accuracy=83.2%\n",
            "Epoch  3,                 Train: loss=0.009, accuracy=84.3%,                 Valid: loss=0.010, accuracy=83.3%\n",
            "Epoch  4,                 Train: loss=0.009, accuracy=84.7%,                 Valid: loss=0.009, accuracy=83.8%\n",
            "Epoch  5,                 Train: loss=0.009, accuracy=85.1%,                 Valid: loss=0.009, accuracy=84.2%\n",
            "validation accuracy = 84.167\n",
            "------------------------------------------------------------------\n",
            "Training model with a learning rate of 0.001 and a batch size of 300\n",
            "Epoch  0,                 Train: loss=0.008, accuracy=13.4%,                 Valid: loss=0.008, accuracy=13.0%\n",
            "Epoch  1,                 Train: loss=0.002, accuracy=80.5%,                 Valid: loss=0.002, accuracy=79.3%\n",
            "Epoch  2,                 Train: loss=0.002, accuracy=81.8%,                 Valid: loss=0.002, accuracy=81.0%\n",
            "Epoch  3,                 Train: loss=0.002, accuracy=83.0%,                 Valid: loss=0.002, accuracy=82.1%\n",
            "Epoch  4,                 Train: loss=0.002, accuracy=83.6%,                 Valid: loss=0.002, accuracy=82.8%\n",
            "Epoch  5,                 Train: loss=0.002, accuracy=83.8%,                 Valid: loss=0.002, accuracy=82.7%\n",
            "validation accuracy = 82.767\n",
            "------------------------------------------------------------------\n",
            "Training model with a learning rate of 0.001 and a batch size of 500\n",
            "Epoch  0,                 Train: loss=0.005, accuracy=12.7%,                 Valid: loss=0.005, accuracy=13.2%\n",
            "Epoch  1,                 Train: loss=0.001, accuracy=79.6%,                 Valid: loss=0.001, accuracy=79.5%\n",
            "Epoch  2,                 Train: loss=0.001, accuracy=81.2%,                 Valid: loss=0.001, accuracy=80.9%\n",
            "Epoch  3,                 Train: loss=0.001, accuracy=82.3%,                 Valid: loss=0.001, accuracy=82.0%\n",
            "Epoch  4,                 Train: loss=0.001, accuracy=82.8%,                 Valid: loss=0.001, accuracy=82.5%\n",
            "Epoch  5,                 Train: loss=0.001, accuracy=83.2%,                 Valid: loss=0.001, accuracy=83.0%\n",
            "validation accuracy = 82.967\n",
            "------------------------------------------------------------------\n",
            "Training model with a learning rate of 0.0001 and a batch size of 5\n",
            "Epoch  0,                 Train: loss=0.459, accuracy=9.4%,                 Valid: loss=0.459, accuracy=10.1%\n",
            "Epoch  1,                 Train: loss=0.139, accuracy=76.6%,                 Valid: loss=0.143, accuracy=75.8%\n",
            "Epoch  2,                 Train: loss=0.121, accuracy=80.1%,                 Valid: loss=0.125, accuracy=79.0%\n",
            "Epoch  3,                 Train: loss=0.112, accuracy=81.2%,                 Valid: loss=0.116, accuracy=79.9%\n",
            "Epoch  4,                 Train: loss=0.107, accuracy=82.2%,                 Valid: loss=0.111, accuracy=81.1%\n",
            "Epoch  5,                 Train: loss=0.103, accuracy=82.9%,                 Valid: loss=0.107, accuracy=81.7%\n",
            "validation accuracy = 81.650\n",
            "------------------------------------------------------------------\n",
            "Training model with a learning rate of 0.0001 and a batch size of 25\n",
            "Epoch  0,                 Train: loss=0.092, accuracy=5.1%,                 Valid: loss=0.092, accuracy=5.2%\n",
            "Epoch  1,                 Train: loss=0.034, accuracy=72.9%,                 Valid: loss=0.034, accuracy=72.8%\n",
            "Epoch  2,                 Train: loss=0.029, accuracy=76.0%,                 Valid: loss=0.029, accuracy=75.9%\n",
            "Epoch  3,                 Train: loss=0.027, accuracy=78.2%,                 Valid: loss=0.027, accuracy=78.3%\n",
            "Epoch  4,                 Train: loss=0.025, accuracy=79.4%,                 Valid: loss=0.025, accuracy=79.6%\n",
            "Epoch  5,                 Train: loss=0.024, accuracy=80.1%,                 Valid: loss=0.024, accuracy=80.3%\n",
            "validation accuracy = 80.300\n",
            "------------------------------------------------------------------\n",
            "Training model with a learning rate of 0.0001 and a batch size of 50\n",
            "Epoch  0,                 Train: loss=0.046, accuracy=12.1%,                 Valid: loss=0.046, accuracy=11.7%\n",
            "Epoch  1,                 Train: loss=0.018, accuracy=70.9%,                 Valid: loss=0.019, accuracy=70.5%\n",
            "Epoch  2,                 Train: loss=0.016, accuracy=74.4%,                 Valid: loss=0.016, accuracy=74.0%\n",
            "Epoch  3,                 Train: loss=0.015, accuracy=76.3%,                 Valid: loss=0.015, accuracy=75.6%\n",
            "Epoch  4,                 Train: loss=0.014, accuracy=77.7%,                 Valid: loss=0.014, accuracy=77.1%\n",
            "Epoch  5,                 Train: loss=0.013, accuracy=78.9%,                 Valid: loss=0.013, accuracy=78.1%\n",
            "validation accuracy = 78.133\n",
            "------------------------------------------------------------------\n",
            "Training model with a learning rate of 0.0001 and a batch size of 300\n",
            "Epoch  0,                 Train: loss=0.008, accuracy=5.6%,                 Valid: loss=0.008, accuracy=5.1%\n",
            "Epoch  1,                 Train: loss=0.004, accuracy=67.8%,                 Valid: loss=0.004, accuracy=67.6%\n",
            "Epoch  2,                 Train: loss=0.004, accuracy=69.8%,                 Valid: loss=0.004, accuracy=69.5%\n",
            "Epoch  3,                 Train: loss=0.003, accuracy=71.3%,                 Valid: loss=0.003, accuracy=70.7%\n",
            "Epoch  4,                 Train: loss=0.003, accuracy=72.3%,                 Valid: loss=0.003, accuracy=71.8%\n",
            "Epoch  5,                 Train: loss=0.003, accuracy=73.6%,                 Valid: loss=0.003, accuracy=73.2%\n",
            "validation accuracy = 73.150\n",
            "------------------------------------------------------------------\n",
            "Training model with a learning rate of 0.0001 and a batch size of 500\n",
            "Epoch  0,                 Train: loss=0.005, accuracy=9.1%,                 Valid: loss=0.005, accuracy=9.2%\n",
            "Epoch  1,                 Train: loss=0.003, accuracy=66.1%,                 Valid: loss=0.003, accuracy=65.7%\n",
            "Epoch  2,                 Train: loss=0.002, accuracy=67.8%,                 Valid: loss=0.002, accuracy=67.4%\n",
            "Epoch  3,                 Train: loss=0.002, accuracy=69.0%,                 Valid: loss=0.002, accuracy=68.9%\n",
            "Epoch  4,                 Train: loss=0.002, accuracy=70.7%,                 Valid: loss=0.002, accuracy=70.3%\n",
            "Epoch  5,                 Train: loss=0.002, accuracy=71.6%,                 Valid: loss=0.002, accuracy=71.5%\n",
            "validation accuracy = 71.467\n"
          ]
        }
      ]
    },
    {
      "cell_type": "markdown",
      "source": [
        "#### **Tableau pour la précision sur l'ensemble de validation**\n",
        "N.B. que les lignes correspondent aux valeurs du taux d'apprentisage et les colonnes correspondent au valeur du batch size. Les valeurs ci-dessous sont donné comme exemples; remplacez-les par les valeurs que vous avez utilisées pour votre recherche d'hyperparamètres.\n",
        "\n",
        "learning rate\\batch_size  | 5        | 25      | 50      | 300     | 500    |\n",
        "--------------------------|----------|---------|---------|---------|--------|\n",
        "**1**                     | 82.850   | 80.867  | 82.583  | 83.333  | 83.950 |\n",
        "**0.1**                   | 82.533   | 84.617  | 82.933  | 84.283  | 85.550 |\n",
        "**0.01**                  | 84.117   | 85.383  | 84.950  | 85.167  | 85.417 |\n",
        "**0.001**                 | 84.983   | 84.517  | 84.167  | 82.767  | 82.967 |\n",
        "**0.0001**                | 81.650   | 80.300  | 78.133  | 73.150  | 71.467 |"
      ],
      "metadata": {
        "id": "Cr9_MzpX_CvO"
      }
    },
    {
      "cell_type": "markdown",
      "source": [
        "### Adam: Analyse du meilleur modèle"
      ],
      "metadata": {
        "id": "2Me7IOblUrYw"
      }
    },
    {
      "cell_type": "code",
      "source": [
        "# ADAM\n",
        "# Montrez les résultats pour la meilleure configuration trouvez ci-dessus.\n",
        "batch_size = 500 # TODO: Vous devez modifier cette valeur avec la meilleur que vous avez eu.\n",
        "lr = 0.1         # TODO: Vous devez modifier cette valeur avec la meilleur que vous avez eu.\n",
        "\n",
        "with torch.no_grad():\n",
        "  data_loader_train, data_loader_val, data_loader_test = get_fashion_mnist_dataloaders(val_percentage=0.1, batch_size=batch_size)\n",
        "\n",
        "  model = LinearModel(num_features=784, num_classes=10)\n",
        "  best_model, best_val_accuracy, logger = train(model,lr=lr, nb_epochs=5, sgd=False,\n",
        "                                                data_loader_train=data_loader_train, data_loader_val=data_loader_val)\n",
        "  logger.plot_loss_and_accuracy()\n",
        "  print(f\"Best validation accuracy = {best_val_accuracy*100:.3f}\")\n",
        "\n",
        "  accuracy_test, loss_test = accuracy_and_loss_whole_dataset(data_loader_test, best_model)\n",
        "print(\"Evaluation of the best training model over test set\")\n",
        "print(\"------\")\n",
        "print(f\"Loss : {loss_test:.3f}\")\n",
        "print(f\"Accuracy : {accuracy_test*100.:.3f}\")"
      ],
      "metadata": {
        "id": "Ndf_GP6XPV-U",
        "colab": {
          "base_uri": "https://localhost:8080/",
          "height": 810
        },
        "outputId": "efe1fda4-50f3-40fb-f756-a5c9f2d4eebb"
      },
      "execution_count": null,
      "outputs": [
        {
          "output_type": "stream",
          "name": "stderr",
          "text": [
            "/usr/local/lib/python3.11/dist-packages/torch/utils/data/dataloader.py:617: UserWarning: This DataLoader will create 4 worker processes in total. Our suggested max number of worker in current system is 2, which is smaller than what this DataLoader is going to create. Please be aware that excessive worker creation might get DataLoader running slow or even freeze, lower the worker number to avoid potential slowness/freeze if necessary.\n",
            "  warnings.warn(\n"
          ]
        },
        {
          "output_type": "stream",
          "name": "stdout",
          "text": [
            "Epoch  0,                 Train: loss=0.005, accuracy=11.4%,                 Valid: loss=0.005, accuracy=11.8%\n",
            "Epoch  1,                 Train: loss=0.002, accuracy=84.4%,                 Valid: loss=0.002, accuracy=83.8%\n",
            "Epoch  2,                 Train: loss=0.001, accuracy=84.4%,                 Valid: loss=0.001, accuracy=83.7%\n",
            "Epoch  3,                 Train: loss=0.001, accuracy=85.3%,                 Valid: loss=0.001, accuracy=83.7%\n",
            "Epoch  4,                 Train: loss=0.001, accuracy=86.5%,                 Valid: loss=0.001, accuracy=84.9%\n",
            "Epoch  5,                 Train: loss=0.001, accuracy=85.5%,                 Valid: loss=0.001, accuracy=83.2%\n",
            "Best validation accuracy = 84.850\n",
            "Evaluation of the best training model over test set\n",
            "------\n",
            "Loss : 0.001\n",
            "Accuracy : 83.160\n"
          ]
        },
        {
          "output_type": "display_data",
          "data": {
            "text/plain": [
              "<Figure size 1200x600 with 2 Axes>"
            ],
            "image/png": "[encoded data removed]"
          },
          "metadata": {}
        }
      ]
    },
    {
      "cell_type": "markdown",
      "source": [
        "### Analyse des Résultats"
      ],
      "metadata": {
        "id": "6LRkxtUD_RVd"
      }
    },
    {
      "cell_type": "markdown",
      "source": [
        "Répondez içi..."
      ],
      "metadata": {
        "id": "8NIRJe-8_fbP"
      }
    },
    {
      "cell_type": "markdown",
      "metadata": {
        "id": "IficnxEMMcNo"
      },
      "source": [
        "# Partie 3 (20 points)\n",
        "\n",
        "Pour cette partie, vous pouvez travailler en groupes de 2, mais il faut écrire sa propre dérivation et soumettre son propre rapport. Si vous travaillez avec un partenaire, il faut indiquer leur nom dans votre rapport."
      ]
    },
    {
      "cell_type": "markdown",
      "metadata": {
        "id": "Zmb_putke8pl"
      },
      "source": [
        "### Problème"
      ]
    },
    {
      "cell_type": "markdown",
      "metadata": {
        "id": "CRioLmIDMcP8"
      },
      "source": [
        "![picture](https://drive.google.com/uc?id=17_N7pIrf5pypQKiUh5cM7SX6raZUBcJC)\n",
        "\n",
        "Considérons maintenant un réseau de neurones avec une couche d'entrée avec $D=784$ unités, $L$ couches cachées, chacune avec 300 unités et un vecteur de sortie $\\mathbf{y}$ de dimension $K$. Vous avez $i = 1, .., N$ exemples dans un ensemble d'apprentissage, où chaque ${\\bf x}_i \\in \\mathbb{R}^{784}$ est un vecteur de caractéristiques (features). $\\mathbf{y}$ est un vecteur du type *one-hot* -- un vecteur de zéros avec un seul 1 pour indiquer que la classe $C=k$ dans la dimension $k$. Par exemple, le vecteur $\\mathbf{y}=[0, 1, 0, \\cdots, 0]^T$ représente la deuxième classe. La fonction de perte est donnée par\n",
        "\\begin{equation}\n",
        "\\mathscr{L} = -\\sum_{i=1}^{N}\\sum_{k=1}^{K}y_{k,i}\\log (f_k( {\\bf x}_i )  )\n",
        "\\end{equation}\n",
        "\n",
        "La fonction d'activation de la couche finale a la forme  ${\\bf f} = [f_1, ..., f_K]$ donné par la fonction d'activation softmax:\n",
        "\\begin{equation}\n",
        "f_k( {\\bf a}^{(L+1)}({\\bf x}_i) ) = \\frac{\\exp(a_k^{(L+1)})}{\\sum_{c=1}^{K}\\exp(a_c^{(L+1)})}, \\;\\;\\;\\;\n",
        "\\nonumber\n",
        "\\end{equation}\n",
        "\n",
        "et les couches cachées utilisent une fonction d'activation de type ReLU:\n",
        "\\begin{equation}\n",
        "  {\\bf h}^{(l)}({\\bf a}^{(l)}({\\bf x}_i)) = \\text{ReLU}({\\bf a}^{(l)}({\\bf x}_i) = \\max\\Big(0, \\, \\, {\\bf a}^{(l)}({\\bf x}_i)\\Big)\n",
        "\\end{equation}\n",
        "\n",
        "où ${\\bf a}^{(l)}$ est le vecteur résultant du calcul de la préactivation habituelle ${\\bf a}^{(l)}={\\bf W}^{(l)}{\\bf h}^{(l-1)} + {\\bf b}^{(l)}$, qui pourrait être simplifiée à ${\\boldsymbol \\theta}^{(l)}\\tilde{\\bf h}^{(l-1)}$ en utilisant l'astuce de définir $\\tilde{\\bf h}$ comme ${\\bf h}$ avec un 1 concaténé à la fin du vecteur.\n",
        "\n"
      ]
    },
    {
      "cell_type": "markdown",
      "metadata": {
        "id": "PzMpz3Zse0t9"
      },
      "source": [
        "### Questions"
      ]
    },
    {
      "cell_type": "markdown",
      "metadata": {
        "id": "wK8gnygxMcSh"
      },
      "source": [
        "* a) (10 points) Donnez le pseudocode incluant des *calculs matriciels—vectoriels* détaillés pour l'algorithme de rétropropagation pour calculer le gradient pour les paramètres de chaque couche **étant donné un exemple d'entraînement**."
      ]
    },
    {
      "cell_type": "markdown",
      "metadata": {
        "id": "Y431_w4gMcX2"
      },
      "source": [
        "* b) (15 points)\n",
        "Implémentez l'optimisation basée sur le gradient de ce réseau en Pytorch.\n",
        "Utilisez le code squelette ci-dessous comme point de départ et implémentez les mathématiques de l'algorithme de rétropropagation que vous avez décrit à la question précédente. Comparez vos gradients et votre optimisation avec le même modèle optimisé avec Autograd. Lequel est le plus rapide ? Proposez quelques expériences. Utilisez encore l'ensemble de données de Fashion MNIST (voir Partie 2). **Comparez différents modèles ayant différentes largeurs (nombre d'unités) et profondeurs (nombre de couches)**. Ici encore, n'utilisez l'ensemble de test que pour votre expérience finale lorsque vous pensez avoir obtenu votre meilleur modèle.\n",
        "\n",
        "\n",
        "**IMPORTANT**\n",
        "\n",
        "L'objectif du TP est de vous faire implémenter la rétropropagation à la main. L'objectif est d'implémenter un modèle de classification logistique ainsi que son entainement en utilisant uniquement des opérations matricielles de base fournies par PyTorch e.g. torch.sum(), torch.matmul(), etc. **Une fois que vous avez implémenté votre modèle, vous devez le comparer avec un modèle construit en utilisant les capacités de pytorch qui permettent une différenciation automatique. Autrement dit, pour la deuxième implémentation, vous pouvez utilisertorch.nn, torch.autograd ou à la méthode .backward().** Vous pouvez utiliser l’implémentation de votre choix pour explorer différentes architectures de modèles."
      ]
    },
    {
      "cell_type": "markdown",
      "source": [
        "## Votre pseudocode:"
      ],
      "metadata": {
        "id": "F1mpuG2cwER-"
      }
    },
    {
      "cell_type": "markdown",
      "source": [
        "#### Algorithme de rétropopagation dans un réseau de neurones pour un exemple $\\tilde{x}_i$:\n",
        "\n",
        "1. TODO\n",
        "2. TODO\n",
        "3. TODO..."
      ],
      "metadata": {
        "id": "qY2X9goYwMDs"
      }
    },
    {
      "cell_type": "markdown",
      "source": [
        "## Fonctions à compléter"
      ],
      "metadata": {
        "id": "SIQJD-TRwEdo"
      }
    },
    {
      "cell_type": "code",
      "metadata": {
        "id": "JzIQ0S4qDPKJ"
      },
      "source": [
        "''' Les fonctions dans cette cellule peuvent avoir les mêmes déclarations que celles de la partie 2'''\n",
        "def accuracy(y, y_pred) :\n",
        "    # todo : nombre d'éléments à classifier.\n",
        "    card_D = len(y)\n",
        "\n",
        "    # todo : calcul du nombre d'éléments bien classifiés.\n",
        "    y_pred_classes = torch.argmax(y_pred, dim=1)  # Indices des classes prédictes\n",
        "    y_true_classes = torch.argmax(y, dim=1)       # Indices des classes vraies\n",
        "    card_C = (y_pred_classes == y_true_classes).sum().item()\n",
        "\n",
        "    # todo : calcul de la précision de classification.\n",
        "    acc = card_C / card_D\n",
        "\n",
        "    return acc, (card_C, card_D)\n",
        "\n",
        "def accuracy_and_loss_whole_dataset(data_loader, model):\n",
        "    cardinal = 0\n",
        "    loss     = 0.\n",
        "    n_accurate_preds  = 0.\n",
        "\n",
        "    for x, y in data_loader:\n",
        "        x, y = reshape_input(x, y)\n",
        "        y_pred                = model.forward(x)\n",
        "        xentrp                = cross_entropy(y, y_pred)\n",
        "        _, (n_acc, n_samples) = accuracy(y, y_pred)\n",
        "\n",
        "        cardinal = cardinal + n_samples\n",
        "        loss     = loss + xentrp\n",
        "        n_accurate_preds  = n_accurate_preds + n_acc\n",
        "\n",
        "    loss = loss / float(cardinal)\n",
        "    acc  = n_accurate_preds / float(cardinal)\n",
        "\n",
        "    return acc, loss\n",
        "\n",
        "def inputs_tilde(x, axis=-1):\n",
        "    # augments the inputs `x` with ones along `axis`\n",
        "    # todo : implémenter code ici.\n",
        "    # On concatène une colonne de 1 pour le biais\n",
        "    ones = torch.ones(x.shape[0], 1)\n",
        "    x_tilde = torch.cat((x, ones), dim=axis)\n",
        "    return x_tilde\n",
        "\n",
        "def softmax(x, axis=-1):\n",
        "    # assurez vous que la fonction est numeriquement stable\n",
        "    # e.g. softmax(np.array([1000, 10000, 100000], ndim=2))\n",
        "    # todo : calcul des valeurs de softmax(x)\n",
        "\n",
        "    #On assume que les d'entrées sont les suivantes :\n",
        "\n",
        "    # x = [x_1, x_2 ... x_batchSize]\n",
        "    # x_1 = [w_observ1_classe0 . x_observ1_classe0 + b_observ1_classe0, w_observ1_classe1 . x_observ1_classe1 + b_observ1_classe1, ...]  (logit pour les différentes classes)\n",
        "\n",
        "    # Pour la stabilité comme softmax(x_i) = [exp(x_i[0]), exp(x_i[1]), ... , exp(x_i[K])] / sum(exp(x_i))\n",
        "    # si on divise en haut et en base bar exp(max(x_i)) on toujours l'égalité donc on peut juste retranché le logit le plus grand pour chaque batch afin d'avoir aucun exponentiel > 1 (non stable) à caculer\n",
        "\n",
        "    x_max = torch.amax(x, dim=axis, keepdim=True)\n",
        "    x_exp = torch.exp(x - x_max)\n",
        "    sum_exp = torch.sum(x_exp, dim=axis, keepdim=True)\n",
        "    values = x_exp / sum_exp\n",
        "    return values\n",
        "\n",
        "def cross_entropy(y, y_pred):\n",
        "    # todo : calcul de la valeur d'entropie croisée.\n",
        "    loss = -torch.sum(y * torch.log(y_pred + 1e-8)) / y.shape[0]\n",
        "    return loss\n",
        "\n",
        "def softmax_cross_entropy_backward(y, y_pred):\n",
        "     # todo : calcul de la valeur du gradient de l'entropie croisée composée avec `softmax`\n",
        "     # On a L = -\\sum_k y_k log(softmax_k) et on a montré que ce gradiant par rapport aux pré-activation (les a^(L+1) avant le softmax) donne\n",
        "     # dL/da^(L+1) = -\\Delta^(L+1) = -(y-y_pred)\n",
        "\n",
        "     y_pred = torch.clamp(y_pred, min=1e-12, max=1-1e-12)\n",
        "     values = -(y-y_pred)\n",
        "     return values\n",
        "\n",
        "def relu_forward(x):\n",
        "    # todo : calcul des valeurs de relu(x)\n",
        "    # Relu c'est juste le max valeurs par valeurs entre 0 et les valeurs de x, on évite d'utiliser torch.relu pour essayer de tout faire le plus possible à la main pour bien comprendre\n",
        "    values = torch.maximum(x, torch.tensor(0.0))\n",
        "    return values\n",
        "\n",
        "def relu_backward(x):\n",
        "    # todo : calcul des valeurs du gradient de la fonction `relu`\n",
        "    values = (x > 0).float()  # 1 si x > 0, sinon 0\n",
        "    return values\n",
        "\n",
        "\n",
        "# Model est une classe representant votre reseaux de neuronnes\n",
        "class MLPModel:\n",
        "    def __init__(self, n_features, n_hidden_features, n_hidden_layers, n_classes):\n",
        "        self.n_features        = n_features\n",
        "        self.n_hidden_features = n_hidden_features\n",
        "        self.n_hidden_layers   = n_hidden_layers\n",
        "        self.n_classes         = n_classes\n",
        "\n",
        "        # todo : initialiser la liste des paramètres Teta de l'estimateur.\n",
        "\n",
        "\n",
        "        self.params = []\n",
        "\n",
        "        # première couche theta^(1) : (n_hidden_features, n_features+1)\n",
        "        self.params.append(torch.randn(n_hidden_features, n_features+1) * torch.sqrt(torch.tensor(2.0 / (n_features+1))))\n",
        "\n",
        "        # Couches cachées theta^(l) : (n_hidden_features, n_hidden_features + 1)\n",
        "        for _ in range(n_hidden_layers - 1):\n",
        "            self.params.append(torch.randn(n_hidden_features, n_hidden_features + 1) * torch.sqrt(torch.tensor(2.0 / (n_hidden_features + 1))))\n",
        "\n",
        "        # dernière couche theta^(L+1) : (n_classes, n_hidden_features + 1)\n",
        "        self.params.append(torch.randn(n_classes, n_hidden_features + 1) * torch.sqrt(torch.tensor(2.0 / (n_hidden_features + 1))))\n",
        "\n",
        "\n",
        "\n",
        "        print(f\"Teta params={[p.shape for p in self.params]}\")\n",
        "\n",
        "        self.a = None # liste contenant le resultat des multiplications matricielles\n",
        "        self.h = None # liste contenant le resultat des fonctions d'activations\n",
        "\n",
        "        self.t = 0\n",
        "        self.m_t = 0 # pour Adam: moyennes mobiles du gradient\n",
        "        self.v_t = 0 # pour Adam: moyennes mobiles du carré du gradient\n",
        "\n",
        "    def forward(self, x):\n",
        "      self.a = []\n",
        "      self.h = []\n",
        "      h = inputs_tilde(x, 1)\n",
        "      h = torch.transpose(h, 0, 1)\n",
        "      self.h.append(h)\n",
        "\n",
        "      for theta in self.params[:-1]:\n",
        "        a = torch.matmul(theta, h)\n",
        "        self.a.append(a)\n",
        "        h = relu_forward(a)\n",
        "        h = torch.transpose(h, 0, 1)\n",
        "        h = inputs_tilde(h, 1)\n",
        "        h = torch.transpose(h, 0, 1)\n",
        "        self.h.append(h)\n",
        "\n",
        "      outputs = torch.matmul(self.params[-1], h)\n",
        "      self.a.append(outputs)\n",
        "      outputs = softmax(outputs)\n",
        "      return torch.transpose(outputs, 0, 1)\n",
        "\n",
        "    def backward(self, y, y_pred):\n",
        "      # todo : implémenter calcul des gradients.\n",
        "\n",
        "      # print(\"self.params : \", len(self.params), self.params[0].shape, self.params[1].shape, self.params[-1].shape)\n",
        "      # print(\"self.a : \", len(self.a), self.a[0].shape, self.a[1].shape, self.a[-1].shape)\n",
        "      # print(\"self.h : \", len(self.h), self.h[0].shape, self.h[1].shape, self.h[-1].shape)\n",
        "\n",
        "\n",
        "      delta = torch.transpose(softmax_cross_entropy_backward(y, y_pred),0,1)\n",
        "      deltas = [delta]\n",
        "      grads = []\n",
        "      for i in range(len(self.params)):\n",
        "        l = len(self.params)-1 - i\n",
        "        if l != len(self.params)-1:\n",
        "          #calculer delta^(l) en fonction du suivant delta^(l+1)\n",
        "          dl = relu_backward(self.a[l]) #vecteur issue de la matrice D^(l) issue de dh^(l)/da^(l)\n",
        "          W_next = self.params[l+1][:,:-1]\n",
        "          mult = torch.matmul(torch.transpose(W_next, 0,1), delta) #On est obligé de transposé aussi delta ici car le delta est sous forme ligne au lieu de colonne comme dans les calcules\n",
        "          delta = dl * mult\n",
        "          deltas.append(delta)\n",
        "        grad = -torch.matmul(delta, torch.transpose(self.h[l],0,1))   #pas besoin de mettre h[l-1] car les h sont indicé en décalé par rapport au W et a car on a mis l'input tilde dans h au début et pas l'output\n",
        "        grads.append(grad)\n",
        "\n",
        "      list.reverse(grads)\n",
        "      return grads\n",
        "\n",
        "    def sgd_update(self, lr, grads):\n",
        "      # TODO : implémenter mise à jour des paramètres ici.\n",
        "      # print(f\"grads shapes : {[g.shape for g in grads]}\")\n",
        "      # print(f\"params shapes : {[param.shape for param in self.params]}\")\n",
        "      # print(\"======= . Update . =======\")\n",
        "      # print(f\"grad[0] : {grads[0]} - grad[1] : {grads[1]} - grad[-1] : {grads[-1]}\")\n",
        "      # print(f\"self.params[0] : {self.params[0]} - self.params[1] : {self.params[1]} - self.params[-1] : {self.params[-1]}\")\n",
        "\n",
        "      #Clipping pour empecher le gradiant de diverger\n",
        "      max_norm = 1.0\n",
        "      total_norm = 0\n",
        "      for g in grads:\n",
        "          param_norm = g.data.norm(2)\n",
        "          total_norm += param_norm.item() ** 2\n",
        "      total_norm = total_norm ** 0.5\n",
        "\n",
        "      clip_coef = max_norm / (total_norm + 1e-6)\n",
        "      if clip_coef < 1:\n",
        "          for i in range(len(grads)):\n",
        "              grads[i] = grads[i] * clip_coef\n",
        "\n",
        "\n",
        "\n",
        "\n",
        "      for i in range(len(self.params)):\n",
        "        self.params[i] -= lr * grads[i]\n",
        "\n",
        "\n",
        "    def adam_update(self, lr, grads):\n",
        "      # TODO : implémenter mise à jour des paramètres ici.\n",
        "      pass\n",
        "\n",
        "def train(model, lr=0.1, nb_epochs=10, sgd=True, data_loader_train=None, data_loader_val=None):\n",
        "    best_model = None\n",
        "    best_val_accuracy = 0\n",
        "    logger = Logger()\n",
        "\n",
        "    for epoch in range(nb_epochs+1):\n",
        "\n",
        "        # at epoch 0 evaluate random initial model\n",
        "        #   then for subsequent epochs, do optimize before evaluation.\n",
        "        if epoch > 0:\n",
        "            for x, y in data_loader_train:\n",
        "                x, y = reshape_input(x, y)\n",
        "\n",
        "                y_pred = model.forward(x)\n",
        "                grads  = model.backward(y, y_pred)\n",
        "                if sgd:\n",
        "                  model.sgd_update(lr, grads)\n",
        "                else:\n",
        "                  model.adam_update(lr, grads)\n",
        "\n",
        "        accuracy_train, loss_train = accuracy_and_loss_whole_dataset(data_loader_train, model)\n",
        "        accuracy_val, loss_val = accuracy_and_loss_whole_dataset(data_loader_val, model)\n",
        "\n",
        "        if accuracy_val > best_val_accuracy:\n",
        "          pass   # TODO : record the best model parameters and best validation accuracy\n",
        "\n",
        "        logger.log(accuracy_train, loss_train, accuracy_val, loss_val)\n",
        "        print(f\"Epoch {epoch:2d}, \\\n",
        "                Train:loss={loss_train:.3f}, accuracy={accuracy_train*100:.1f}%, \\\n",
        "                Valid: loss={loss_val:.3f}, accuracy={accuracy_val*100:.1f}%\", flush=True)\n",
        "\n",
        "    return best_model, best_val_accuracy, logger"
      ],
      "execution_count": 35,
      "outputs": []
    },
    {
      "cell_type": "markdown",
      "source": [
        "## Évaluation"
      ],
      "metadata": {
        "id": "tIe9DFvPwuQg"
      }
    },
    {
      "cell_type": "markdown",
      "source": [
        "### SGD: Recherche d'hyperparamètres"
      ],
      "metadata": {
        "id": "ml5jUvG9AUXK"
      }
    },
    {
      "cell_type": "code",
      "source": [
        "# SGD\n",
        "# Montrez les résultats pour différents nombre de couche, e.g. 1, 3, 5, et différent nombres de neurone, e.g. 25, 100, 300, 500, 1000.\n",
        "depth_list = [3]   # Define ranges in a list\n",
        "width_list = [300]   # Define ranges in a list\n",
        "lr = 0.001           # Some value\n",
        "batch_size = 100   # Some value\n",
        "\n",
        "with torch.no_grad():\n",
        "  for depth in depth_list:\n",
        "    for width in width_list:\n",
        "      print(\"------------------------------------------------------------------\")\n",
        "      print(\"Training model with a depth of {0} layers and a width of {1} units\".format(depth, width))\n",
        "      data_loader_train, data_loader_val, data_loader_test = get_fashion_mnist_dataloaders(val_percentage=0.1, batch_size=batch_size)\n",
        "\n",
        "      MLP_model = MLPModel(n_features=784, n_hidden_features=width, n_hidden_layers=depth, n_classes=10)\n",
        "      _, val_accuracy, _ = train(MLP_model,lr=lr, nb_epochs=5, sgd=True, data_loader_train=data_loader_train, data_loader_val=data_loader_val)\n",
        "      print(f\"validation accuracy = {val_accuracy*100:.3f}\")"
      ],
      "metadata": {
        "id": "fe7hyN63AUXL",
        "colab": {
          "base_uri": "https://localhost:8080/",
          "height": 425
        },
        "outputId": "fabb85e0-4809-4c8c-bd69-ea7a878a4723"
      },
      "execution_count": 36,
      "outputs": [
        {
          "output_type": "stream",
          "name": "stdout",
          "text": [
            "------------------------------------------------------------------\n",
            "Training model with a depth of 3 layers and a width of 300 units\n",
            "Teta params=[torch.Size([300, 785]), torch.Size([300, 301]), torch.Size([300, 301]), torch.Size([10, 301])]\n",
            "Epoch  0,                 Train:loss=0.048, accuracy=8.1%,                 Valid: loss=0.048, accuracy=8.3%\n",
            "Epoch  1,                 Train:loss=0.058, accuracy=0.7%,                 Valid: loss=0.058, accuracy=0.7%\n"
          ]
        },
        {
          "output_type": "error",
          "ename": "KeyboardInterrupt",
          "evalue": "",
          "traceback": [
            "\u001b[0;31m---------------------------------------------------------------------------\u001b[0m",
            "\u001b[0;31mKeyboardInterrupt\u001b[0m                         Traceback (most recent call last)",
            "\u001b[0;32m<ipython-input-36-70f138a95ce0>\u001b[0m in \u001b[0;36m<cell line: 0>\u001b[0;34m()\u001b[0m\n\u001b[1;32m     14\u001b[0m \u001b[0;34m\u001b[0m\u001b[0m\n\u001b[1;32m     15\u001b[0m       \u001b[0mMLP_model\u001b[0m \u001b[0;34m=\u001b[0m \u001b[0mMLPModel\u001b[0m\u001b[0;34m(\u001b[0m\u001b[0mn_features\u001b[0m\u001b[0;34m=\u001b[0m\u001b[0;36m784\u001b[0m\u001b[0;34m,\u001b[0m \u001b[0mn_hidden_features\u001b[0m\u001b[0;34m=\u001b[0m\u001b[0mwidth\u001b[0m\u001b[0;34m,\u001b[0m \u001b[0mn_hidden_layers\u001b[0m\u001b[0;34m=\u001b[0m\u001b[0mdepth\u001b[0m\u001b[0;34m,\u001b[0m \u001b[0mn_classes\u001b[0m\u001b[0;34m=\u001b[0m\u001b[0;36m10\u001b[0m\u001b[0;34m)\u001b[0m\u001b[0;34m\u001b[0m\u001b[0;34m\u001b[0m\u001b[0m\n\u001b[0;32m---> 16\u001b[0;31m       \u001b[0m_\u001b[0m\u001b[0;34m,\u001b[0m \u001b[0mval_accuracy\u001b[0m\u001b[0;34m,\u001b[0m \u001b[0m_\u001b[0m \u001b[0;34m=\u001b[0m \u001b[0mtrain\u001b[0m\u001b[0;34m(\u001b[0m\u001b[0mMLP_model\u001b[0m\u001b[0;34m,\u001b[0m\u001b[0mlr\u001b[0m\u001b[0;34m=\u001b[0m\u001b[0mlr\u001b[0m\u001b[0;34m,\u001b[0m \u001b[0mnb_epochs\u001b[0m\u001b[0;34m=\u001b[0m\u001b[0;36m5\u001b[0m\u001b[0;34m,\u001b[0m \u001b[0msgd\u001b[0m\u001b[0;34m=\u001b[0m\u001b[0;32mTrue\u001b[0m\u001b[0;34m,\u001b[0m \u001b[0mdata_loader_train\u001b[0m\u001b[0;34m=\u001b[0m\u001b[0mdata_loader_train\u001b[0m\u001b[0;34m,\u001b[0m \u001b[0mdata_loader_val\u001b[0m\u001b[0;34m=\u001b[0m\u001b[0mdata_loader_val\u001b[0m\u001b[0;34m)\u001b[0m\u001b[0;34m\u001b[0m\u001b[0;34m\u001b[0m\u001b[0m\n\u001b[0m\u001b[1;32m     17\u001b[0m       \u001b[0mprint\u001b[0m\u001b[0;34m(\u001b[0m\u001b[0;34mf\"validation accuracy = {val_accuracy*100:.3f}\"\u001b[0m\u001b[0;34m)\u001b[0m\u001b[0;34m\u001b[0m\u001b[0;34m\u001b[0m\u001b[0m\n",
            "\u001b[0;32m<ipython-input-35-8fb8505dc1cb>\u001b[0m in \u001b[0;36mtrain\u001b[0;34m(model, lr, nb_epochs, sgd, data_loader_train, data_loader_val)\u001b[0m\n\u001b[1;32m    213\u001b[0m                 \u001b[0mx\u001b[0m\u001b[0;34m,\u001b[0m \u001b[0my\u001b[0m \u001b[0;34m=\u001b[0m \u001b[0mreshape_input\u001b[0m\u001b[0;34m(\u001b[0m\u001b[0mx\u001b[0m\u001b[0;34m,\u001b[0m \u001b[0my\u001b[0m\u001b[0;34m)\u001b[0m\u001b[0;34m\u001b[0m\u001b[0;34m\u001b[0m\u001b[0m\n\u001b[1;32m    214\u001b[0m \u001b[0;34m\u001b[0m\u001b[0m\n\u001b[0;32m--> 215\u001b[0;31m                 \u001b[0my_pred\u001b[0m \u001b[0;34m=\u001b[0m \u001b[0mmodel\u001b[0m\u001b[0;34m.\u001b[0m\u001b[0mforward\u001b[0m\u001b[0;34m(\u001b[0m\u001b[0mx\u001b[0m\u001b[0;34m)\u001b[0m\u001b[0;34m\u001b[0m\u001b[0;34m\u001b[0m\u001b[0m\n\u001b[0m\u001b[1;32m    216\u001b[0m                 \u001b[0mgrads\u001b[0m  \u001b[0;34m=\u001b[0m \u001b[0mmodel\u001b[0m\u001b[0;34m.\u001b[0m\u001b[0mbackward\u001b[0m\u001b[0;34m(\u001b[0m\u001b[0my\u001b[0m\u001b[0;34m,\u001b[0m \u001b[0my_pred\u001b[0m\u001b[0;34m)\u001b[0m\u001b[0;34m\u001b[0m\u001b[0;34m\u001b[0m\u001b[0m\n\u001b[1;32m    217\u001b[0m                 \u001b[0;32mif\u001b[0m \u001b[0msgd\u001b[0m\u001b[0;34m:\u001b[0m\u001b[0;34m\u001b[0m\u001b[0;34m\u001b[0m\u001b[0m\n",
            "\u001b[0;32m<ipython-input-35-8fb8505dc1cb>\u001b[0m in \u001b[0;36mforward\u001b[0;34m(self, x)\u001b[0m\n\u001b[1;32m    129\u001b[0m \u001b[0;34m\u001b[0m\u001b[0m\n\u001b[1;32m    130\u001b[0m       \u001b[0;32mfor\u001b[0m \u001b[0mtheta\u001b[0m \u001b[0;32min\u001b[0m \u001b[0mself\u001b[0m\u001b[0;34m.\u001b[0m\u001b[0mparams\u001b[0m\u001b[0;34m[\u001b[0m\u001b[0;34m:\u001b[0m\u001b[0;34m-\u001b[0m\u001b[0;36m1\u001b[0m\u001b[0;34m]\u001b[0m\u001b[0;34m:\u001b[0m\u001b[0;34m\u001b[0m\u001b[0;34m\u001b[0m\u001b[0m\n\u001b[0;32m--> 131\u001b[0;31m         \u001b[0ma\u001b[0m \u001b[0;34m=\u001b[0m \u001b[0mtorch\u001b[0m\u001b[0;34m.\u001b[0m\u001b[0mmatmul\u001b[0m\u001b[0;34m(\u001b[0m\u001b[0mtheta\u001b[0m\u001b[0;34m,\u001b[0m \u001b[0mh\u001b[0m\u001b[0;34m)\u001b[0m\u001b[0;34m\u001b[0m\u001b[0;34m\u001b[0m\u001b[0m\n\u001b[0m\u001b[1;32m    132\u001b[0m         \u001b[0mself\u001b[0m\u001b[0;34m.\u001b[0m\u001b[0ma\u001b[0m\u001b[0;34m.\u001b[0m\u001b[0mappend\u001b[0m\u001b[0;34m(\u001b[0m\u001b[0ma\u001b[0m\u001b[0;34m)\u001b[0m\u001b[0;34m\u001b[0m\u001b[0;34m\u001b[0m\u001b[0m\n\u001b[1;32m    133\u001b[0m         \u001b[0mh\u001b[0m \u001b[0;34m=\u001b[0m \u001b[0mrelu_forward\u001b[0m\u001b[0;34m(\u001b[0m\u001b[0ma\u001b[0m\u001b[0;34m)\u001b[0m\u001b[0;34m\u001b[0m\u001b[0;34m\u001b[0m\u001b[0m\n",
            "\u001b[0;31mKeyboardInterrupt\u001b[0m: "
          ]
        }
      ]
    },
    {
      "cell_type": "markdown",
      "source": [
        "#### **Tableau pour la précision sur l'ensemble de validation**\n",
        "N.B. que les lignes correspondent aux nombre de couche et les colonnes correspondent au nombre de neurone dans chaque couche. Les valeurs ci-dessous sont donné comme exemples; remplacez-les par les valeurs que vous avez utilisées pour votre recherche d'hyperparamètres.\n",
        "\n",
        "depth\\width  | 25 | 100 | 300 | 500 | 1000\n",
        "-------------------|------------------|------------------|------------------|------------------|------------------|\n",
        "**1**   | -  | - | - | - | - |\n",
        "**3** | -  | - | - | - | - |\n",
        "**5**  | -  | - | - | - | - |"
      ],
      "metadata": {
        "id": "QnDMqFapAUXM"
      }
    },
    {
      "cell_type": "markdown",
      "source": [
        "### SGD: Analyse du meilleur modèle"
      ],
      "metadata": {
        "id": "2wuN-uw7AUXN"
      }
    },
    {
      "cell_type": "code",
      "metadata": {
        "id": "CShZ3VB0AUXN"
      },
      "source": [
        "# SGD\n",
        "# Montrez les résultats pour la meilleure configuration trouvez ci-dessus.\n",
        "depth = None    # TODO: Vous devez modifier cette valeur avec la meilleur que vous avez eu.\n",
        "width = None    # TODO: Vous devez modifier cette valeur avec la meilleur que vous avez eu.\n",
        "lr = None           # Some value\n",
        "batch_size = None   # Some value\n",
        "\n",
        "with torch.no_grad():\n",
        "  data_loader_train, data_loader_val, data_loader_test = get_fashion_mnist_dataloaders(val_percentage=0.1, batch_size=batch_size)\n",
        "\n",
        "  MLP_model = MLPModel(n_features=784, n_hidden_features=width, n_hidden_layers=depth, n_classes=10)\n",
        "  best_model, best_val_accuracy, logger = train(MLP_model,lr=lr, nb_epochs=5, sgd=True,\n",
        "                                                data_loader_train=data_loader_train, data_loader_val=data_loader_val)\n",
        "  logger.plot_loss_and_accuracy()\n",
        "  print(f\"Best validation accuracy = {best_val_accuracy*100:.3f}\")\n",
        "\n",
        "  accuracy_test, loss_test = accuracy_and_loss_whole_dataset(data_loader_test, best_model)\n",
        "print(\"Evaluation of the best training model over test set\")\n",
        "print(\"------\")\n",
        "print(f\"Loss : {loss_test:.3f}\")\n",
        "print(f\"Accuracy : {accuracy_test*100.:.3f}\")"
      ],
      "execution_count": null,
      "outputs": []
    },
    {
      "cell_type": "markdown",
      "source": [
        "### Adam: Recherche d'hyperparamètres\n",
        "\n",
        "Implémentez Adam, répétez les deux étapes précédentes (recherche d'hyperparamètres et analyse du meilleur modèle) cette fois en utilisat Adam, et comparez les performances finales avec votre meilleur modèle SGD."
      ],
      "metadata": {
        "id": "_tPLgZriAUXO"
      }
    },
    {
      "cell_type": "code",
      "source": [
        "# ADAM\n",
        "# Montrez les résultats pour différents nombre de couche, e.g. 1, 3, 5, et différent nombres de neurone, e.g. 25, 100, 300, 500, 1000.\n",
        "depth_list = None   # Define ranges in a list\n",
        "width_list = None   # Define ranges in a list\n",
        "lr = None           # Some value\n",
        "batch_size = None   # Some value\n",
        "\n",
        "with torch.no_grad():\n",
        "  for depth in depth_list:\n",
        "    for width in width_list:\n",
        "      print(\"------------------------------------------------------------------\")\n",
        "      print(\"Training model with a depth of {0} layers and a width of {1} units\".format(depth, width))\n",
        "      data_loader_train, data_loader_val, data_loader_test = get_fashion_mnist_dataloaders(val_percentage=0.1, batch_size=batch_size)\n",
        "\n",
        "      MLP_model = MLPModel(n_features=784, n_hidden_features=width, n_hidden_layers=depth, n_classes=10)\n",
        "      _, val_accuracy, _ = train(MLP_model, lr=lr, nb_epochs=5, sgd=False, data_loader_train=data_loader_train, data_loader_val=data_loader_val)\n",
        "      print(f\"validation accuracy = {val_accuracy*100:.3f}\")"
      ],
      "metadata": {
        "id": "tEVOh1r7AUXO"
      },
      "execution_count": null,
      "outputs": []
    },
    {
      "cell_type": "markdown",
      "source": [
        "#### **Tableau pour la précision sur l'ensemble de validation**\n",
        "N.B. que les lignes correspondent aux nombre de couche et les colonnes correspondent au nombre de neurone dans chaque couche. Les valeurs ci-dessous sont donné comme exemples; remplacez-les par les valeurs que vous avez utilisées pour votre recherche d'hyperparamètres.\n",
        "\n",
        "depth\\width  | 25 | 100 | 300 | 500 | 1000\n",
        "-------------------|------------------|------------------|------------------|------------------|------------------|\n",
        "**1**   | -  | - | - | - | - |\n",
        "**3** | -  | - | - | - | - |\n",
        "**5**  | -  | - | - | - | - |"
      ],
      "metadata": {
        "id": "6LQ6q18CAUXP"
      }
    },
    {
      "cell_type": "markdown",
      "source": [
        "### Adam: Analyse du meilleur modèle"
      ],
      "metadata": {
        "id": "df6Y9ziXAUXP"
      }
    },
    {
      "cell_type": "code",
      "source": [
        "# ADAM\n",
        "# Montrez les résultats pour la meilleure configuration trouvez ci-dessus.\n",
        "depth = None    # TODO: Vous devez modifier cette valeur avec la meilleur que vous avez eu.\n",
        "width = None    # TODO: Vous devez modifier cette valeur avec la meilleur que vous avez eu.\n",
        "lr = None           # Some value\n",
        "batch_size = None   # Some value\n",
        "\n",
        "with torch.no_grad():\n",
        "  data_loader_train, data_loader_val, data_loader_test = get_fashion_mnist_dataloaders(val_percentage=0.1, batch_size=batch_size)\n",
        "\n",
        "  MLP_model = MLPModel(n_features=784, n_hidden_features=width, n_hidden_layers=depth, n_classes=10)\n",
        "  best_model, best_val_accuracy, logger = train(MLP_model,lr=lr, nb_epochs=5, sgd=False,\n",
        "                                                data_loader_train=data_loader_train, data_loader_val=data_loader_val)\n",
        "  logger.plot_loss_and_accuracy()\n",
        "  print(f\"Best validation accuracy = {best_val_accuracy*100:.3f}\")\n",
        "\n",
        "  accuracy_test, loss_test = accuracy_and_loss_whole_dataset(data_loader_test, best_model)\n",
        "print(\"Evaluation of the best training model over test set\")\n",
        "print(\"------\")\n",
        "print(f\"Loss : {loss_test:.3f}\")\n",
        "print(f\"Accuracy : {accuracy_test*100.:.3f}\")"
      ],
      "metadata": {
        "id": "uohnWTtoAUXP"
      },
      "execution_count": null,
      "outputs": []
    },
    {
      "cell_type": "markdown",
      "source": [
        "### Analyse des Résultats"
      ],
      "metadata": {
        "id": "-wlDcZB-AUXP"
      }
    },
    {
      "cell_type": "markdown",
      "source": [
        "Répondez içi..."
      ],
      "metadata": {
        "id": "M-Wi3CG3AUXP"
      }
    }
  ]
}